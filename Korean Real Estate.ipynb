{
 "cells": [
  {
   "cell_type": "code",
   "execution_count": 1,
   "metadata": {},
   "outputs": [],
   "source": [
    "import pandas as pd\n",
    "import numpy as np\n",
    "import seaborn as sns\n",
    "import matplotlib.pyplot as plt\n",
    "%matplotlib inline\n"
   ]
  },
  {
   "cell_type": "code",
   "execution_count": 2,
   "metadata": {},
   "outputs": [],
   "source": [
    "data = pd.read_csv('real_estate_data.csv')"
   ]
  },
  {
   "cell_type": "markdown",
   "metadata": {},
   "source": [
    "# Dataset Exploration"
   ]
  },
  {
   "cell_type": "code",
   "execution_count": 3,
   "metadata": {},
   "outputs": [
    {
     "data": {
      "text/html": [
       "<div>\n",
       "<style scoped>\n",
       "    .dataframe tbody tr th:only-of-type {\n",
       "        vertical-align: middle;\n",
       "    }\n",
       "\n",
       "    .dataframe tbody tr th {\n",
       "        vertical-align: top;\n",
       "    }\n",
       "\n",
       "    .dataframe thead th {\n",
       "        text-align: right;\n",
       "    }\n",
       "</style>\n",
       "<table border=\"1\" class=\"dataframe\">\n",
       "  <thead>\n",
       "    <tr style=\"text-align: right;\">\n",
       "      <th></th>\n",
       "      <th>SalePrice</th>\n",
       "      <th>YearBuilt</th>\n",
       "      <th>YrSold</th>\n",
       "      <th>MonthSold</th>\n",
       "      <th>Size(sqf)</th>\n",
       "      <th>Floor</th>\n",
       "      <th>HallwayType</th>\n",
       "      <th>HeatingType</th>\n",
       "      <th>AptManageType</th>\n",
       "      <th>N_Parkinglot(Ground)</th>\n",
       "      <th>...</th>\n",
       "      <th>N_FacilitiesNearBy(Mall)</th>\n",
       "      <th>N_FacilitiesNearBy(ETC)</th>\n",
       "      <th>N_FacilitiesNearBy(Park)</th>\n",
       "      <th>N_SchoolNearBy(Elementary)</th>\n",
       "      <th>N_SchoolNearBy(Middle)</th>\n",
       "      <th>N_SchoolNearBy(High)</th>\n",
       "      <th>N_SchoolNearBy(University)</th>\n",
       "      <th>N_FacilitiesInApt</th>\n",
       "      <th>N_FacilitiesNearBy(Total)</th>\n",
       "      <th>N_SchoolNearBy(Total)</th>\n",
       "    </tr>\n",
       "  </thead>\n",
       "  <tbody>\n",
       "    <tr>\n",
       "      <td>0</td>\n",
       "      <td>141592</td>\n",
       "      <td>2006</td>\n",
       "      <td>2007</td>\n",
       "      <td>8</td>\n",
       "      <td>814</td>\n",
       "      <td>3</td>\n",
       "      <td>terraced</td>\n",
       "      <td>individual_heating</td>\n",
       "      <td>management_in_trust</td>\n",
       "      <td>111.0</td>\n",
       "      <td>...</td>\n",
       "      <td>1.0</td>\n",
       "      <td>1.0</td>\n",
       "      <td>0.0</td>\n",
       "      <td>3.0</td>\n",
       "      <td>2.0</td>\n",
       "      <td>2.0</td>\n",
       "      <td>2.0</td>\n",
       "      <td>5</td>\n",
       "      <td>6.0</td>\n",
       "      <td>9.0</td>\n",
       "    </tr>\n",
       "    <tr>\n",
       "      <td>1</td>\n",
       "      <td>51327</td>\n",
       "      <td>1985</td>\n",
       "      <td>2007</td>\n",
       "      <td>8</td>\n",
       "      <td>587</td>\n",
       "      <td>8</td>\n",
       "      <td>corridor</td>\n",
       "      <td>individual_heating</td>\n",
       "      <td>self_management</td>\n",
       "      <td>80.0</td>\n",
       "      <td>...</td>\n",
       "      <td>1.0</td>\n",
       "      <td>2.0</td>\n",
       "      <td>1.0</td>\n",
       "      <td>2.0</td>\n",
       "      <td>1.0</td>\n",
       "      <td>1.0</td>\n",
       "      <td>0.0</td>\n",
       "      <td>3</td>\n",
       "      <td>12.0</td>\n",
       "      <td>4.0</td>\n",
       "    </tr>\n",
       "    <tr>\n",
       "      <td>2</td>\n",
       "      <td>48672</td>\n",
       "      <td>1985</td>\n",
       "      <td>2007</td>\n",
       "      <td>8</td>\n",
       "      <td>587</td>\n",
       "      <td>6</td>\n",
       "      <td>corridor</td>\n",
       "      <td>individual_heating</td>\n",
       "      <td>self_management</td>\n",
       "      <td>80.0</td>\n",
       "      <td>...</td>\n",
       "      <td>1.0</td>\n",
       "      <td>2.0</td>\n",
       "      <td>1.0</td>\n",
       "      <td>2.0</td>\n",
       "      <td>1.0</td>\n",
       "      <td>1.0</td>\n",
       "      <td>0.0</td>\n",
       "      <td>3</td>\n",
       "      <td>12.0</td>\n",
       "      <td>4.0</td>\n",
       "    </tr>\n",
       "    <tr>\n",
       "      <td>3</td>\n",
       "      <td>380530</td>\n",
       "      <td>2006</td>\n",
       "      <td>2007</td>\n",
       "      <td>8</td>\n",
       "      <td>2056</td>\n",
       "      <td>8</td>\n",
       "      <td>terraced</td>\n",
       "      <td>individual_heating</td>\n",
       "      <td>management_in_trust</td>\n",
       "      <td>249.0</td>\n",
       "      <td>...</td>\n",
       "      <td>1.0</td>\n",
       "      <td>0.0</td>\n",
       "      <td>0.0</td>\n",
       "      <td>2.0</td>\n",
       "      <td>2.0</td>\n",
       "      <td>1.0</td>\n",
       "      <td>2.0</td>\n",
       "      <td>5</td>\n",
       "      <td>3.0</td>\n",
       "      <td>7.0</td>\n",
       "    </tr>\n",
       "    <tr>\n",
       "      <td>4</td>\n",
       "      <td>221238</td>\n",
       "      <td>1993</td>\n",
       "      <td>2007</td>\n",
       "      <td>8</td>\n",
       "      <td>1761</td>\n",
       "      <td>3</td>\n",
       "      <td>mixed</td>\n",
       "      <td>individual_heating</td>\n",
       "      <td>management_in_trust</td>\n",
       "      <td>523.0</td>\n",
       "      <td>...</td>\n",
       "      <td>1.0</td>\n",
       "      <td>5.0</td>\n",
       "      <td>0.0</td>\n",
       "      <td>4.0</td>\n",
       "      <td>3.0</td>\n",
       "      <td>5.0</td>\n",
       "      <td>5.0</td>\n",
       "      <td>4</td>\n",
       "      <td>14.0</td>\n",
       "      <td>17.0</td>\n",
       "    </tr>\n",
       "  </tbody>\n",
       "</table>\n",
       "<p>5 rows × 30 columns</p>\n",
       "</div>"
      ],
      "text/plain": [
       "   SalePrice  YearBuilt  YrSold  MonthSold  Size(sqf)  Floor HallwayType  \\\n",
       "0     141592       2006    2007          8        814      3    terraced   \n",
       "1      51327       1985    2007          8        587      8    corridor   \n",
       "2      48672       1985    2007          8        587      6    corridor   \n",
       "3     380530       2006    2007          8       2056      8    terraced   \n",
       "4     221238       1993    2007          8       1761      3       mixed   \n",
       "\n",
       "          HeatingType        AptManageType  N_Parkinglot(Ground)  ...  \\\n",
       "0  individual_heating  management_in_trust                 111.0  ...   \n",
       "1  individual_heating      self_management                  80.0  ...   \n",
       "2  individual_heating      self_management                  80.0  ...   \n",
       "3  individual_heating  management_in_trust                 249.0  ...   \n",
       "4  individual_heating  management_in_trust                 523.0  ...   \n",
       "\n",
       "   N_FacilitiesNearBy(Mall) N_FacilitiesNearBy(ETC) N_FacilitiesNearBy(Park)  \\\n",
       "0                       1.0                     1.0                      0.0   \n",
       "1                       1.0                     2.0                      1.0   \n",
       "2                       1.0                     2.0                      1.0   \n",
       "3                       1.0                     0.0                      0.0   \n",
       "4                       1.0                     5.0                      0.0   \n",
       "\n",
       "   N_SchoolNearBy(Elementary)  N_SchoolNearBy(Middle)  N_SchoolNearBy(High)  \\\n",
       "0                         3.0                     2.0                   2.0   \n",
       "1                         2.0                     1.0                   1.0   \n",
       "2                         2.0                     1.0                   1.0   \n",
       "3                         2.0                     2.0                   1.0   \n",
       "4                         4.0                     3.0                   5.0   \n",
       "\n",
       "  N_SchoolNearBy(University)  N_FacilitiesInApt  N_FacilitiesNearBy(Total)  \\\n",
       "0                        2.0                  5                        6.0   \n",
       "1                        0.0                  3                       12.0   \n",
       "2                        0.0                  3                       12.0   \n",
       "3                        2.0                  5                        3.0   \n",
       "4                        5.0                  4                       14.0   \n",
       "\n",
       "   N_SchoolNearBy(Total)  \n",
       "0                    9.0  \n",
       "1                    4.0  \n",
       "2                    4.0  \n",
       "3                    7.0  \n",
       "4                   17.0  \n",
       "\n",
       "[5 rows x 30 columns]"
      ]
     },
     "execution_count": 3,
     "metadata": {},
     "output_type": "execute_result"
    }
   ],
   "source": [
    "# general glance at the dataset\n",
    "data.head()"
   ]
  },
  {
   "cell_type": "code",
   "execution_count": 4,
   "metadata": {},
   "outputs": [
    {
     "data": {
      "text/plain": [
       "Index(['SalePrice', 'YearBuilt', 'YrSold', 'MonthSold', 'Size(sqf)', 'Floor',\n",
       "       'HallwayType', 'HeatingType', 'AptManageType', 'N_Parkinglot(Ground)',\n",
       "       'N_Parkinglot(Basement)', 'TimeToBusStop', 'TimeToSubway', 'N_APT',\n",
       "       'N_manager', 'N_elevators', 'SubwayStation',\n",
       "       'N_FacilitiesNearBy(PublicOffice)', 'N_FacilitiesNearBy(Hospital)',\n",
       "       'N_FacilitiesNearBy(Dpartmentstore)', 'N_FacilitiesNearBy(Mall)',\n",
       "       'N_FacilitiesNearBy(ETC)', 'N_FacilitiesNearBy(Park)',\n",
       "       'N_SchoolNearBy(Elementary)', 'N_SchoolNearBy(Middle)',\n",
       "       'N_SchoolNearBy(High)', 'N_SchoolNearBy(University)',\n",
       "       'N_FacilitiesInApt', 'N_FacilitiesNearBy(Total)',\n",
       "       'N_SchoolNearBy(Total)'],\n",
       "      dtype='object')"
      ]
     },
     "execution_count": 4,
     "metadata": {},
     "output_type": "execute_result"
    }
   ],
   "source": [
    "# getting the columns of the dataset\n",
    "data.columns"
   ]
  },
  {
   "cell_type": "code",
   "execution_count": 5,
   "metadata": {},
   "outputs": [
    {
     "data": {
      "text/plain": [
       "SalePrice                               int64\n",
       "YearBuilt                               int64\n",
       "YrSold                                  int64\n",
       "MonthSold                               int64\n",
       "Size(sqf)                               int64\n",
       "Floor                                   int64\n",
       "HallwayType                            object\n",
       "HeatingType                            object\n",
       "AptManageType                          object\n",
       "N_Parkinglot(Ground)                  float64\n",
       "N_Parkinglot(Basement)                float64\n",
       "TimeToBusStop                          object\n",
       "TimeToSubway                           object\n",
       "N_APT                                 float64\n",
       "N_manager                             float64\n",
       "N_elevators                           float64\n",
       "SubwayStation                          object\n",
       "N_FacilitiesNearBy(PublicOffice)      float64\n",
       "N_FacilitiesNearBy(Hospital)            int64\n",
       "N_FacilitiesNearBy(Dpartmentstore)    float64\n",
       "N_FacilitiesNearBy(Mall)              float64\n",
       "N_FacilitiesNearBy(ETC)               float64\n",
       "N_FacilitiesNearBy(Park)              float64\n",
       "N_SchoolNearBy(Elementary)            float64\n",
       "N_SchoolNearBy(Middle)                float64\n",
       "N_SchoolNearBy(High)                  float64\n",
       "N_SchoolNearBy(University)            float64\n",
       "N_FacilitiesInApt                       int64\n",
       "N_FacilitiesNearBy(Total)             float64\n",
       "N_SchoolNearBy(Total)                 float64\n",
       "dtype: object"
      ]
     },
     "execution_count": 5,
     "metadata": {},
     "output_type": "execute_result"
    }
   ],
   "source": [
    "# getting the datatypes of the dataset\n",
    "data.dtypes"
   ]
  },
  {
   "cell_type": "code",
   "execution_count": 6,
   "metadata": {},
   "outputs": [
    {
     "name": "stdout",
     "output_type": "stream",
     "text": [
      "<class 'pandas.core.frame.DataFrame'>\n",
      "RangeIndex: 5891 entries, 0 to 5890\n",
      "Data columns (total 30 columns):\n",
      "SalePrice                             5891 non-null int64\n",
      "YearBuilt                             5891 non-null int64\n",
      "YrSold                                5891 non-null int64\n",
      "MonthSold                             5891 non-null int64\n",
      "Size(sqf)                             5891 non-null int64\n",
      "Floor                                 5891 non-null int64\n",
      "HallwayType                           5891 non-null object\n",
      "HeatingType                           5891 non-null object\n",
      "AptManageType                         5891 non-null object\n",
      "N_Parkinglot(Ground)                  5891 non-null float64\n",
      "N_Parkinglot(Basement)                5891 non-null float64\n",
      "TimeToBusStop                         5891 non-null object\n",
      "TimeToSubway                          5891 non-null object\n",
      "N_APT                                 5891 non-null float64\n",
      "N_manager                             5891 non-null float64\n",
      "N_elevators                           5891 non-null float64\n",
      "SubwayStation                         5891 non-null object\n",
      "N_FacilitiesNearBy(PublicOffice)      5891 non-null float64\n",
      "N_FacilitiesNearBy(Hospital)          5891 non-null int64\n",
      "N_FacilitiesNearBy(Dpartmentstore)    5891 non-null float64\n",
      "N_FacilitiesNearBy(Mall)              5891 non-null float64\n",
      "N_FacilitiesNearBy(ETC)               5891 non-null float64\n",
      "N_FacilitiesNearBy(Park)              5891 non-null float64\n",
      "N_SchoolNearBy(Elementary)            5891 non-null float64\n",
      "N_SchoolNearBy(Middle)                5891 non-null float64\n",
      "N_SchoolNearBy(High)                  5891 non-null float64\n",
      "N_SchoolNearBy(University)            5891 non-null float64\n",
      "N_FacilitiesInApt                     5891 non-null int64\n",
      "N_FacilitiesNearBy(Total)             5891 non-null float64\n",
      "N_SchoolNearBy(Total)                 5891 non-null float64\n",
      "dtypes: float64(16), int64(8), object(6)\n",
      "memory usage: 1.3+ MB\n"
     ]
    }
   ],
   "source": [
    "# getting information about the dataset\n",
    "data.info()"
   ]
  },
  {
   "cell_type": "code",
   "execution_count": 7,
   "metadata": {},
   "outputs": [
    {
     "data": {
      "text/plain": [
       "SalePrice                             0\n",
       "YearBuilt                             0\n",
       "YrSold                                0\n",
       "MonthSold                             0\n",
       "Size(sqf)                             0\n",
       "Floor                                 0\n",
       "HallwayType                           0\n",
       "HeatingType                           0\n",
       "AptManageType                         0\n",
       "N_Parkinglot(Ground)                  0\n",
       "N_Parkinglot(Basement)                0\n",
       "TimeToBusStop                         0\n",
       "TimeToSubway                          0\n",
       "N_APT                                 0\n",
       "N_manager                             0\n",
       "N_elevators                           0\n",
       "SubwayStation                         0\n",
       "N_FacilitiesNearBy(PublicOffice)      0\n",
       "N_FacilitiesNearBy(Hospital)          0\n",
       "N_FacilitiesNearBy(Dpartmentstore)    0\n",
       "N_FacilitiesNearBy(Mall)              0\n",
       "N_FacilitiesNearBy(ETC)               0\n",
       "N_FacilitiesNearBy(Park)              0\n",
       "N_SchoolNearBy(Elementary)            0\n",
       "N_SchoolNearBy(Middle)                0\n",
       "N_SchoolNearBy(High)                  0\n",
       "N_SchoolNearBy(University)            0\n",
       "N_FacilitiesInApt                     0\n",
       "N_FacilitiesNearBy(Total)             0\n",
       "N_SchoolNearBy(Total)                 0\n",
       "dtype: int64"
      ]
     },
     "execution_count": 7,
     "metadata": {},
     "output_type": "execute_result"
    }
   ],
   "source": [
    "# checking for null values\n",
    "data.isnull().sum()"
   ]
  },
  {
   "cell_type": "code",
   "execution_count": 8,
   "metadata": {},
   "outputs": [
    {
     "data": {
      "text/html": [
       "<div>\n",
       "<style scoped>\n",
       "    .dataframe tbody tr th:only-of-type {\n",
       "        vertical-align: middle;\n",
       "    }\n",
       "\n",
       "    .dataframe tbody tr th {\n",
       "        vertical-align: top;\n",
       "    }\n",
       "\n",
       "    .dataframe thead th {\n",
       "        text-align: right;\n",
       "    }\n",
       "</style>\n",
       "<table border=\"1\" class=\"dataframe\">\n",
       "  <thead>\n",
       "    <tr style=\"text-align: right;\">\n",
       "      <th></th>\n",
       "      <th>count</th>\n",
       "      <th>mean</th>\n",
       "      <th>std</th>\n",
       "      <th>min</th>\n",
       "      <th>25%</th>\n",
       "      <th>50%</th>\n",
       "      <th>75%</th>\n",
       "      <th>max</th>\n",
       "    </tr>\n",
       "  </thead>\n",
       "  <tbody>\n",
       "    <tr>\n",
       "      <td>SalePrice</td>\n",
       "      <td>5891.0</td>\n",
       "      <td>221218.112545</td>\n",
       "      <td>106384.186446</td>\n",
       "      <td>32743.0</td>\n",
       "      <td>144247.0</td>\n",
       "      <td>207964.0</td>\n",
       "      <td>291150.0</td>\n",
       "      <td>585840.0</td>\n",
       "    </tr>\n",
       "    <tr>\n",
       "      <td>YearBuilt</td>\n",
       "      <td>5891.0</td>\n",
       "      <td>2002.967408</td>\n",
       "      <td>8.811782</td>\n",
       "      <td>1978.0</td>\n",
       "      <td>1993.0</td>\n",
       "      <td>2006.0</td>\n",
       "      <td>2008.0</td>\n",
       "      <td>2015.0</td>\n",
       "    </tr>\n",
       "    <tr>\n",
       "      <td>YrSold</td>\n",
       "      <td>5891.0</td>\n",
       "      <td>2012.691563</td>\n",
       "      <td>2.905488</td>\n",
       "      <td>2007.0</td>\n",
       "      <td>2010.0</td>\n",
       "      <td>2013.0</td>\n",
       "      <td>2015.0</td>\n",
       "      <td>2017.0</td>\n",
       "    </tr>\n",
       "    <tr>\n",
       "      <td>MonthSold</td>\n",
       "      <td>5891.0</td>\n",
       "      <td>6.160244</td>\n",
       "      <td>3.387752</td>\n",
       "      <td>1.0</td>\n",
       "      <td>3.0</td>\n",
       "      <td>6.0</td>\n",
       "      <td>9.0</td>\n",
       "      <td>12.0</td>\n",
       "    </tr>\n",
       "    <tr>\n",
       "      <td>Size(sqf)</td>\n",
       "      <td>5891.0</td>\n",
       "      <td>955.569173</td>\n",
       "      <td>382.464050</td>\n",
       "      <td>135.0</td>\n",
       "      <td>644.0</td>\n",
       "      <td>910.0</td>\n",
       "      <td>1149.0</td>\n",
       "      <td>2337.0</td>\n",
       "    </tr>\n",
       "    <tr>\n",
       "      <td>Floor</td>\n",
       "      <td>5891.0</td>\n",
       "      <td>12.026311</td>\n",
       "      <td>7.548743</td>\n",
       "      <td>1.0</td>\n",
       "      <td>6.0</td>\n",
       "      <td>11.0</td>\n",
       "      <td>17.0</td>\n",
       "      <td>43.0</td>\n",
       "    </tr>\n",
       "    <tr>\n",
       "      <td>N_Parkinglot(Ground)</td>\n",
       "      <td>5891.0</td>\n",
       "      <td>195.883551</td>\n",
       "      <td>218.597210</td>\n",
       "      <td>0.0</td>\n",
       "      <td>11.0</td>\n",
       "      <td>100.0</td>\n",
       "      <td>249.0</td>\n",
       "      <td>713.0</td>\n",
       "    </tr>\n",
       "    <tr>\n",
       "      <td>N_Parkinglot(Basement)</td>\n",
       "      <td>5891.0</td>\n",
       "      <td>570.761670</td>\n",
       "      <td>408.621075</td>\n",
       "      <td>0.0</td>\n",
       "      <td>184.0</td>\n",
       "      <td>536.0</td>\n",
       "      <td>798.0</td>\n",
       "      <td>1321.0</td>\n",
       "    </tr>\n",
       "    <tr>\n",
       "      <td>N_APT</td>\n",
       "      <td>5891.0</td>\n",
       "      <td>5.613648</td>\n",
       "      <td>2.811831</td>\n",
       "      <td>1.0</td>\n",
       "      <td>3.0</td>\n",
       "      <td>7.0</td>\n",
       "      <td>8.0</td>\n",
       "      <td>13.0</td>\n",
       "    </tr>\n",
       "    <tr>\n",
       "      <td>N_manager</td>\n",
       "      <td>5891.0</td>\n",
       "      <td>6.310304</td>\n",
       "      <td>3.174088</td>\n",
       "      <td>1.0</td>\n",
       "      <td>5.0</td>\n",
       "      <td>6.0</td>\n",
       "      <td>8.0</td>\n",
       "      <td>14.0</td>\n",
       "    </tr>\n",
       "    <tr>\n",
       "      <td>N_elevators</td>\n",
       "      <td>5891.0</td>\n",
       "      <td>11.145985</td>\n",
       "      <td>7.806232</td>\n",
       "      <td>0.0</td>\n",
       "      <td>5.0</td>\n",
       "      <td>11.0</td>\n",
       "      <td>16.0</td>\n",
       "      <td>27.0</td>\n",
       "    </tr>\n",
       "    <tr>\n",
       "      <td>N_FacilitiesNearBy(PublicOffice)</td>\n",
       "      <td>5891.0</td>\n",
       "      <td>4.141572</td>\n",
       "      <td>1.793496</td>\n",
       "      <td>0.0</td>\n",
       "      <td>3.0</td>\n",
       "      <td>5.0</td>\n",
       "      <td>5.0</td>\n",
       "      <td>7.0</td>\n",
       "    </tr>\n",
       "    <tr>\n",
       "      <td>N_FacilitiesNearBy(Hospital)</td>\n",
       "      <td>5891.0</td>\n",
       "      <td>1.296045</td>\n",
       "      <td>0.479760</td>\n",
       "      <td>0.0</td>\n",
       "      <td>1.0</td>\n",
       "      <td>1.0</td>\n",
       "      <td>2.0</td>\n",
       "      <td>2.0</td>\n",
       "    </tr>\n",
       "    <tr>\n",
       "      <td>N_FacilitiesNearBy(Dpartmentstore)</td>\n",
       "      <td>5891.0</td>\n",
       "      <td>0.896282</td>\n",
       "      <td>0.810964</td>\n",
       "      <td>0.0</td>\n",
       "      <td>0.0</td>\n",
       "      <td>1.0</td>\n",
       "      <td>2.0</td>\n",
       "      <td>2.0</td>\n",
       "    </tr>\n",
       "    <tr>\n",
       "      <td>N_FacilitiesNearBy(Mall)</td>\n",
       "      <td>5891.0</td>\n",
       "      <td>0.941436</td>\n",
       "      <td>0.401355</td>\n",
       "      <td>0.0</td>\n",
       "      <td>1.0</td>\n",
       "      <td>1.0</td>\n",
       "      <td>1.0</td>\n",
       "      <td>2.0</td>\n",
       "    </tr>\n",
       "    <tr>\n",
       "      <td>N_FacilitiesNearBy(ETC)</td>\n",
       "      <td>5891.0</td>\n",
       "      <td>1.941266</td>\n",
       "      <td>2.201392</td>\n",
       "      <td>0.0</td>\n",
       "      <td>0.0</td>\n",
       "      <td>1.0</td>\n",
       "      <td>5.0</td>\n",
       "      <td>5.0</td>\n",
       "    </tr>\n",
       "    <tr>\n",
       "      <td>N_FacilitiesNearBy(Park)</td>\n",
       "      <td>5891.0</td>\n",
       "      <td>0.654218</td>\n",
       "      <td>0.658320</td>\n",
       "      <td>0.0</td>\n",
       "      <td>0.0</td>\n",
       "      <td>1.0</td>\n",
       "      <td>1.0</td>\n",
       "      <td>2.0</td>\n",
       "    </tr>\n",
       "    <tr>\n",
       "      <td>N_SchoolNearBy(Elementary)</td>\n",
       "      <td>5891.0</td>\n",
       "      <td>3.022407</td>\n",
       "      <td>0.954575</td>\n",
       "      <td>0.0</td>\n",
       "      <td>2.0</td>\n",
       "      <td>3.0</td>\n",
       "      <td>4.0</td>\n",
       "      <td>6.0</td>\n",
       "    </tr>\n",
       "    <tr>\n",
       "      <td>N_SchoolNearBy(Middle)</td>\n",
       "      <td>5891.0</td>\n",
       "      <td>2.417756</td>\n",
       "      <td>1.037898</td>\n",
       "      <td>0.0</td>\n",
       "      <td>2.0</td>\n",
       "      <td>3.0</td>\n",
       "      <td>3.0</td>\n",
       "      <td>4.0</td>\n",
       "    </tr>\n",
       "    <tr>\n",
       "      <td>N_SchoolNearBy(High)</td>\n",
       "      <td>5891.0</td>\n",
       "      <td>2.659311</td>\n",
       "      <td>1.556041</td>\n",
       "      <td>0.0</td>\n",
       "      <td>1.0</td>\n",
       "      <td>2.0</td>\n",
       "      <td>4.0</td>\n",
       "      <td>5.0</td>\n",
       "    </tr>\n",
       "    <tr>\n",
       "      <td>N_SchoolNearBy(University)</td>\n",
       "      <td>5891.0</td>\n",
       "      <td>2.764726</td>\n",
       "      <td>1.489289</td>\n",
       "      <td>0.0</td>\n",
       "      <td>2.0</td>\n",
       "      <td>2.0</td>\n",
       "      <td>4.0</td>\n",
       "      <td>5.0</td>\n",
       "    </tr>\n",
       "    <tr>\n",
       "      <td>N_FacilitiesInApt</td>\n",
       "      <td>5891.0</td>\n",
       "      <td>5.809540</td>\n",
       "      <td>2.330804</td>\n",
       "      <td>1.0</td>\n",
       "      <td>4.0</td>\n",
       "      <td>5.0</td>\n",
       "      <td>7.0</td>\n",
       "      <td>10.0</td>\n",
       "    </tr>\n",
       "    <tr>\n",
       "      <td>N_FacilitiesNearBy(Total)</td>\n",
       "      <td>5891.0</td>\n",
       "      <td>9.870820</td>\n",
       "      <td>3.450319</td>\n",
       "      <td>0.0</td>\n",
       "      <td>8.0</td>\n",
       "      <td>9.0</td>\n",
       "      <td>13.0</td>\n",
       "      <td>16.0</td>\n",
       "    </tr>\n",
       "    <tr>\n",
       "      <td>N_SchoolNearBy(Total)</td>\n",
       "      <td>5891.0</td>\n",
       "      <td>10.864200</td>\n",
       "      <td>4.438513</td>\n",
       "      <td>0.0</td>\n",
       "      <td>7.0</td>\n",
       "      <td>10.0</td>\n",
       "      <td>15.0</td>\n",
       "      <td>17.0</td>\n",
       "    </tr>\n",
       "  </tbody>\n",
       "</table>\n",
       "</div>"
      ],
      "text/plain": [
       "                                     count           mean            std  \\\n",
       "SalePrice                           5891.0  221218.112545  106384.186446   \n",
       "YearBuilt                           5891.0    2002.967408       8.811782   \n",
       "YrSold                              5891.0    2012.691563       2.905488   \n",
       "MonthSold                           5891.0       6.160244       3.387752   \n",
       "Size(sqf)                           5891.0     955.569173     382.464050   \n",
       "Floor                               5891.0      12.026311       7.548743   \n",
       "N_Parkinglot(Ground)                5891.0     195.883551     218.597210   \n",
       "N_Parkinglot(Basement)              5891.0     570.761670     408.621075   \n",
       "N_APT                               5891.0       5.613648       2.811831   \n",
       "N_manager                           5891.0       6.310304       3.174088   \n",
       "N_elevators                         5891.0      11.145985       7.806232   \n",
       "N_FacilitiesNearBy(PublicOffice)    5891.0       4.141572       1.793496   \n",
       "N_FacilitiesNearBy(Hospital)        5891.0       1.296045       0.479760   \n",
       "N_FacilitiesNearBy(Dpartmentstore)  5891.0       0.896282       0.810964   \n",
       "N_FacilitiesNearBy(Mall)            5891.0       0.941436       0.401355   \n",
       "N_FacilitiesNearBy(ETC)             5891.0       1.941266       2.201392   \n",
       "N_FacilitiesNearBy(Park)            5891.0       0.654218       0.658320   \n",
       "N_SchoolNearBy(Elementary)          5891.0       3.022407       0.954575   \n",
       "N_SchoolNearBy(Middle)              5891.0       2.417756       1.037898   \n",
       "N_SchoolNearBy(High)                5891.0       2.659311       1.556041   \n",
       "N_SchoolNearBy(University)          5891.0       2.764726       1.489289   \n",
       "N_FacilitiesInApt                   5891.0       5.809540       2.330804   \n",
       "N_FacilitiesNearBy(Total)           5891.0       9.870820       3.450319   \n",
       "N_SchoolNearBy(Total)               5891.0      10.864200       4.438513   \n",
       "\n",
       "                                        min       25%       50%       75%  \\\n",
       "SalePrice                           32743.0  144247.0  207964.0  291150.0   \n",
       "YearBuilt                            1978.0    1993.0    2006.0    2008.0   \n",
       "YrSold                               2007.0    2010.0    2013.0    2015.0   \n",
       "MonthSold                               1.0       3.0       6.0       9.0   \n",
       "Size(sqf)                             135.0     644.0     910.0    1149.0   \n",
       "Floor                                   1.0       6.0      11.0      17.0   \n",
       "N_Parkinglot(Ground)                    0.0      11.0     100.0     249.0   \n",
       "N_Parkinglot(Basement)                  0.0     184.0     536.0     798.0   \n",
       "N_APT                                   1.0       3.0       7.0       8.0   \n",
       "N_manager                               1.0       5.0       6.0       8.0   \n",
       "N_elevators                             0.0       5.0      11.0      16.0   \n",
       "N_FacilitiesNearBy(PublicOffice)        0.0       3.0       5.0       5.0   \n",
       "N_FacilitiesNearBy(Hospital)            0.0       1.0       1.0       2.0   \n",
       "N_FacilitiesNearBy(Dpartmentstore)      0.0       0.0       1.0       2.0   \n",
       "N_FacilitiesNearBy(Mall)                0.0       1.0       1.0       1.0   \n",
       "N_FacilitiesNearBy(ETC)                 0.0       0.0       1.0       5.0   \n",
       "N_FacilitiesNearBy(Park)                0.0       0.0       1.0       1.0   \n",
       "N_SchoolNearBy(Elementary)              0.0       2.0       3.0       4.0   \n",
       "N_SchoolNearBy(Middle)                  0.0       2.0       3.0       3.0   \n",
       "N_SchoolNearBy(High)                    0.0       1.0       2.0       4.0   \n",
       "N_SchoolNearBy(University)              0.0       2.0       2.0       4.0   \n",
       "N_FacilitiesInApt                       1.0       4.0       5.0       7.0   \n",
       "N_FacilitiesNearBy(Total)               0.0       8.0       9.0      13.0   \n",
       "N_SchoolNearBy(Total)                   0.0       7.0      10.0      15.0   \n",
       "\n",
       "                                         max  \n",
       "SalePrice                           585840.0  \n",
       "YearBuilt                             2015.0  \n",
       "YrSold                                2017.0  \n",
       "MonthSold                               12.0  \n",
       "Size(sqf)                             2337.0  \n",
       "Floor                                   43.0  \n",
       "N_Parkinglot(Ground)                   713.0  \n",
       "N_Parkinglot(Basement)                1321.0  \n",
       "N_APT                                   13.0  \n",
       "N_manager                               14.0  \n",
       "N_elevators                             27.0  \n",
       "N_FacilitiesNearBy(PublicOffice)         7.0  \n",
       "N_FacilitiesNearBy(Hospital)             2.0  \n",
       "N_FacilitiesNearBy(Dpartmentstore)       2.0  \n",
       "N_FacilitiesNearBy(Mall)                 2.0  \n",
       "N_FacilitiesNearBy(ETC)                  5.0  \n",
       "N_FacilitiesNearBy(Park)                 2.0  \n",
       "N_SchoolNearBy(Elementary)               6.0  \n",
       "N_SchoolNearBy(Middle)                   4.0  \n",
       "N_SchoolNearBy(High)                     5.0  \n",
       "N_SchoolNearBy(University)               5.0  \n",
       "N_FacilitiesInApt                       10.0  \n",
       "N_FacilitiesNearBy(Total)               16.0  \n",
       "N_SchoolNearBy(Total)                   17.0  "
      ]
     },
     "execution_count": 8,
     "metadata": {},
     "output_type": "execute_result"
    }
   ],
   "source": [
    "# checking numerical values of the dataset\n",
    "data.describe().T"
   ]
  },
  {
   "cell_type": "code",
   "execution_count": 9,
   "metadata": {},
   "outputs": [
    {
     "data": {
      "text/plain": [
       "SalePrice                             5891\n",
       "YearBuilt                             5891\n",
       "YrSold                                5891\n",
       "MonthSold                             5891\n",
       "Size(sqf)                             5891\n",
       "Floor                                 5891\n",
       "HallwayType                           5891\n",
       "HeatingType                           5891\n",
       "AptManageType                         5891\n",
       "N_Parkinglot(Ground)                  5891\n",
       "N_Parkinglot(Basement)                5891\n",
       "TimeToBusStop                         5891\n",
       "TimeToSubway                          5891\n",
       "N_APT                                 5891\n",
       "N_manager                             5891\n",
       "N_elevators                           5891\n",
       "SubwayStation                         5891\n",
       "N_FacilitiesNearBy(PublicOffice)      5891\n",
       "N_FacilitiesNearBy(Hospital)          5891\n",
       "N_FacilitiesNearBy(Dpartmentstore)    5891\n",
       "N_FacilitiesNearBy(Mall)              5891\n",
       "N_FacilitiesNearBy(ETC)               5891\n",
       "N_FacilitiesNearBy(Park)              5891\n",
       "N_SchoolNearBy(Elementary)            5891\n",
       "N_SchoolNearBy(Middle)                5891\n",
       "N_SchoolNearBy(High)                  5891\n",
       "N_SchoolNearBy(University)            5891\n",
       "N_FacilitiesInApt                     5891\n",
       "N_FacilitiesNearBy(Total)             5891\n",
       "N_SchoolNearBy(Total)                 5891\n",
       "dtype: int64"
      ]
     },
     "execution_count": 9,
     "metadata": {},
     "output_type": "execute_result"
    }
   ],
   "source": [
    "# getting the total count of the data\n",
    "data.count()"
   ]
  },
  {
   "cell_type": "markdown",
   "metadata": {},
   "source": [
    "# Data Cleaning"
   ]
  },
  {
   "cell_type": "markdown",
   "metadata": {},
   "source": [
    "# Target Variable (y)- Sale Price"
   ]
  },
  {
   "cell_type": "code",
   "execution_count": 10,
   "metadata": {},
   "outputs": [
    {
     "data": {
      "text/plain": [
       "0    141592\n",
       "1     51327\n",
       "2     48672\n",
       "3    380530\n",
       "4    221238\n",
       "Name: SalePrice, dtype: int64"
      ]
     },
     "execution_count": 10,
     "metadata": {},
     "output_type": "execute_result"
    }
   ],
   "source": [
    "data['SalePrice'].head()"
   ]
  },
  {
   "cell_type": "code",
   "execution_count": 11,
   "metadata": {},
   "outputs": [
    {
     "data": {
      "text/plain": [
       "array([141592,  51327,  48672, 380530, 221238,  35840,  78318,  61946,\n",
       "        84070,  83185, 168141, 153982, 200884,  60176,  93362, 185840,\n",
       "       120796,  64601, 176991,  55752,  38053,  92035, 181061, 165486,\n",
       "       198230, 448672, 371681, 167964,  74336,  46902, 292035,  38495,\n",
       "        60619, 138053,  39823,  36283,  92920, 134513,  77876,  85840,\n",
       "        98230,  35398, 159292,  95575, 147787, 340707, 197345, 181415,\n",
       "       346017, 347787, 383185, 462831, 407079, 360176, 315929, 289380,\n",
       "       348672, 465486, 393805, 408849, 326548, 337168,  95132, 110619,\n",
       "       163716, 232212,  86725, 172566, 194690,  88495,  81858, 191150,\n",
       "       162831, 203539,  94690, 242920, 307964, 287486, 285840, 132743,\n",
       "       323982, 115044, 137168, 265486,  97345, 199469, 290000,  82300,\n",
       "       201769, 174336, 319469, 170796, 112389,  72566, 317699, 295460,\n",
       "        44247,  52212,  38761, 212389, 225663, 151327,  91150, 131415,\n",
       "       135398, 163539,  80530,  86283, 126106, 207964, 351769, 119292,\n",
       "       193805, 150442, 283185, 357522,  93805, 101327, 146017, 243362,\n",
       "        69026,  79646, 295575, 127433,  66371, 160637, 256637, 254867,\n",
       "       188495, 176106, 428318, 166371, 151769, 115929,  63274, 219469,\n",
       "       123893,  59734, 327433, 370796, 435398, 269911, 272566, 178761,\n",
       "        37787, 161946,  70796,  84955,  90707, 153539, 122389, 341592,\n",
       "        37168, 124778, 222123, 169911, 207079, 381663, 184955, 356637,\n",
       "       184070, 442477,  57522, 382300, 373451, 247787, 128318,  85132,\n",
       "        89380,  38938, 164601, 142920,  72123,  44690,  53097,  53982,\n",
       "       173451,  65929, 144247, 183628, 291238, 277876, 332743,  69911,\n",
       "        61061, 171681, 268849, 353982, 129646,  38584, 333628, 362831,\n",
       "       199115,  58849, 121238,  65486,  68141, 230088, 123008, 398230,\n",
       "       190265, 165929, 278761, 204424,  75221, 252212,  63716,  37610,\n",
       "        90265, 273451, 154867,  73451, 180530, 100000, 182743,  61504,\n",
       "       215929, 291415,  46017, 112831,  82743, 143362, 389380,  58407,\n",
       "        59115, 119469, 277256, 281592, 282566, 286902, 209911, 220265,\n",
       "       273362, 209734, 155752, 556637,  47787, 262831, 123451,  34955,\n",
       "       130973,  71681,  74778,  66814, 188053, 284955, 219026,  34070,\n",
       "       527433, 126548, 166814, 215176,  32743, 154424, 216371, 501769,\n",
       "       167256, 160176,  36814, 251769, 101769, 203707, 207044, 195566,\n",
       "       200522, 201672, 223893, 138938, 238938, 209442, 153097, 157522,\n",
       "       152212, 148672, 194318, 200318, 209132, 265442, 203646, 262920,\n",
       "       177433,  76991, 213274,  67256,  76548, 149557, 229203, 415929,\n",
       "       152654, 286194, 196389, 232743, 274336, 196460,  87610, 161061,\n",
       "        34513,  81415, 121681,  56637, 198451, 198256, 192920, 233628,\n",
       "       139823, 214159, 135840, 161504, 208849, 416814, 206194, 306194,\n",
       "       223008, 199637, 197601, 175221, 201566, 262929, 196185, 191938,\n",
       "       193769, 143212, 190106, 145628, 142592, 188265, 148707, 149619,\n",
       "       144115, 147141, 175681, 116814, 260176,  78761, 118584, 144690,\n",
       "       156637, 161238, 155309, 159557, 210619, 157876, 156194, 210265,\n",
       "       261061, 168761,  83628, 107079, 122123,  64159, 140265, 169026,\n",
       "       286725, 318584, 207522,  57964, 234513, 125663, 145486, 131858,\n",
       "       236725,  91592, 220796, 106194, 227433, 187610, 394690,  39380,\n",
       "        62831, 193362, 215486, 103539, 237610, 242300, 146902, 202654,\n",
       "       181858, 201327, 107522, 173893,  96460, 180088, 323008, 300000,\n",
       "       192035, 476106,  57079, 216814, 168584, 180973, 261946, 145132,\n",
       "       170353, 245132, 127876, 148230, 142477, 133628, 433628, 129203,\n",
       "       154690, 215044, 117699, 114159, 115486,  65044, 110176, 109292,\n",
       "       140707, 132300,  84513, 364601,  55309,  82035, 181150, 405309,\n",
       "        52477,  73442,  75920,  73053,  73840,  74256, 100884,  75088,\n",
       "        75504,  72654,  73008,  74672, 103982,  72256, 104424, 146460,\n",
       "       105309, 104867, 182300, 179646, 200000, 287610, 109734,  85398,\n",
       "       167699, 130088, 227876,  60000, 107964,  59292, 128938, 145575,\n",
       "       142035,  36548, 113274, 384955, 158584,  54867,  80973, 143805,\n",
       "       186725, 173008, 172123,  49557,  43185, 177876, 155584, 103097,\n",
       "       183185, 368141, 422123, 238053, 258407, 236283, 112566,  61681,\n",
       "       113716, 240707, 242477, 198849, 189823, 314159,  63893, 108407,\n",
       "        62389,  41061, 245575, 228318, 218584,  76106, 406194, 419469,\n",
       "        59911, 214601, 271681,  40088,  43362, 136283, 205752, 345132,\n",
       "       458407, 432743,  96902, 138495, 136725, 108849, 237168, 185398,\n",
       "       158407,  77433, 174778, 177699, 446017, 392920, 250442, 169292,\n",
       "       205309, 189380,  80088,  99115, 171238,  69469, 267256, 242035,\n",
       "       373893, 246017, 325663, 102212, 235398, 307079,  40265, 246902,\n",
       "       149292, 220353, 378761,  71238, 241592, 336283,  73893, 126991,\n",
       "        99557, 117256, 218141, 178318,  42477,  79203, 120353, 264601,\n",
       "       330088, 253982, 270796, 300884, 211150, 253097, 248672, 264424,\n",
       "       275663, 196902, 232300, 228849, 231858,  49734, 280973, 169469,\n",
       "       228761, 402654, 255309, 111504, 222566, 211946, 226548,  48053,\n",
       "       224778, 118141, 312389, 367256, 208407, 195575, 265044, 259292,\n",
       "       343362, 278318, 249557, 203982,  49115, 377876, 217699, 211504,\n",
       "       231415, 263716, 445132, 279646, 232477, 210176, 213716,  88938,\n",
       "       224823, 288495, 280530, 305309, 320353, 328318, 194247, 262389,\n",
       "       211061, 323893, 338053, 251327,  68584, 291150, 268141, 233185,\n",
       "       189115, 311504, 141150, 246460, 281858, 108318, 400884, 266371,\n",
       "       388495, 250176, 258079, 252814, 263345, 260707, 254123, 244911,\n",
       "       255442, 255840, 242274, 246230, 229106, 229212, 150000, 250000,\n",
       "       221681, 378053, 339035, 350008, 188938, 259008, 265557, 257654,\n",
       "       237008, 259026, 248884, 316814, 293805, 190707, 255752, 411504,\n",
       "       356778, 261592, 281415, 157079, 257522, 208584, 309734, 349115,\n",
       "       149115, 299115, 119026, 310079, 223451,  94955, 276991, 338938,\n",
       "       361061, 349557, 263451, 322814, 351247, 320469, 322566, 293238,\n",
       "       285433, 137610, 294690, 157964, 235840, 299026, 334070, 331858,\n",
       "       111061, 285398, 162389, 200221, 276548, 329203, 313274, 302654,\n",
       "       324778,  96017, 217256, 244690, 202212, 219911, 226991, 346902,\n",
       "       206637, 308849, 286283, 323389, 438053, 296460, 247345, 369911,\n",
       "        92831,  98761,  88318,  99823, 241150, 324610, 339513, 358407,\n",
       "       365486, 386725, 344247, 244247,  98407, 114601, 322150, 267699,\n",
       "       386469, 254424, 105752, 321238, 361823, 343628, 361946, 368398,\n",
       "       323088, 260619, 280088, 224690, 302212, 103362, 347530, 372566,\n",
       "       269026, 471238, 394353, 347345,  60973,  95221, 162743,  72920,\n",
       "       354123, 310309, 345902, 282300, 290265, 304424, 366371, 159734,\n",
       "        93097, 309292, 175663, 176548, 353097, 387610, 303539, 396460,\n",
       "       369628, 423619, 388690, 348283, 264159, 342477, 282053, 226725,\n",
       "       325221,  83902, 383716, 376867, 315044, 429203, 314690, 374336,\n",
       "       310150, 331265, 320345, 353716, 365548, 424778, 373743, 381831,\n",
       "       362601, 347982, 300442, 451327, 385398, 407964, 368672, 381415,\n",
       "       290707,  70353, 464601, 307522, 376106, 395575, 125221, 469026,\n",
       "       400000, 486725, 392035, 420353, 266814, 423008, 404424, 330973,\n",
       "       197787, 275221, 334513, 460176, 477876, 284070, 440707, 292920,\n",
       "       513274, 407424, 403336, 433778, 488415, 427610, 355752, 351327,\n",
       "       427433, 435840, 277433, 391150, 570796, 472566, 322123, 357964,\n",
       "       352212, 379203, 475663, 530973, 566371, 528318, 303982, 298230,\n",
       "       102654, 335398, 529203, 526548, 553097, 409734, 446902, 449557,\n",
       "       392743, 491150, 508849,  54424, 384070, 418584, 504424, 561946,\n",
       "       339823, 288053, 279203, 107345, 301327, 517699, 149274, 102601,\n",
       "       101548, 146256, 140380, 103663, 147761, 143389, 150778, 143238,\n",
       "       144752, 137513,  98477,  99539,  96469, 141884, 100592, 276106,\n",
       "       105840, 414159, 310619, 507079, 353938,  53274, 310176, 480530,\n",
       "       350442, 158849, 239823, 273893, 240265, 224336, 427876,  55663,\n",
       "       252654, 334955, 436283, 522123, 272123, 369026, 455752, 453982,\n",
       "       463716, 154159, 341150, 331415, 484955, 267247, 311061, 329646,\n",
       "       495575, 362566,  74955, 564601, 174601, 379646, 363716, 377433,\n",
       "       350884, 385840, 354867, 298672, 471504, 344690, 297345, 316371,\n",
       "       291247, 515929, 585840, 376991, 396017, 390707, 484070, 364159,\n",
       "       413274, 415044, 413716, 321681, 515044, 468141, 297787, 342920,\n",
       "       184513, 470796, 557522, 482300, 511504], dtype=int64)"
      ]
     },
     "execution_count": 11,
     "metadata": {},
     "output_type": "execute_result"
    }
   ],
   "source": [
    "saleprice = data['SalePrice'].unique()  # no abnormal text/values in the column\n",
    "\n",
    "saleprice"
   ]
  },
  {
   "cell_type": "code",
   "execution_count": 12,
   "metadata": {},
   "outputs": [
    {
     "data": {
      "text/plain": [
       "count      5891.000000\n",
       "mean     221218.112545\n",
       "std      106384.186446\n",
       "min       32743.000000\n",
       "25%      144247.000000\n",
       "50%      207964.000000\n",
       "75%      291150.000000\n",
       "max      585840.000000\n",
       "Name: SalePrice, dtype: float64"
      ]
     },
     "execution_count": 12,
     "metadata": {},
     "output_type": "execute_result"
    }
   ],
   "source": [
    "data['SalePrice'].describe() # possibility of outliers"
   ]
  },
  {
   "cell_type": "code",
   "execution_count": 13,
   "metadata": {},
   "outputs": [
    {
     "data": {
      "text/plain": [
       "<matplotlib.axes._subplots.AxesSubplot at 0x23951ca1588>"
      ]
     },
     "execution_count": 13,
     "metadata": {},
     "output_type": "execute_result"
    },
    {
     "data": {
      "image/png": "[encoded data removed]",
      "text/plain": [
       "<Figure size 432x288 with 1 Axes>"
      ]
     },
     "metadata": {
      "needs_background": "light"
     },
     "output_type": "display_data"
    }
   ],
   "source": [
    "# Visualizing the target variable\n",
    "\n",
    "sns.distplot(data['SalePrice'])\n",
    "\n",
    "# not a gaussian distribution, log transformation needed\n",
    "\n"
   ]
  },
  {
   "cell_type": "markdown",
   "metadata": {},
   "source": [
    "# Cleaning YearBuilt"
   ]
  },
  {
   "cell_type": "code",
   "execution_count": 14,
   "metadata": {},
   "outputs": [
    {
     "data": {
      "text/plain": [
       "0    2006\n",
       "1    1985\n",
       "2    1985\n",
       "3    2006\n",
       "4    1993\n",
       "Name: YearBuilt, dtype: int64"
      ]
     },
     "execution_count": 14,
     "metadata": {},
     "output_type": "execute_result"
    }
   ],
   "source": [
    "data['YearBuilt'].head()"
   ]
  },
  {
   "cell_type": "code",
   "execution_count": 15,
   "metadata": {},
   "outputs": [
    {
     "data": {
      "text/plain": [
       "array([2006, 1985, 1993, 1992, 1986, 2007, 1997, 2005, 2003, 1978, 2009,\n",
       "       2008, 1980, 2013, 2014, 2015], dtype=int64)"
      ]
     },
     "execution_count": 15,
     "metadata": {},
     "output_type": "execute_result"
    }
   ],
   "source": [
    "yearbuilt = data['YearBuilt']\n",
    "\n",
    "yearbuilt.unique()"
   ]
  },
  {
   "cell_type": "code",
   "execution_count": 16,
   "metadata": {},
   "outputs": [
    {
     "data": {
      "text/plain": [
       "2007    1225\n",
       "2005     737\n",
       "1993     674\n",
       "2006     665\n",
       "1992     469\n",
       "2013     468\n",
       "2014     387\n",
       "1986     378\n",
       "2008     270\n",
       "2009     238\n",
       "2015     131\n",
       "1997     106\n",
       "1978      65\n",
       "1985      65\n",
       "2003       9\n",
       "1980       4\n",
       "Name: YearBuilt, dtype: int64"
      ]
     },
     "execution_count": 16,
     "metadata": {},
     "output_type": "execute_result"
    }
   ],
   "source": [
    "data['YearBuilt'].value_counts()"
   ]
  },
  {
   "cell_type": "markdown",
   "metadata": {},
   "source": [
    "# Cleaning YrSold"
   ]
  },
  {
   "cell_type": "code",
   "execution_count": 17,
   "metadata": {},
   "outputs": [
    {
     "data": {
      "text/plain": [
       "0    2007\n",
       "1    2007\n",
       "2    2007\n",
       "3    2007\n",
       "4    2007\n",
       "Name: YrSold, dtype: int64"
      ]
     },
     "execution_count": 17,
     "metadata": {},
     "output_type": "execute_result"
    }
   ],
   "source": [
    "data['YrSold'].head()"
   ]
  },
  {
   "cell_type": "code",
   "execution_count": 18,
   "metadata": {},
   "outputs": [
    {
     "data": {
      "text/plain": [
       "array([2007, 2008, 2009, 2010, 2011, 2012, 2013, 2014, 2015, 2016, 2017],\n",
       "      dtype=int64)"
      ]
     },
     "execution_count": 18,
     "metadata": {},
     "output_type": "execute_result"
    }
   ],
   "source": [
    "yrsold = data['YrSold']\n",
    "\n",
    "yrsold.unique()"
   ]
  },
  {
   "cell_type": "code",
   "execution_count": 19,
   "metadata": {},
   "outputs": [
    {
     "data": {
      "text/plain": [
       "2016    751\n",
       "2014    672\n",
       "2010    634\n",
       "2013    603\n",
       "2017    601\n",
       "2015    568\n",
       "2011    562\n",
       "2009    537\n",
       "2012    456\n",
       "2008    390\n",
       "2007    117\n",
       "Name: YrSold, dtype: int64"
      ]
     },
     "execution_count": 19,
     "metadata": {},
     "output_type": "execute_result"
    }
   ],
   "source": [
    "data['YrSold'].value_counts()"
   ]
  },
  {
   "cell_type": "markdown",
   "metadata": {},
   "source": [
    "# Cleaning Month Sold"
   ]
  },
  {
   "cell_type": "code",
   "execution_count": 20,
   "metadata": {},
   "outputs": [
    {
     "data": {
      "text/plain": [
       "0    8\n",
       "1    8\n",
       "2    8\n",
       "3    8\n",
       "4    8\n",
       "Name: MonthSold, dtype: int64"
      ]
     },
     "execution_count": 20,
     "metadata": {},
     "output_type": "execute_result"
    }
   ],
   "source": [
    "data['MonthSold'].head()"
   ]
  },
  {
   "cell_type": "code",
   "execution_count": 21,
   "metadata": {},
   "outputs": [
    {
     "data": {
      "text/plain": [
       "array([ 8,  9, 10, 11, 12,  1,  2,  3,  4,  5,  6,  7], dtype=int64)"
      ]
     },
     "execution_count": 21,
     "metadata": {},
     "output_type": "execute_result"
    }
   ],
   "source": [
    "monthsold = data['MonthSold']\n",
    "\n",
    "monthsold.unique()"
   ]
  },
  {
   "cell_type": "code",
   "execution_count": 22,
   "metadata": {},
   "outputs": [
    {
     "data": {
      "text/plain": [
       "1     623\n",
       "5     606\n",
       "3     576\n",
       "7     550\n",
       "10    519\n",
       "6     513\n",
       "8     461\n",
       "4     450\n",
       "2     424\n",
       "11    412\n",
       "9     387\n",
       "12    370\n",
       "Name: MonthSold, dtype: int64"
      ]
     },
     "execution_count": 22,
     "metadata": {},
     "output_type": "execute_result"
    }
   ],
   "source": [
    "data['MonthSold'].value_counts()"
   ]
  },
  {
   "cell_type": "markdown",
   "metadata": {},
   "source": [
    "# Cleaning Size(square feet)"
   ]
  },
  {
   "cell_type": "code",
   "execution_count": 23,
   "metadata": {},
   "outputs": [
    {
     "data": {
      "text/plain": [
       "0     814\n",
       "1     587\n",
       "2     587\n",
       "3    2056\n",
       "4    1761\n",
       "Name: Size(sqf), dtype: int64"
      ]
     },
     "execution_count": 23,
     "metadata": {},
     "output_type": "execute_result"
    }
   ],
   "source": [
    "data['Size(sqf)'].head()"
   ]
  },
  {
   "cell_type": "code",
   "execution_count": 24,
   "metadata": {},
   "outputs": [
    {
     "data": {
      "text/plain": [
       "array([ 814,  587, 2056, 1761,  355,  644, 1377,  914,  868,  910, 1288,\n",
       "        576, 1451, 1131, 1643, 1387,  903,  676, 1448,  743, 1334, 1444,\n",
       "       1690, 1629, 1483, 1273, 1103, 2337, 1437, 1743, 1366, 1394,  508,\n",
       "        547, 1184, 1192,  640, 1796,  558,  907, 1149, 1412,  498,  451,\n",
       "       1419, 1519, 1313,  430, 1928,  636,  811,  818,  829, 2092, 1160,\n",
       "       1167, 1060,  857,  871,  572,  793, 1369,  779, 1327,  736,  288,\n",
       "        156,  270,  160,  213,  135,  277,  206, 1092,  163,  291,  192,\n",
       "       1035,  715, 1252,  843, 1256,  138,  426,  281,  846, 1291,  832,\n",
       "        273,  839, 1088, 1085], dtype=int64)"
      ]
     },
     "execution_count": 24,
     "metadata": {},
     "output_type": "execute_result"
    }
   ],
   "source": [
    "size = data['Size(sqf)']\n",
    "\n",
    "data['Size(sqf)'].unique()"
   ]
  },
  {
   "cell_type": "code",
   "execution_count": 25,
   "metadata": {},
   "outputs": [
    {
     "data": {
      "text/plain": [
       "914     959\n",
       "644     714\n",
       "910     531\n",
       "868     290\n",
       "572     289\n",
       "       ... \n",
       "273       1\n",
       "277       1\n",
       "281       1\n",
       "1369      1\n",
       "270       1\n",
       "Name: Size(sqf), Length: 92, dtype: int64"
      ]
     },
     "execution_count": 25,
     "metadata": {},
     "output_type": "execute_result"
    }
   ],
   "source": [
    "data['Size(sqf)'].value_counts()"
   ]
  },
  {
   "cell_type": "code",
   "execution_count": 26,
   "metadata": {},
   "outputs": [
    {
     "data": {
      "text/plain": [
       "<matplotlib.axes._subplots.AxesSubplot at 0x239521cc8c8>"
      ]
     },
     "execution_count": 26,
     "metadata": {},
     "output_type": "execute_result"
    },
    {
     "data": {
      "image/png": "[encoded data removed]",
      "text/plain": [
       "<Figure size 432x288 with 1 Axes>"
      ]
     },
     "metadata": {
      "needs_background": "light"
     },
     "output_type": "display_data"
    }
   ],
   "source": [
    "sns.boxplot(data['Size(sqf)'])\n",
    "\n",
    "# presence of outliers"
   ]
  },
  {
   "cell_type": "markdown",
   "metadata": {},
   "source": [
    "# Cleaning Floor"
   ]
  },
  {
   "cell_type": "code",
   "execution_count": 27,
   "metadata": {},
   "outputs": [
    {
     "data": {
      "text/plain": [
       "0    3\n",
       "1    8\n",
       "2    6\n",
       "3    8\n",
       "4    3\n",
       "Name: Floor, dtype: int64"
      ]
     },
     "execution_count": 27,
     "metadata": {},
     "output_type": "execute_result"
    }
   ],
   "source": [
    "data['Floor'].head()"
   ]
  },
  {
   "cell_type": "code",
   "execution_count": 28,
   "metadata": {},
   "outputs": [
    {
     "data": {
      "text/plain": [
       "array([ 3,  8,  6,  5,  2, 10, 13,  4, 11, 18,  7, 24,  1, 20, 12, 39, 38,\n",
       "       15,  9, 17, 16, 14, 42, 28, 22, 25, 19, 21, 30, 26, 41, 27, 29, 31,\n",
       "       23, 43, 35, 33, 34, 37, 40, 36, 32], dtype=int64)"
      ]
     },
     "execution_count": 28,
     "metadata": {},
     "output_type": "execute_result"
    }
   ],
   "source": [
    "data['Floor'].unique()"
   ]
  },
  {
   "cell_type": "code",
   "execution_count": 29,
   "metadata": {},
   "outputs": [
    {
     "data": {
      "text/plain": [
       "4     317\n",
       "7     315\n",
       "11    310\n",
       "8     302\n",
       "5     294\n",
       "6     292\n",
       "13    288\n",
       "12    277\n",
       "9     272\n",
       "10    265\n",
       "3     262\n",
       "2     259\n",
       "15    259\n",
       "14    240\n",
       "16    210\n",
       "17    198\n",
       "18    198\n",
       "1     188\n",
       "19    184\n",
       "20    175\n",
       "21    146\n",
       "22    102\n",
       "24     97\n",
       "23     80\n",
       "25     70\n",
       "26     63\n",
       "29     31\n",
       "28     31\n",
       "27     28\n",
       "30     28\n",
       "31     23\n",
       "33     17\n",
       "35     11\n",
       "32     10\n",
       "43      7\n",
       "41      7\n",
       "42      7\n",
       "37      6\n",
       "39      5\n",
       "38      5\n",
       "36      4\n",
       "40      4\n",
       "34      4\n",
       "Name: Floor, dtype: int64"
      ]
     },
     "execution_count": 29,
     "metadata": {},
     "output_type": "execute_result"
    }
   ],
   "source": [
    "data.Floor.value_counts()"
   ]
  },
  {
   "cell_type": "code",
   "execution_count": 30,
   "metadata": {},
   "outputs": [
    {
     "data": {
      "text/plain": [
       "<matplotlib.axes._subplots.AxesSubplot at 0x239525dae88>"
      ]
     },
     "execution_count": 30,
     "metadata": {},
     "output_type": "execute_result"
    },
    {
     "data": {
      "image/png": "[encoded data removed]",
      "text/plain": [
       "<Figure size 432x288 with 1 Axes>"
      ]
     },
     "metadata": {
      "needs_background": "light"
     },
     "output_type": "display_data"
    }
   ],
   "source": [
    "sns.boxplot(data['Floor'])\n",
    "\n",
    "# presence of outliers"
   ]
  },
  {
   "cell_type": "markdown",
   "metadata": {},
   "source": [
    "# Cleaning Hallway"
   ]
  },
  {
   "cell_type": "code",
   "execution_count": 31,
   "metadata": {},
   "outputs": [
    {
     "data": {
      "text/plain": [
       "0    terraced\n",
       "1    corridor\n",
       "2    corridor\n",
       "3    terraced\n",
       "4       mixed\n",
       "Name: HallwayType, dtype: object"
      ]
     },
     "execution_count": 31,
     "metadata": {},
     "output_type": "execute_result"
    }
   ],
   "source": [
    "data['HallwayType'].head()"
   ]
  },
  {
   "cell_type": "code",
   "execution_count": 32,
   "metadata": {},
   "outputs": [
    {
     "data": {
      "text/plain": [
       "array(['terraced', 'corridor', 'mixed'], dtype=object)"
      ]
     },
     "execution_count": 32,
     "metadata": {},
     "output_type": "execute_result"
    }
   ],
   "source": [
    "data['HallwayType'].unique()"
   ]
  },
  {
   "cell_type": "code",
   "execution_count": 33,
   "metadata": {},
   "outputs": [
    {
     "data": {
      "text/plain": [
       "dtype('O')"
      ]
     },
     "execution_count": 33,
     "metadata": {},
     "output_type": "execute_result"
    }
   ],
   "source": [
    "data['HallwayType'].dtype"
   ]
  },
  {
   "cell_type": "markdown",
   "metadata": {},
   "source": [
    "# Cleaning Heating Type"
   ]
  },
  {
   "cell_type": "code",
   "execution_count": 34,
   "metadata": {},
   "outputs": [
    {
     "data": {
      "text/plain": [
       "dtype('O')"
      ]
     },
     "execution_count": 34,
     "metadata": {},
     "output_type": "execute_result"
    }
   ],
   "source": [
    "data['HeatingType'].dtype"
   ]
  },
  {
   "cell_type": "code",
   "execution_count": 35,
   "metadata": {},
   "outputs": [
    {
     "data": {
      "text/plain": [
       "array(['individual_heating', 'central_heating'], dtype=object)"
      ]
     },
     "execution_count": 35,
     "metadata": {},
     "output_type": "execute_result"
    }
   ],
   "source": [
    "data['HeatingType'].unique()"
   ]
  },
  {
   "cell_type": "code",
   "execution_count": 36,
   "metadata": {},
   "outputs": [
    {
     "data": {
      "text/plain": [
       "individual_heating    5591\n",
       "central_heating        300\n",
       "Name: HeatingType, dtype: int64"
      ]
     },
     "execution_count": 36,
     "metadata": {},
     "output_type": "execute_result"
    }
   ],
   "source": [
    "data.HeatingType.value_counts()"
   ]
  },
  {
   "cell_type": "markdown",
   "metadata": {},
   "source": [
    "# Cleaning AptManageType "
   ]
  },
  {
   "cell_type": "code",
   "execution_count": 37,
   "metadata": {},
   "outputs": [
    {
     "data": {
      "text/plain": [
       "dtype('O')"
      ]
     },
     "execution_count": 37,
     "metadata": {},
     "output_type": "execute_result"
    }
   ],
   "source": [
    "data['AptManageType'].dtype"
   ]
  },
  {
   "cell_type": "code",
   "execution_count": 38,
   "metadata": {},
   "outputs": [
    {
     "data": {
      "text/plain": [
       "array(['management_in_trust', 'self_management'], dtype=object)"
      ]
     },
     "execution_count": 38,
     "metadata": {},
     "output_type": "execute_result"
    }
   ],
   "source": [
    "data['AptManageType'].unique()"
   ]
  },
  {
   "cell_type": "code",
   "execution_count": 39,
   "metadata": {},
   "outputs": [
    {
     "data": {
      "text/plain": [
       "management_in_trust    5542\n",
       "self_management         349\n",
       "Name: AptManageType, dtype: int64"
      ]
     },
     "execution_count": 39,
     "metadata": {},
     "output_type": "execute_result"
    }
   ],
   "source": [
    "data['AptManageType'].value_counts()"
   ]
  },
  {
   "cell_type": "markdown",
   "metadata": {},
   "source": [
    "# Cleaning N_Parkinglot(Ground) "
   ]
  },
  {
   "cell_type": "code",
   "execution_count": 40,
   "metadata": {},
   "outputs": [
    {
     "data": {
      "text/plain": [
       "0    111.0\n",
       "1     80.0\n",
       "2     80.0\n",
       "3    249.0\n",
       "4    523.0\n",
       "Name: N_Parkinglot(Ground), dtype: float64"
      ]
     },
     "execution_count": 40,
     "metadata": {},
     "output_type": "execute_result"
    }
   ],
   "source": [
    "data['N_Parkinglot(Ground)'].head()"
   ]
  },
  {
   "cell_type": "code",
   "execution_count": 41,
   "metadata": {},
   "outputs": [
    {
     "data": {
      "text/plain": [
       "array([111.,  80., 249., 523., 200., 142., 713.,   0., 100., 123.,  82.,\n",
       "        67.,   7., 554.,  87.,  25., 197.,  90.,   8.,  11., 467., 175.,\n",
       "       102.])"
      ]
     },
     "execution_count": 41,
     "metadata": {},
     "output_type": "execute_result"
    }
   ],
   "source": [
    "parkinglot = data['N_Parkinglot(Ground)']\n",
    "parkinglot.unique()"
   ]
  },
  {
   "cell_type": "code",
   "execution_count": 42,
   "metadata": {},
   "outputs": [
    {
     "data": {
      "text/plain": [
       "67.0     737\n",
       "523.0    674\n",
       "0.0      665\n",
       "8.0      468\n",
       "554.0    312\n",
       "200.0    305\n",
       "7.0      303\n",
       "249.0    303\n",
       "713.0    300\n",
       "197.0    270\n",
       "25.0     238\n",
       "90.0     203\n",
       "111.0    201\n",
       "142.0    164\n",
       "123.0    161\n",
       "82.0     115\n",
       "175.0    111\n",
       "100.0     78\n",
       "11.0      69\n",
       "87.0      65\n",
       "80.0      65\n",
       "467.0     64\n",
       "102.0     20\n",
       "Name: N_Parkinglot(Ground), dtype: int64"
      ]
     },
     "execution_count": 42,
     "metadata": {},
     "output_type": "execute_result"
    }
   ],
   "source": [
    "data['N_Parkinglot(Ground)'].value_counts()"
   ]
  },
  {
   "cell_type": "markdown",
   "metadata": {},
   "source": [
    "# Cleaning N_Parkinglot(Basement) "
   ]
  },
  {
   "cell_type": "code",
   "execution_count": 43,
   "metadata": {},
   "outputs": [
    {
     "data": {
      "text/plain": [
       "0    184.0\n",
       "1     76.0\n",
       "2     76.0\n",
       "3    536.0\n",
       "4    536.0\n",
       "Name: N_Parkinglot(Basement), dtype: float64"
      ]
     },
     "execution_count": 43,
     "metadata": {},
     "output_type": "execute_result"
    }
   ],
   "source": [
    "data['N_Parkinglot(Basement)'].head()"
   ]
  },
  {
   "cell_type": "code",
   "execution_count": 44,
   "metadata": {},
   "outputs": [
    {
     "data": {
      "text/plain": [
       "536.0     977\n",
       "798.0     737\n",
       "0.0       670\n",
       "1270.0    610\n",
       "930.0     468\n",
       "524.0     312\n",
       "605.0     303\n",
       "203.0     302\n",
       "475.0     270\n",
       "1174.0    203\n",
       "184.0     201\n",
       "79.0      164\n",
       "181.0     161\n",
       "56.0      115\n",
       "1321.0    111\n",
       "18.0       78\n",
       "108.0      69\n",
       "76.0       65\n",
       "218.0      55\n",
       "400.0      20\n",
       "Name: N_Parkinglot(Basement), dtype: int64"
      ]
     },
     "execution_count": 44,
     "metadata": {},
     "output_type": "execute_result"
    }
   ],
   "source": [
    "data['N_Parkinglot(Basement)'].value_counts()"
   ]
  },
  {
   "cell_type": "markdown",
   "metadata": {},
   "source": [
    "# Cleaning TimeToBusStop"
   ]
  },
  {
   "cell_type": "code",
   "execution_count": 45,
   "metadata": {},
   "outputs": [
    {
     "data": {
      "text/plain": [
       "0    5min~10min\n",
       "1        0~5min\n",
       "2        0~5min\n",
       "3        0~5min\n",
       "4        0~5min\n",
       "Name: TimeToBusStop, dtype: object"
      ]
     },
     "execution_count": 45,
     "metadata": {},
     "output_type": "execute_result"
    }
   ],
   "source": [
    "data['TimeToBusStop'].head()"
   ]
  },
  {
   "cell_type": "code",
   "execution_count": 46,
   "metadata": {},
   "outputs": [
    {
     "data": {
      "text/plain": [
       "0       5min~10min\n",
       "1           0~5min\n",
       "2           0~5min\n",
       "3           0~5min\n",
       "4           0~5min\n",
       "           ...    \n",
       "5886        0~5min\n",
       "5887    5min~10min\n",
       "5888        0~5min\n",
       "5889        0~5min\n",
       "5890        0~5min\n",
       "Name: TimeToBusStopStart, Length: 5891, dtype: object"
      ]
     },
     "execution_count": 46,
     "metadata": {},
     "output_type": "execute_result"
    }
   ],
   "source": [
    "data['TimeToBusStopStart'] = data['TimeToBusStop']\n",
    "data['TimeToBusStopStart']"
   ]
  },
  {
   "cell_type": "code",
   "execution_count": 47,
   "metadata": {},
   "outputs": [
    {
     "data": {
      "text/plain": [
       "0    5~10\n",
       "1     0~5\n",
       "2     0~5\n",
       "3     0~5\n",
       "4     0~5\n",
       "Name: TimeToBusStop, dtype: object"
      ]
     },
     "execution_count": 47,
     "metadata": {},
     "output_type": "execute_result"
    }
   ],
   "source": [
    "data['TimeToBusStop'] = data['TimeToBusStop'].apply(lambda x: x.replace(\"min\",\"\").replace(\"min\",\"\"))\n",
    "\n",
    "data['TimeToBusStop'].head()"
   ]
  },
  {
   "cell_type": "code",
   "execution_count": 48,
   "metadata": {},
   "outputs": [
    {
     "data": {
      "text/plain": [
       "0    5\n",
       "1    0\n",
       "2    0\n",
       "3    0\n",
       "4    0\n",
       "Name: TimeToBusStopStart, dtype: int64"
      ]
     },
     "execution_count": 48,
     "metadata": {},
     "output_type": "execute_result"
    }
   ],
   "source": [
    "data['TimeToBusStopStart'] = data['TimeToBusStop'].apply(lambda x: int(x.split(\"~\")[0]))\n",
    "data['TimeToBusStopStart'].head()"
   ]
  },
  {
   "cell_type": "code",
   "execution_count": 49,
   "metadata": {},
   "outputs": [
    {
     "data": {
      "text/plain": [
       "0    10\n",
       "1     5\n",
       "2     5\n",
       "3     5\n",
       "4     5\n",
       "Name: TimeToBusStopEnd, dtype: int64"
      ]
     },
     "execution_count": 49,
     "metadata": {},
     "output_type": "execute_result"
    }
   ],
   "source": [
    "data['TimeToBusStopEnd'] = data['TimeToBusStop'].apply(lambda x: int(x.split(\"~\")[1]))\n",
    "\n",
    "data['TimeToBusStopEnd'].head()"
   ]
  },
  {
   "cell_type": "markdown",
   "metadata": {},
   "source": [
    "# Cleaning TimeToSubway"
   ]
  },
  {
   "cell_type": "code",
   "execution_count": 50,
   "metadata": {},
   "outputs": [
    {
     "data": {
      "text/plain": [
       "dtype('O')"
      ]
     },
     "execution_count": 50,
     "metadata": {},
     "output_type": "execute_result"
    }
   ],
   "source": [
    "data['TimeToSubway'].dtype"
   ]
  },
  {
   "cell_type": "code",
   "execution_count": 51,
   "metadata": {},
   "outputs": [
    {
     "data": {
      "text/plain": [
       "0    10min~15min\n",
       "1     5min~10min\n",
       "2     5min~10min\n",
       "3         0-5min\n",
       "4    15min~20min\n",
       "Name: TimeToSubway, dtype: object"
      ]
     },
     "execution_count": 51,
     "metadata": {},
     "output_type": "execute_result"
    }
   ],
   "source": [
    "data['TimeToSubway'].head()"
   ]
  },
  {
   "cell_type": "code",
   "execution_count": 52,
   "metadata": {},
   "outputs": [],
   "source": [
    "data['TimeToSubway'] = data['TimeToSubway'].apply(lambda x: x.replace(\"min\",\"\").replace(\"min\",\"\"))"
   ]
  },
  {
   "cell_type": "code",
   "execution_count": 53,
   "metadata": {},
   "outputs": [
    {
     "data": {
      "text/plain": [
       "0     10\n",
       "1      5\n",
       "2      5\n",
       "3    0-5\n",
       "4     15\n",
       "Name: TimeToSubwayStart, dtype: object"
      ]
     },
     "execution_count": 53,
     "metadata": {},
     "output_type": "execute_result"
    }
   ],
   "source": [
    "data['TimeToSubwayStart'] = data['TimeToSubway'].apply(lambda x: (x.split(\"~\")[0]))\n",
    "\n",
    "data['TimeToSubwayStart'].head()"
   ]
  },
  {
   "cell_type": "code",
   "execution_count": 54,
   "metadata": {},
   "outputs": [
    {
     "data": {
      "text/plain": [
       "0    10\n",
       "1     5\n",
       "2     5\n",
       "3     5\n",
       "4     5\n",
       "Name: TimeToSubwayEnd, dtype: int64"
      ]
     },
     "execution_count": 54,
     "metadata": {},
     "output_type": "execute_result"
    }
   ],
   "source": [
    "data['TimeToSubwayEnd'] = data['TimeToBusStop'].apply(lambda x: int(x.split(\"~\")[1]))\n",
    "data['TimeToSubwayEnd'].head()"
   ]
  },
  {
   "cell_type": "markdown",
   "metadata": {},
   "source": [
    "# Cleaning N_APT"
   ]
  },
  {
   "cell_type": "code",
   "execution_count": 55,
   "metadata": {},
   "outputs": [
    {
     "data": {
      "text/plain": [
       "0    3.0\n",
       "1    1.0\n",
       "2    1.0\n",
       "3    6.0\n",
       "4    8.0\n",
       "Name: N_APT, dtype: float64"
      ]
     },
     "execution_count": 55,
     "metadata": {},
     "output_type": "execute_result"
    }
   ],
   "source": [
    "data['N_APT'].head()"
   ]
  },
  {
   "cell_type": "code",
   "execution_count": 56,
   "metadata": {},
   "outputs": [
    {
     "data": {
      "text/plain": [
       "8.0     1411\n",
       "7.0     1378\n",
       "3.0     1143\n",
       "1.0      620\n",
       "6.0      593\n",
       "2.0      368\n",
       "10.0     203\n",
       "13.0     111\n",
       "5.0       64\n",
       "Name: N_APT, dtype: int64"
      ]
     },
     "execution_count": 56,
     "metadata": {},
     "output_type": "execute_result"
    }
   ],
   "source": [
    "data['N_APT'].value_counts()"
   ]
  },
  {
   "cell_type": "code",
   "execution_count": 57,
   "metadata": {},
   "outputs": [
    {
     "data": {
      "text/plain": [
       "<matplotlib.axes._subplots.AxesSubplot at 0x23952645d88>"
      ]
     },
     "execution_count": 57,
     "metadata": {},
     "output_type": "execute_result"
    },
    {
     "data": {
      "image/png": "[encoded data removed]",
      "text/plain": [
       "<Figure size 432x288 with 1 Axes>"
      ]
     },
     "metadata": {
      "needs_background": "light"
     },
     "output_type": "display_data"
    }
   ],
   "source": [
    "sns.boxplot(data['N_APT'])"
   ]
  },
  {
   "cell_type": "markdown",
   "metadata": {},
   "source": [
    "# Cleaning N_manager "
   ]
  },
  {
   "cell_type": "code",
   "execution_count": 58,
   "metadata": {},
   "outputs": [
    {
     "data": {
      "text/plain": [
       "0    3.0\n",
       "1    2.0\n",
       "2    2.0\n",
       "3    5.0\n",
       "4    8.0\n",
       "Name: N_manager, dtype: float64"
      ]
     },
     "execution_count": 58,
     "metadata": {},
     "output_type": "execute_result"
    }
   ],
   "source": [
    "data['N_manager'].head()"
   ]
  },
  {
   "cell_type": "code",
   "execution_count": 59,
   "metadata": {},
   "outputs": [
    {
     "data": {
      "text/plain": [
       "6.0     1475\n",
       "5.0     1307\n",
       "8.0     1085\n",
       "14.0     610\n",
       "3.0      431\n",
       "2.0      418\n",
       "4.0      219\n",
       "7.0      203\n",
       "1.0      143\n",
       "Name: N_manager, dtype: int64"
      ]
     },
     "execution_count": 59,
     "metadata": {},
     "output_type": "execute_result"
    }
   ],
   "source": [
    "data['N_manager'].value_counts()"
   ]
  },
  {
   "cell_type": "markdown",
   "metadata": {},
   "source": [
    "# Cleaning N_elevators"
   ]
  },
  {
   "cell_type": "code",
   "execution_count": 60,
   "metadata": {},
   "outputs": [
    {
     "data": {
      "text/plain": [
       "0     0.0\n",
       "1     2.0\n",
       "2     2.0\n",
       "3    11.0\n",
       "4    20.0\n",
       "Name: N_elevators, dtype: float64"
      ]
     },
     "execution_count": 60,
     "metadata": {},
     "output_type": "execute_result"
    }
   ],
   "source": [
    "data['N_elevators'].head()"
   ]
  },
  {
   "cell_type": "code",
   "execution_count": 61,
   "metadata": {},
   "outputs": [
    {
     "data": {
      "text/plain": [
       "0.0     1062\n",
       "20.0     877\n",
       "14.0     738\n",
       "10.0     637\n",
       "16.0     610\n",
       "5.0      541\n",
       "11.0     464\n",
       "27.0     300\n",
       "4.0      180\n",
       "8.0      164\n",
       "2.0      143\n",
       "24.0     111\n",
       "12.0      64\n",
       "Name: N_elevators, dtype: int64"
      ]
     },
     "execution_count": 61,
     "metadata": {},
     "output_type": "execute_result"
    }
   ],
   "source": [
    "data['N_elevators'].value_counts()"
   ]
  },
  {
   "cell_type": "markdown",
   "metadata": {},
   "source": [
    "# Cleaing SubwayStation"
   ]
  },
  {
   "cell_type": "code",
   "execution_count": 62,
   "metadata": {},
   "outputs": [
    {
     "data": {
      "text/plain": [
       "0    Kyungbuk_uni_hospital\n",
       "1                    Daegu\n",
       "2                    Daegu\n",
       "3                  Sin-nam\n",
       "4                Myung-duk\n",
       "Name: SubwayStation, dtype: object"
      ]
     },
     "execution_count": 62,
     "metadata": {},
     "output_type": "execute_result"
    }
   ],
   "source": [
    "data['SubwayStation'].head()"
   ]
  },
  {
   "cell_type": "code",
   "execution_count": 63,
   "metadata": {},
   "outputs": [
    {
     "data": {
      "text/plain": [
       "array(['Kyungbuk_uni_hospital', 'Daegu', 'Sin-nam', 'Myung-duk',\n",
       "       'Chil-sung-market', 'Bangoge', 'Banwoldang', 'no_subway_nearby'],\n",
       "      dtype=object)"
      ]
     },
     "execution_count": 63,
     "metadata": {},
     "output_type": "execute_result"
    }
   ],
   "source": [
    "data['SubwayStation'].unique() # no abnormal values"
   ]
  },
  {
   "cell_type": "code",
   "execution_count": 64,
   "metadata": {},
   "outputs": [
    {
     "data": {
      "text/plain": [
       "Kyungbuk_uni_hospital    1644\n",
       "Myung-duk                1507\n",
       "Banwoldang                748\n",
       "Bangoge                   737\n",
       "Sin-nam                   651\n",
       "no_subway_nearby          404\n",
       "Chil-sung-market          115\n",
       "Daegu                      85\n",
       "Name: SubwayStation, dtype: int64"
      ]
     },
     "execution_count": 64,
     "metadata": {},
     "output_type": "execute_result"
    }
   ],
   "source": [
    "data['SubwayStation'].value_counts()"
   ]
  },
  {
   "cell_type": "markdown",
   "metadata": {},
   "source": [
    "# Cleaningn N_FacilitiesNearBy(PublicOffice)"
   ]
  },
  {
   "cell_type": "code",
   "execution_count": 65,
   "metadata": {},
   "outputs": [
    {
     "data": {
      "text/plain": [
       "0    2.0\n",
       "1    5.0\n",
       "2    5.0\n",
       "3    1.0\n",
       "4    6.0\n",
       "Name: N_FacilitiesNearBy(PublicOffice), dtype: float64"
      ]
     },
     "execution_count": 65,
     "metadata": {},
     "output_type": "execute_result"
    }
   ],
   "source": [
    "data['N_FacilitiesNearBy(PublicOffice)'].head()"
   ]
  },
  {
   "cell_type": "code",
   "execution_count": 66,
   "metadata": {},
   "outputs": [
    {
     "data": {
      "text/plain": [
       "5.0    1812\n",
       "3.0    1195\n",
       "2.0     751\n",
       "6.0     674\n",
       "7.0     623\n",
       "1.0     414\n",
       "4.0     358\n",
       "0.0      64\n",
       "Name: N_FacilitiesNearBy(PublicOffice), dtype: int64"
      ]
     },
     "execution_count": 66,
     "metadata": {},
     "output_type": "execute_result"
    }
   ],
   "source": [
    "data['N_FacilitiesNearBy(PublicOffice)'].value_counts()"
   ]
  },
  {
   "cell_type": "code",
   "execution_count": 67,
   "metadata": {},
   "outputs": [
    {
     "data": {
      "text/plain": [
       "<matplotlib.axes._subplots.AxesSubplot at 0x239527ab0c8>"
      ]
     },
     "execution_count": 67,
     "metadata": {},
     "output_type": "execute_result"
    },
    {
     "data": {
      "image/png": "[encoded data removed]",
      "text/plain": [
       "<Figure size 432x288 with 1 Axes>"
      ]
     },
     "metadata": {
      "needs_background": "light"
     },
     "output_type": "display_data"
    }
   ],
   "source": [
    "sns.boxplot(data['N_FacilitiesNearBy(PublicOffice)'])"
   ]
  },
  {
   "cell_type": "markdown",
   "metadata": {},
   "source": [
    "# Cleaning N_FacilitiesNearBy(Hospital) "
   ]
  },
  {
   "cell_type": "code",
   "execution_count": 68,
   "metadata": {},
   "outputs": [
    {
     "data": {
      "text/plain": [
       "0    1\n",
       "1    1\n",
       "2    1\n",
       "3    1\n",
       "4    2\n",
       "Name: N_FacilitiesNearBy(Hospital), dtype: int64"
      ]
     },
     "execution_count": 68,
     "metadata": {},
     "output_type": "execute_result"
    }
   ],
   "source": [
    "data['N_FacilitiesNearBy(Hospital)'].head()"
   ]
  },
  {
   "cell_type": "code",
   "execution_count": 69,
   "metadata": {},
   "outputs": [
    {
     "data": {
      "text/plain": [
       "array([1, 2, 0], dtype=int64)"
      ]
     },
     "execution_count": 69,
     "metadata": {},
     "output_type": "execute_result"
    }
   ],
   "source": [
    "data['N_FacilitiesNearBy(Hospital)'].unique()"
   ]
  },
  {
   "cell_type": "code",
   "execution_count": 70,
   "metadata": {},
   "outputs": [
    {
     "data": {
      "text/plain": [
       "1    4019\n",
       "2    1808\n",
       "0      64\n",
       "Name: N_FacilitiesNearBy(Hospital), dtype: int64"
      ]
     },
     "execution_count": 70,
     "metadata": {},
     "output_type": "execute_result"
    }
   ],
   "source": [
    "data['N_FacilitiesNearBy(Hospital)'].value_counts()\n",
    "\n",
    "# considering you'd want to live near a hospital it's fair to say some work on 0 might need to be done"
   ]
  },
  {
   "cell_type": "code",
   "execution_count": 71,
   "metadata": {},
   "outputs": [
    {
     "data": {
      "text/plain": [
       "<matplotlib.axes._subplots.AxesSubplot at 0x23952804e48>"
      ]
     },
     "execution_count": 71,
     "metadata": {},
     "output_type": "execute_result"
    },
    {
     "data": {
      "image/png": "[encoded data removed]",
      "text/plain": [
       "<Figure size 432x288 with 1 Axes>"
      ]
     },
     "metadata": {
      "needs_background": "light"
     },
     "output_type": "display_data"
    }
   ],
   "source": [
    "sns.boxplot(data['N_FacilitiesNearBy(Hospital)'])"
   ]
  },
  {
   "cell_type": "markdown",
   "metadata": {},
   "source": [
    "# Cleaning N_FacilitiesNearBy(Dpartmentstore)"
   ]
  },
  {
   "cell_type": "code",
   "execution_count": 72,
   "metadata": {},
   "outputs": [
    {
     "data": {
      "text/plain": [
       "0    1.0\n",
       "1    2.0\n",
       "2    2.0\n",
       "3    0.0\n",
       "4    0.0\n",
       "Name: N_FacilitiesNearBy(Dpartmentstore), dtype: float64"
      ]
     },
     "execution_count": 72,
     "metadata": {},
     "output_type": "execute_result"
    }
   ],
   "source": [
    "data['N_FacilitiesNearBy(Dpartmentstore)'].head()"
   ]
  },
  {
   "cell_type": "code",
   "execution_count": 73,
   "metadata": {},
   "outputs": [
    {
     "data": {
      "text/plain": [
       "0.0    2274\n",
       "1.0    1954\n",
       "2.0    1663\n",
       "Name: N_FacilitiesNearBy(Dpartmentstore), dtype: int64"
      ]
     },
     "execution_count": 73,
     "metadata": {},
     "output_type": "execute_result"
    }
   ],
   "source": [
    "data['N_FacilitiesNearBy(Dpartmentstore)'].value_counts()"
   ]
  },
  {
   "cell_type": "code",
   "execution_count": 74,
   "metadata": {},
   "outputs": [
    {
     "data": {
      "text/plain": [
       "<matplotlib.axes._subplots.AxesSubplot at 0x23952853108>"
      ]
     },
     "execution_count": 74,
     "metadata": {},
     "output_type": "execute_result"
    },
    {
     "data": {
      "image/png": "[encoded data removed]",
      "text/plain": [
       "<Figure size 432x288 with 1 Axes>"
      ]
     },
     "metadata": {
      "needs_background": "light"
     },
     "output_type": "display_data"
    }
   ],
   "source": [
    "sns.boxplot(data['N_FacilitiesNearBy(Dpartmentstore)'])"
   ]
  },
  {
   "cell_type": "markdown",
   "metadata": {},
   "source": [
    "# Cleaning N_FacilitiesNearBy(Mall)"
   ]
  },
  {
   "cell_type": "code",
   "execution_count": 75,
   "metadata": {},
   "outputs": [
    {
     "data": {
      "text/plain": [
       "0    1.0\n",
       "1    1.0\n",
       "2    1.0\n",
       "3    1.0\n",
       "4    1.0\n",
       "Name: N_FacilitiesNearBy(Mall), dtype: float64"
      ]
     },
     "execution_count": 75,
     "metadata": {},
     "output_type": "execute_result"
    }
   ],
   "source": [
    "data['N_FacilitiesNearBy(Mall)'].head()"
   ]
  },
  {
   "cell_type": "code",
   "execution_count": 76,
   "metadata": {},
   "outputs": [
    {
     "data": {
      "text/plain": [
       "1.0    4922\n",
       "0.0     657\n",
       "2.0     312\n",
       "Name: N_FacilitiesNearBy(Mall), dtype: int64"
      ]
     },
     "execution_count": 76,
     "metadata": {},
     "output_type": "execute_result"
    }
   ],
   "source": [
    "data['N_FacilitiesNearBy(Mall)'].value_counts()"
   ]
  },
  {
   "cell_type": "code",
   "execution_count": 77,
   "metadata": {},
   "outputs": [
    {
     "data": {
      "text/plain": [
       "<matplotlib.axes._subplots.AxesSubplot at 0x239528e1908>"
      ]
     },
     "execution_count": 77,
     "metadata": {},
     "output_type": "execute_result"
    },
    {
     "data": {
      "image/png": "[encoded data removed]",
      "text/plain": [
       "<Figure size 432x288 with 1 Axes>"
      ]
     },
     "metadata": {
      "needs_background": "light"
     },
     "output_type": "display_data"
    }
   ],
   "source": [
    "sns.boxplot(data['N_FacilitiesNearBy(Mall)'])\n",
    "\n",
    "#presence of outliers"
   ]
  },
  {
   "cell_type": "markdown",
   "metadata": {},
   "source": [
    "# Cleaning N_FacilitiesNearBy(ETC)"
   ]
  },
  {
   "cell_type": "code",
   "execution_count": 78,
   "metadata": {},
   "outputs": [
    {
     "data": {
      "text/plain": [
       "0    1.0\n",
       "1    2.0\n",
       "2    2.0\n",
       "3    0.0\n",
       "4    5.0\n",
       "Name: N_FacilitiesNearBy(ETC), dtype: float64"
      ]
     },
     "execution_count": 78,
     "metadata": {},
     "output_type": "execute_result"
    }
   ],
   "source": [
    "data['N_FacilitiesNearBy(ETC)'].head()"
   ]
  },
  {
   "cell_type": "code",
   "execution_count": 79,
   "metadata": {},
   "outputs": [
    {
     "data": {
      "text/plain": [
       "0.0    2595\n",
       "5.0    1919\n",
       "1.0     913\n",
       "2.0     464\n",
       "Name: N_FacilitiesNearBy(ETC), dtype: int64"
      ]
     },
     "execution_count": 79,
     "metadata": {},
     "output_type": "execute_result"
    }
   ],
   "source": [
    "data['N_FacilitiesNearBy(ETC)'].value_counts()"
   ]
  },
  {
   "cell_type": "code",
   "execution_count": 80,
   "metadata": {},
   "outputs": [
    {
     "data": {
      "text/plain": [
       "<matplotlib.axes._subplots.AxesSubplot at 0x2395294ff48>"
      ]
     },
     "execution_count": 80,
     "metadata": {},
     "output_type": "execute_result"
    },
    {
     "data": {
      "image/png": "[encoded data removed]",
      "text/plain": [
       "<Figure size 432x288 with 1 Axes>"
      ]
     },
     "metadata": {
      "needs_background": "light"
     },
     "output_type": "display_data"
    }
   ],
   "source": [
    "sns.boxplot(data['N_FacilitiesNearBy(ETC)'])"
   ]
  },
  {
   "cell_type": "markdown",
   "metadata": {},
   "source": [
    "# Cleaning N_SchoolNearBy(Elementary)"
   ]
  },
  {
   "cell_type": "code",
   "execution_count": 81,
   "metadata": {},
   "outputs": [
    {
     "name": "stdout",
     "output_type": "stream",
     "text": [
      "0    3.0\n",
      "1    2.0\n",
      "2    2.0\n",
      "3    2.0\n",
      "4    4.0\n",
      "Name: N_SchoolNearBy(Elementary), dtype: float64\n",
      "3.0    2097\n",
      "4.0    1926\n",
      "2.0    1671\n",
      "0.0     119\n",
      "6.0      78\n",
      "Name: N_SchoolNearBy(Elementary), dtype: int64\n"
     ]
    }
   ],
   "source": [
    "print(data['N_SchoolNearBy(Elementary)'].head())\n",
    "\n",
    "print(data['N_SchoolNearBy(Elementary)'].value_counts())"
   ]
  },
  {
   "cell_type": "code",
   "execution_count": 82,
   "metadata": {},
   "outputs": [
    {
     "data": {
      "text/plain": [
       "<matplotlib.axes._subplots.AxesSubplot at 0x239519b8808>"
      ]
     },
     "execution_count": 82,
     "metadata": {},
     "output_type": "execute_result"
    },
    {
     "data": {
      "image/png": "[encoded data removed]",
      "text/plain": [
       "<Figure size 432x288 with 1 Axes>"
      ]
     },
     "metadata": {
      "needs_background": "light"
     },
     "output_type": "display_data"
    }
   ],
   "source": [
    "sns.boxplot(data['N_SchoolNearBy(Elementary)'])"
   ]
  },
  {
   "cell_type": "markdown",
   "metadata": {},
   "source": [
    "# Cleaning N_FacilitiesNearBy(Park)"
   ]
  },
  {
   "cell_type": "code",
   "execution_count": 83,
   "metadata": {
    "scrolled": false
   },
   "outputs": [
    {
     "name": "stdout",
     "output_type": "stream",
     "text": [
      "0    0.0\n",
      "1    1.0\n",
      "2    1.0\n",
      "3    0.0\n",
      "4    0.0\n",
      "Name: N_FacilitiesNearBy(Park), dtype: float64\n",
      "0.0    2647\n",
      "1.0    2634\n",
      "2.0     610\n",
      "Name: N_FacilitiesNearBy(Park), dtype: int64\n"
     ]
    }
   ],
   "source": [
    "print(data['N_FacilitiesNearBy(Park)'].head())\n",
    "\n",
    "print(data['N_FacilitiesNearBy(Park)'].value_counts())"
   ]
  },
  {
   "cell_type": "code",
   "execution_count": 84,
   "metadata": {},
   "outputs": [
    {
     "data": {
      "text/plain": [
       "<matplotlib.axes._subplots.AxesSubplot at 0x23952a19848>"
      ]
     },
     "execution_count": 84,
     "metadata": {},
     "output_type": "execute_result"
    },
    {
     "data": {
      "image/png": "[encoded data removed]",
      "text/plain": [
       "<Figure size 432x288 with 1 Axes>"
      ]
     },
     "metadata": {
      "needs_background": "light"
     },
     "output_type": "display_data"
    }
   ],
   "source": [
    "sns.boxplot(data['N_FacilitiesNearBy(Park)'])"
   ]
  },
  {
   "cell_type": "markdown",
   "metadata": {},
   "source": [
    "# Cleaning N_SchoolNearBy(Middle)"
   ]
  },
  {
   "cell_type": "code",
   "execution_count": 85,
   "metadata": {},
   "outputs": [
    {
     "name": "stdout",
     "output_type": "stream",
     "text": [
      "0    2.0\n",
      "1    1.0\n",
      "2    1.0\n",
      "3    2.0\n",
      "4    3.0\n",
      "Name: N_SchoolNearBy(Middle), dtype: float64\n",
      "3.0    2472\n",
      "2.0    1431\n",
      "1.0    1017\n",
      "4.0     737\n",
      "0.0     234\n",
      "Name: N_SchoolNearBy(Middle), dtype: int64\n"
     ]
    }
   ],
   "source": [
    "print(data['N_SchoolNearBy(Middle)'].head())\n",
    "\n",
    "print(data['N_SchoolNearBy(Middle)'].value_counts())"
   ]
  },
  {
   "cell_type": "code",
   "execution_count": 86,
   "metadata": {},
   "outputs": [
    {
     "data": {
      "text/plain": [
       "<matplotlib.axes._subplots.AxesSubplot at 0x23952a84288>"
      ]
     },
     "execution_count": 86,
     "metadata": {},
     "output_type": "execute_result"
    },
    {
     "data": {
      "image/png": "[encoded data removed]",
      "text/plain": [
       "<Figure size 432x288 with 1 Axes>"
      ]
     },
     "metadata": {
      "needs_background": "light"
     },
     "output_type": "display_data"
    }
   ],
   "source": [
    "sns.boxplot(data['N_SchoolNearBy(Middle)'])"
   ]
  },
  {
   "cell_type": "markdown",
   "metadata": {},
   "source": [
    "# Cleaning N_schoolNearBy(High)"
   ]
  },
  {
   "cell_type": "code",
   "execution_count": 87,
   "metadata": {
    "scrolled": true
   },
   "outputs": [
    {
     "name": "stdout",
     "output_type": "stream",
     "text": [
      "0    2.0\n",
      "1    1.0\n",
      "2    1.0\n",
      "3    1.0\n",
      "4    5.0\n",
      "Name: N_SchoolNearBy(High), dtype: float64\n",
      "2.0    1930\n",
      "1.0    1320\n",
      "5.0    1182\n",
      "4.0     901\n",
      "3.0     324\n",
      "0.0     234\n",
      "Name: N_SchoolNearBy(High), dtype: int64\n"
     ]
    }
   ],
   "source": [
    "print(data['N_SchoolNearBy(High)'].head())\n",
    "\n",
    "print(data['N_SchoolNearBy(High)'].value_counts())"
   ]
  },
  {
   "cell_type": "code",
   "execution_count": 88,
   "metadata": {},
   "outputs": [
    {
     "data": {
      "text/plain": [
       "<matplotlib.axes._subplots.AxesSubplot at 0x23952afd708>"
      ]
     },
     "execution_count": 88,
     "metadata": {},
     "output_type": "execute_result"
    },
    {
     "data": {
      "image/png": "[encoded data removed]",
      "text/plain": [
       "<Figure size 432x288 with 1 Axes>"
      ]
     },
     "metadata": {
      "needs_background": "light"
     },
     "output_type": "display_data"
    }
   ],
   "source": [
    "sns.boxplot(data['N_SchoolNearBy(High)'])"
   ]
  },
  {
   "cell_type": "markdown",
   "metadata": {},
   "source": [
    "# Cleaning N_SchoolNearBy(University)"
   ]
  },
  {
   "cell_type": "code",
   "execution_count": 89,
   "metadata": {},
   "outputs": [
    {
     "name": "stdout",
     "output_type": "stream",
     "text": [
      "0    2.0\n",
      "1    0.0\n",
      "2    0.0\n",
      "3    2.0\n",
      "4    5.0\n",
      "Name: N_SchoolNearBy(University), dtype: float64\n",
      "2.0    1928\n",
      "5.0    1182\n",
      "1.0    1168\n",
      "4.0     901\n",
      "3.0     583\n",
      "0.0     129\n",
      "Name: N_SchoolNearBy(University), dtype: int64\n"
     ]
    }
   ],
   "source": [
    "print(data['N_SchoolNearBy(University)'].head())\n",
    "print(data['N_SchoolNearBy(University)'].value_counts())\n"
   ]
  },
  {
   "cell_type": "code",
   "execution_count": 90,
   "metadata": {},
   "outputs": [
    {
     "data": {
      "text/plain": [
       "<matplotlib.axes._subplots.AxesSubplot at 0x23952b60448>"
      ]
     },
     "execution_count": 90,
     "metadata": {},
     "output_type": "execute_result"
    },
    {
     "data": {
      "image/png": "[encoded data removed]",
      "text/plain": [
       "<Figure size 432x288 with 1 Axes>"
      ]
     },
     "metadata": {
      "needs_background": "light"
     },
     "output_type": "display_data"
    }
   ],
   "source": [
    "sns.boxplot(data['N_SchoolNearBy(University)'])"
   ]
  },
  {
   "cell_type": "markdown",
   "metadata": {},
   "source": [
    "# Cleaning N_FacilitiesInApt "
   ]
  },
  {
   "cell_type": "code",
   "execution_count": 91,
   "metadata": {},
   "outputs": [
    {
     "name": "stdout",
     "output_type": "stream",
     "text": [
      "0    5\n",
      "1    3\n",
      "2    3\n",
      "3    5\n",
      "4    4\n",
      "Name: N_FacilitiesInApt, dtype: int64\n",
      "4     1447\n",
      "7     1225\n",
      "5     1160\n",
      "10     785\n",
      "3      677\n",
      "8      270\n",
      "9      203\n",
      "2       69\n",
      "1       55\n",
      "Name: N_FacilitiesInApt, dtype: int64\n"
     ]
    }
   ],
   "source": [
    "print(data['N_FacilitiesInApt'].head())\n",
    "\n",
    "print(data['N_FacilitiesInApt'].value_counts())"
   ]
  },
  {
   "cell_type": "code",
   "execution_count": 92,
   "metadata": {},
   "outputs": [
    {
     "data": {
      "text/plain": [
       "<matplotlib.axes._subplots.AxesSubplot at 0x23952bb0848>"
      ]
     },
     "execution_count": 92,
     "metadata": {},
     "output_type": "execute_result"
    },
    {
     "data": {
      "image/png": "[encoded data removed]",
      "text/plain": [
       "<Figure size 432x288 with 1 Axes>"
      ]
     },
     "metadata": {
      "needs_background": "light"
     },
     "output_type": "display_data"
    }
   ],
   "source": [
    "sns.boxplot(data['N_FacilitiesInApt'])"
   ]
  },
  {
   "cell_type": "markdown",
   "metadata": {},
   "source": [
    "# Cleaning N_FacilitiesNearBy(Total)"
   ]
  },
  {
   "cell_type": "code",
   "execution_count": 93,
   "metadata": {},
   "outputs": [
    {
     "name": "stdout",
     "output_type": "stream",
     "text": [
      "0     6.0\n",
      "1    12.0\n",
      "2    12.0\n",
      "3     3.0\n",
      "4    14.0\n",
      "Name: N_FacilitiesNearBy(Total), dtype: float64\n",
      "9.0     2157\n",
      "14.0     877\n",
      "13.0     852\n",
      "6.0      605\n",
      "7.0      355\n",
      "16.0     305\n",
      "3.0      303\n",
      "8.0      230\n",
      "11.0      78\n",
      "12.0      65\n",
      "0.0       64\n",
      "Name: N_FacilitiesNearBy(Total), dtype: int64\n"
     ]
    }
   ],
   "source": [
    "print(data['N_FacilitiesNearBy(Total)'].head())\n",
    "\n",
    "print(data['N_FacilitiesNearBy(Total)'].value_counts())"
   ]
  },
  {
   "cell_type": "code",
   "execution_count": 94,
   "metadata": {},
   "outputs": [
    {
     "data": {
      "text/plain": [
       "<matplotlib.axes._subplots.AxesSubplot at 0x23952c38408>"
      ]
     },
     "execution_count": 94,
     "metadata": {},
     "output_type": "execute_result"
    },
    {
     "data": {
      "image/png": "[encoded data removed]",
      "text/plain": [
       "<Figure size 432x288 with 1 Axes>"
      ]
     },
     "metadata": {
      "needs_background": "light"
     },
     "output_type": "display_data"
    }
   ],
   "source": [
    "sns.boxplot(data['N_FacilitiesNearBy(Total)'])"
   ]
  },
  {
   "cell_type": "markdown",
   "metadata": {},
   "source": [
    "# Cleaning N_SchoolNearBy(Total) "
   ]
  },
  {
   "cell_type": "code",
   "execution_count": 95,
   "metadata": {},
   "outputs": [
    {
     "name": "stdout",
     "output_type": "stream",
     "text": [
      "0     9.0\n",
      "1     4.0\n",
      "2     4.0\n",
      "3     7.0\n",
      "4    17.0\n",
      "Name: N_SchoolNearBy(Total), dtype: float64\n",
      "17.0    1182\n",
      "15.0     737\n",
      "11.0     714\n",
      "5.0      652\n",
      "10.0     610\n",
      "9.0      471\n",
      "7.0      418\n",
      "8.0      381\n",
      "6.0      300\n",
      "14.0     164\n",
      "13.0      78\n",
      "4.0       65\n",
      "0.0       64\n",
      "1.0       55\n",
      "Name: N_SchoolNearBy(Total), dtype: int64\n"
     ]
    }
   ],
   "source": [
    "print(data['N_SchoolNearBy(Total)'].head())\n",
    "print(data['N_SchoolNearBy(Total)'].value_counts())"
   ]
  },
  {
   "cell_type": "code",
   "execution_count": 96,
   "metadata": {},
   "outputs": [
    {
     "data": {
      "text/plain": [
       "<matplotlib.axes._subplots.AxesSubplot at 0x23951ca1348>"
      ]
     },
     "execution_count": 96,
     "metadata": {},
     "output_type": "execute_result"
    },
    {
     "data": {
      "image/png": "[encoded data removed]",
      "text/plain": [
       "<Figure size 432x288 with 1 Axes>"
      ]
     },
     "metadata": {
      "needs_background": "light"
     },
     "output_type": "display_data"
    }
   ],
   "source": [
    "sns.boxplot(data['N_SchoolNearBy(Total)'])"
   ]
  },
  {
   "cell_type": "markdown",
   "metadata": {},
   "source": [
    "# Exploratory Data Analysis\n"
   ]
  },
  {
   "cell_type": "code",
   "execution_count": 97,
   "metadata": {},
   "outputs": [
    {
     "data": {
      "text/plain": [
       "<matplotlib.axes._subplots.AxesSubplot at 0x23952d0bf88>"
      ]
     },
     "execution_count": 97,
     "metadata": {},
     "output_type": "execute_result"
    },
    {
     "data": {
      "image/png": "[encoded data removed]",
      "text/plain": [
       "<Figure size 432x288 with 1 Axes>"
      ]
     },
     "metadata": {
      "needs_background": "light"
     },
     "output_type": "display_data"
    }
   ],
   "source": [
    "# Visualizing Target Variable (y) SalePrice\n",
    "\n",
    "sns.distplot(data['SalePrice'])\n",
    "\n",
    "# log transformation required"
   ]
  },
  {
   "cell_type": "code",
   "execution_count": 98,
   "metadata": {},
   "outputs": [
    {
     "data": {
      "text/plain": [
       "count      5891.000000\n",
       "mean     221218.112545\n",
       "std      106384.186446\n",
       "min       32743.000000\n",
       "25%      144247.000000\n",
       "50%      207964.000000\n",
       "75%      291150.000000\n",
       "max      585840.000000\n",
       "Name: SalePrice, dtype: float64"
      ]
     },
     "execution_count": 98,
     "metadata": {},
     "output_type": "execute_result"
    }
   ],
   "source": [
    "data['SalePrice'].describe()"
   ]
  },
  {
   "cell_type": "code",
   "execution_count": 99,
   "metadata": {},
   "outputs": [
    {
     "data": {
      "text/plain": [
       "<matplotlib.axes._subplots.AxesSubplot at 0x23952d95c08>"
      ]
     },
     "execution_count": 99,
     "metadata": {},
     "output_type": "execute_result"
    },
    {
     "data": {
      "image/png": "[encoded data removed]",
      "text/plain": [
       "<Figure size 432x288 with 1 Axes>"
      ]
     },
     "metadata": {
      "needs_background": "light"
     },
     "output_type": "display_data"
    }
   ],
   "source": [
    "sns.boxplot(data['SalePrice'])\n",
    "\n",
    "# presence of outliers"
   ]
  },
  {
   "cell_type": "code",
   "execution_count": 100,
   "metadata": {},
   "outputs": [
    {
     "data": {
      "image/png": "[encoded data removed]",
      "text/plain": [
       "<Figure size 432x288 with 1 Axes>"
      ]
     },
     "metadata": {
      "needs_background": "light"
     },
     "output_type": "display_data"
    }
   ],
   "source": [
    "# plotting the parking lot features\n",
    "\n",
    "data['N_Parkinglot(Ground)'].hist()\n",
    "plt.xlabel('ParkingLotValue')\n",
    "plt.ylabel('Count')\n",
    "\n",
    "plt.show()"
   ]
  },
  {
   "cell_type": "code",
   "execution_count": 101,
   "metadata": {},
   "outputs": [
    {
     "data": {
      "image/png": "[encoded data removed]",
      "text/plain": [
       "<Figure size 432x288 with 1 Axes>"
      ]
     },
     "metadata": {
      "needs_background": "light"
     },
     "output_type": "display_data"
    }
   ],
   "source": [
    "data['N_Parkinglot(Basement)'].hist()\n",
    "plt.xlabel('ParkingLotValue')\n",
    "plt.ylabel('Count')\n",
    "\n",
    "plt.show()"
   ]
  },
  {
   "cell_type": "markdown",
   "metadata": {},
   "source": [
    "# SalePrice and Numerical Variables"
   ]
  },
  {
   "cell_type": "code",
   "execution_count": 102,
   "metadata": {},
   "outputs": [],
   "source": [
    "numerical_variables = [feature for feature in data.columns if data[feature].dtype!='O']"
   ]
  },
  {
   "cell_type": "code",
   "execution_count": 103,
   "metadata": {},
   "outputs": [
    {
     "data": {
      "text/plain": [
       "['SalePrice',\n",
       " 'YearBuilt',\n",
       " 'YrSold',\n",
       " 'MonthSold',\n",
       " 'Size(sqf)',\n",
       " 'Floor',\n",
       " 'N_Parkinglot(Ground)',\n",
       " 'N_Parkinglot(Basement)',\n",
       " 'N_APT',\n",
       " 'N_manager',\n",
       " 'N_elevators',\n",
       " 'N_FacilitiesNearBy(PublicOffice)',\n",
       " 'N_FacilitiesNearBy(Hospital)',\n",
       " 'N_FacilitiesNearBy(Dpartmentstore)',\n",
       " 'N_FacilitiesNearBy(Mall)',\n",
       " 'N_FacilitiesNearBy(ETC)',\n",
       " 'N_FacilitiesNearBy(Park)',\n",
       " 'N_SchoolNearBy(Elementary)',\n",
       " 'N_SchoolNearBy(Middle)',\n",
       " 'N_SchoolNearBy(High)',\n",
       " 'N_SchoolNearBy(University)',\n",
       " 'N_FacilitiesInApt',\n",
       " 'N_FacilitiesNearBy(Total)',\n",
       " 'N_SchoolNearBy(Total)',\n",
       " 'TimeToBusStopStart',\n",
       " 'TimeToBusStopEnd',\n",
       " 'TimeToSubwayEnd']"
      ]
     },
     "execution_count": 103,
     "metadata": {},
     "output_type": "execute_result"
    }
   ],
   "source": [
    "numerical_variables"
   ]
  },
  {
   "cell_type": "code",
   "execution_count": 104,
   "metadata": {},
   "outputs": [
    {
     "data": {
      "text/plain": [
       "<matplotlib.axes._subplots.AxesSubplot at 0x23953eb2a88>"
      ]
     },
     "execution_count": 104,
     "metadata": {},
     "output_type": "execute_result"
    },
    {
     "data": {
      "image/png": "[encoded data removed]",
      "text/plain": [
       "<Figure size 432x288 with 1 Axes>"
      ]
     },
     "metadata": {
      "needs_background": "light"
     },
     "output_type": "display_data"
    }
   ],
   "source": [
    "# relationsip between SalePrice and Size(sqf)\n",
    "\n",
    "feature = 'Size(sqf)'\n",
    "saleprice_size = pd.concat([data['SalePrice'], data[feature]], axis=1)\n",
    "saleprice_size.plot.scatter(x=feature, y='SalePrice', ylim=(0,800000))\n",
    "\n",
    "# not a linear relationship between size(sqf) and SalePrice, but some semblance of it"
   ]
  },
  {
   "cell_type": "code",
   "execution_count": 105,
   "metadata": {},
   "outputs": [
    {
     "data": {
      "text/plain": [
       "<matplotlib.axes._subplots.AxesSubplot at 0x23953ee8248>"
      ]
     },
     "execution_count": 105,
     "metadata": {},
     "output_type": "execute_result"
    },
    {
     "data": {
      "image/png": "[encoded data removed]",
      "text/plain": [
       "<Figure size 432x288 with 1 Axes>"
      ]
     },
     "metadata": {
      "needs_background": "light"
     },
     "output_type": "display_data"
    }
   ],
   "source": [
    "# relationsip between SalePrice and YearBuilt\n",
    "\n",
    "feature = 'YearBuilt'\n",
    "saleprice_yearbuilt= pd.concat([data['SalePrice'], data[feature]], axis=1)\n",
    "saleprice_yearbuilt.plot.scatter(x=feature, y='SalePrice', ylim=(0,800000))\n",
    "\n",
    "# prie of apartments sold in 2015 was maximum"
   ]
  },
  {
   "cell_type": "code",
   "execution_count": 106,
   "metadata": {},
   "outputs": [
    {
     "data": {
      "text/plain": [
       "<matplotlib.axes._subplots.AxesSubplot at 0x23953f5c248>"
      ]
     },
     "execution_count": 106,
     "metadata": {},
     "output_type": "execute_result"
    },
    {
     "data": {
      "image/png": "[encoded data removed]",
      "text/plain": [
       "<Figure size 432x288 with 1 Axes>"
      ]
     },
     "metadata": {
      "needs_background": "light"
     },
     "output_type": "display_data"
    }
   ],
   "source": [
    "# relationsip between SalePrice and YrSold\n",
    "\n",
    "feature = 'YrSold'\n",
    "saleprice_yrsold= pd.concat([data['SalePrice'], data[feature]], axis=1)\n",
    "saleprice_yrsold.plot.scatter(x=feature, y='SalePrice', ylim=(0,800000))\n",
    "\n",
    "# selling price increased as years increased"
   ]
  },
  {
   "cell_type": "code",
   "execution_count": 107,
   "metadata": {},
   "outputs": [
    {
     "data": {
      "text/plain": [
       "<matplotlib.axes._subplots.AxesSubplot at 0x23953fd8188>"
      ]
     },
     "execution_count": 107,
     "metadata": {},
     "output_type": "execute_result"
    },
    {
     "data": {
      "image/png": "[encoded data removed]",
      "text/plain": [
       "<Figure size 720x648 with 2 Axes>"
      ]
     },
     "metadata": {
      "needs_background": "light"
     },
     "output_type": "display_data"
    }
   ],
   "source": [
    "# Correlation Heatmap\n",
    "\n",
    "corrematrix = data.corr()\n",
    "f, ax = plt.subplots(figsize=(10, 9))\n",
    "sns.heatmap(corrematrix, vmax=.8, square=True)\n",
    "\n"
   ]
  },
  {
   "cell_type": "code",
   "execution_count": 108,
   "metadata": {},
   "outputs": [
    {
     "data": {
      "text/html": [
       "<div>\n",
       "<style scoped>\n",
       "    .dataframe tbody tr th:only-of-type {\n",
       "        vertical-align: middle;\n",
       "    }\n",
       "\n",
       "    .dataframe tbody tr th {\n",
       "        vertical-align: top;\n",
       "    }\n",
       "\n",
       "    .dataframe thead th {\n",
       "        text-align: right;\n",
       "    }\n",
       "</style>\n",
       "<table border=\"1\" class=\"dataframe\">\n",
       "  <thead>\n",
       "    <tr style=\"text-align: right;\">\n",
       "      <th></th>\n",
       "      <th>SalePrice</th>\n",
       "      <th>YearBuilt</th>\n",
       "      <th>YrSold</th>\n",
       "      <th>MonthSold</th>\n",
       "      <th>Size(sqf)</th>\n",
       "      <th>Floor</th>\n",
       "      <th>N_Parkinglot(Ground)</th>\n",
       "      <th>N_Parkinglot(Basement)</th>\n",
       "      <th>N_APT</th>\n",
       "      <th>N_manager</th>\n",
       "      <th>...</th>\n",
       "      <th>N_SchoolNearBy(Elementary)</th>\n",
       "      <th>N_SchoolNearBy(Middle)</th>\n",
       "      <th>N_SchoolNearBy(High)</th>\n",
       "      <th>N_SchoolNearBy(University)</th>\n",
       "      <th>N_FacilitiesInApt</th>\n",
       "      <th>N_FacilitiesNearBy(Total)</th>\n",
       "      <th>N_SchoolNearBy(Total)</th>\n",
       "      <th>TimeToBusStopStart</th>\n",
       "      <th>TimeToBusStopEnd</th>\n",
       "      <th>TimeToSubwayEnd</th>\n",
       "    </tr>\n",
       "  </thead>\n",
       "  <tbody>\n",
       "    <tr>\n",
       "      <td>SalePrice</td>\n",
       "      <td>1.000000</td>\n",
       "      <td>0.447875</td>\n",
       "      <td>0.357682</td>\n",
       "      <td>0.081924</td>\n",
       "      <td>0.697199</td>\n",
       "      <td>0.336729</td>\n",
       "      <td>-0.130549</td>\n",
       "      <td>0.473252</td>\n",
       "      <td>0.162684</td>\n",
       "      <td>0.358329</td>\n",
       "      <td>...</td>\n",
       "      <td>-0.341186</td>\n",
       "      <td>-0.166439</td>\n",
       "      <td>-0.371840</td>\n",
       "      <td>-0.403080</td>\n",
       "      <td>0.505282</td>\n",
       "      <td>-0.419763</td>\n",
       "      <td>-0.377904</td>\n",
       "      <td>-0.252062</td>\n",
       "      <td>-0.252062</td>\n",
       "      <td>-0.252062</td>\n",
       "    </tr>\n",
       "    <tr>\n",
       "      <td>YearBuilt</td>\n",
       "      <td>0.447875</td>\n",
       "      <td>1.000000</td>\n",
       "      <td>0.255126</td>\n",
       "      <td>-0.065571</td>\n",
       "      <td>0.021282</td>\n",
       "      <td>0.260568</td>\n",
       "      <td>-0.546188</td>\n",
       "      <td>0.589949</td>\n",
       "      <td>0.138750</td>\n",
       "      <td>0.077896</td>\n",
       "      <td>...</td>\n",
       "      <td>-0.372190</td>\n",
       "      <td>-0.054462</td>\n",
       "      <td>-0.330760</td>\n",
       "      <td>-0.252162</td>\n",
       "      <td>0.592976</td>\n",
       "      <td>-0.414398</td>\n",
       "      <td>-0.293348</td>\n",
       "      <td>-0.032924</td>\n",
       "      <td>-0.032924</td>\n",
       "      <td>-0.032924</td>\n",
       "    </tr>\n",
       "    <tr>\n",
       "      <td>YrSold</td>\n",
       "      <td>0.357682</td>\n",
       "      <td>0.255126</td>\n",
       "      <td>1.000000</td>\n",
       "      <td>-0.171293</td>\n",
       "      <td>-0.106142</td>\n",
       "      <td>0.059634</td>\n",
       "      <td>-0.142933</td>\n",
       "      <td>0.191014</td>\n",
       "      <td>0.193475</td>\n",
       "      <td>0.044217</td>\n",
       "      <td>...</td>\n",
       "      <td>0.013144</td>\n",
       "      <td>-0.055171</td>\n",
       "      <td>-0.056030</td>\n",
       "      <td>-0.027720</td>\n",
       "      <td>0.219188</td>\n",
       "      <td>-0.127048</td>\n",
       "      <td>-0.039018</td>\n",
       "      <td>0.060057</td>\n",
       "      <td>0.060057</td>\n",
       "      <td>0.060057</td>\n",
       "    </tr>\n",
       "    <tr>\n",
       "      <td>MonthSold</td>\n",
       "      <td>0.081924</td>\n",
       "      <td>-0.065571</td>\n",
       "      <td>-0.171293</td>\n",
       "      <td>1.000000</td>\n",
       "      <td>0.104512</td>\n",
       "      <td>0.006839</td>\n",
       "      <td>0.068606</td>\n",
       "      <td>-0.057771</td>\n",
       "      <td>-0.061049</td>\n",
       "      <td>0.015901</td>\n",
       "      <td>...</td>\n",
       "      <td>-0.091201</td>\n",
       "      <td>0.014372</td>\n",
       "      <td>0.015028</td>\n",
       "      <td>-0.031898</td>\n",
       "      <td>-0.028666</td>\n",
       "      <td>-0.007103</td>\n",
       "      <td>-0.021688</td>\n",
       "      <td>0.048895</td>\n",
       "      <td>0.048895</td>\n",
       "      <td>0.048895</td>\n",
       "    </tr>\n",
       "    <tr>\n",
       "      <td>Size(sqf)</td>\n",
       "      <td>0.697199</td>\n",
       "      <td>0.021282</td>\n",
       "      <td>-0.106142</td>\n",
       "      <td>0.104512</td>\n",
       "      <td>1.000000</td>\n",
       "      <td>0.179491</td>\n",
       "      <td>0.190778</td>\n",
       "      <td>0.176163</td>\n",
       "      <td>0.029303</td>\n",
       "      <td>0.286365</td>\n",
       "      <td>...</td>\n",
       "      <td>-0.228042</td>\n",
       "      <td>-0.145528</td>\n",
       "      <td>-0.257850</td>\n",
       "      <td>-0.292653</td>\n",
       "      <td>0.136406</td>\n",
       "      <td>-0.264944</td>\n",
       "      <td>-0.271667</td>\n",
       "      <td>-0.324959</td>\n",
       "      <td>-0.324959</td>\n",
       "      <td>-0.324959</td>\n",
       "    </tr>\n",
       "    <tr>\n",
       "      <td>Floor</td>\n",
       "      <td>0.336729</td>\n",
       "      <td>0.260568</td>\n",
       "      <td>0.059634</td>\n",
       "      <td>0.006839</td>\n",
       "      <td>0.179491</td>\n",
       "      <td>1.000000</td>\n",
       "      <td>-0.117295</td>\n",
       "      <td>0.334034</td>\n",
       "      <td>0.140585</td>\n",
       "      <td>0.247458</td>\n",
       "      <td>...</td>\n",
       "      <td>-0.120763</td>\n",
       "      <td>0.062544</td>\n",
       "      <td>-0.059192</td>\n",
       "      <td>-0.031314</td>\n",
       "      <td>0.275527</td>\n",
       "      <td>-0.085556</td>\n",
       "      <td>-0.042605</td>\n",
       "      <td>-0.111122</td>\n",
       "      <td>-0.111122</td>\n",
       "      <td>-0.111122</td>\n",
       "    </tr>\n",
       "    <tr>\n",
       "      <td>N_Parkinglot(Ground)</td>\n",
       "      <td>-0.130549</td>\n",
       "      <td>-0.546188</td>\n",
       "      <td>-0.142933</td>\n",
       "      <td>0.068606</td>\n",
       "      <td>0.190778</td>\n",
       "      <td>-0.117295</td>\n",
       "      <td>1.000000</td>\n",
       "      <td>-0.386545</td>\n",
       "      <td>0.157956</td>\n",
       "      <td>0.040060</td>\n",
       "      <td>...</td>\n",
       "      <td>0.030665</td>\n",
       "      <td>-0.129306</td>\n",
       "      <td>0.156957</td>\n",
       "      <td>0.125159</td>\n",
       "      <td>-0.437136</td>\n",
       "      <td>0.120509</td>\n",
       "      <td>0.073379</td>\n",
       "      <td>-0.125862</td>\n",
       "      <td>-0.125862</td>\n",
       "      <td>-0.125862</td>\n",
       "    </tr>\n",
       "    <tr>\n",
       "      <td>N_Parkinglot(Basement)</td>\n",
       "      <td>0.473252</td>\n",
       "      <td>0.589949</td>\n",
       "      <td>0.191014</td>\n",
       "      <td>-0.057771</td>\n",
       "      <td>0.176163</td>\n",
       "      <td>0.334034</td>\n",
       "      <td>-0.386545</td>\n",
       "      <td>1.000000</td>\n",
       "      <td>0.666546</td>\n",
       "      <td>0.701860</td>\n",
       "      <td>...</td>\n",
       "      <td>0.034619</td>\n",
       "      <td>0.351561</td>\n",
       "      <td>0.057189</td>\n",
       "      <td>0.116077</td>\n",
       "      <td>0.835622</td>\n",
       "      <td>0.040171</td>\n",
       "      <td>0.148652</td>\n",
       "      <td>-0.401754</td>\n",
       "      <td>-0.401754</td>\n",
       "      <td>-0.401754</td>\n",
       "    </tr>\n",
       "    <tr>\n",
       "      <td>N_APT</td>\n",
       "      <td>0.162684</td>\n",
       "      <td>0.138750</td>\n",
       "      <td>0.193475</td>\n",
       "      <td>-0.061049</td>\n",
       "      <td>0.029303</td>\n",
       "      <td>0.140585</td>\n",
       "      <td>0.157956</td>\n",
       "      <td>0.666546</td>\n",
       "      <td>1.000000</td>\n",
       "      <td>0.605161</td>\n",
       "      <td>...</td>\n",
       "      <td>0.239352</td>\n",
       "      <td>0.465219</td>\n",
       "      <td>0.370367</td>\n",
       "      <td>0.413276</td>\n",
       "      <td>0.576641</td>\n",
       "      <td>0.245261</td>\n",
       "      <td>0.428775</td>\n",
       "      <td>-0.306226</td>\n",
       "      <td>-0.306226</td>\n",
       "      <td>-0.306226</td>\n",
       "    </tr>\n",
       "    <tr>\n",
       "      <td>N_manager</td>\n",
       "      <td>0.358329</td>\n",
       "      <td>0.077896</td>\n",
       "      <td>0.044217</td>\n",
       "      <td>0.015901</td>\n",
       "      <td>0.286365</td>\n",
       "      <td>0.247458</td>\n",
       "      <td>0.040060</td>\n",
       "      <td>0.701860</td>\n",
       "      <td>0.605161</td>\n",
       "      <td>1.000000</td>\n",
       "      <td>...</td>\n",
       "      <td>0.096886</td>\n",
       "      <td>0.317840</td>\n",
       "      <td>0.100471</td>\n",
       "      <td>0.104087</td>\n",
       "      <td>0.633528</td>\n",
       "      <td>0.135356</td>\n",
       "      <td>0.165308</td>\n",
       "      <td>-0.311283</td>\n",
       "      <td>-0.311283</td>\n",
       "      <td>-0.311283</td>\n",
       "    </tr>\n",
       "    <tr>\n",
       "      <td>N_elevators</td>\n",
       "      <td>0.208248</td>\n",
       "      <td>-0.205280</td>\n",
       "      <td>0.130625</td>\n",
       "      <td>-0.007632</td>\n",
       "      <td>0.244983</td>\n",
       "      <td>0.025635</td>\n",
       "      <td>0.564172</td>\n",
       "      <td>0.191411</td>\n",
       "      <td>0.512988</td>\n",
       "      <td>0.555913</td>\n",
       "      <td>...</td>\n",
       "      <td>0.235446</td>\n",
       "      <td>-0.121796</td>\n",
       "      <td>0.057335</td>\n",
       "      <td>0.060713</td>\n",
       "      <td>0.164246</td>\n",
       "      <td>0.035868</td>\n",
       "      <td>0.062627</td>\n",
       "      <td>-0.143792</td>\n",
       "      <td>-0.143792</td>\n",
       "      <td>-0.143792</td>\n",
       "    </tr>\n",
       "    <tr>\n",
       "      <td>N_FacilitiesNearBy(PublicOffice)</td>\n",
       "      <td>-0.462234</td>\n",
       "      <td>-0.452542</td>\n",
       "      <td>-0.028273</td>\n",
       "      <td>-0.072195</td>\n",
       "      <td>-0.317375</td>\n",
       "      <td>-0.155500</td>\n",
       "      <td>0.096664</td>\n",
       "      <td>-0.092837</td>\n",
       "      <td>0.197965</td>\n",
       "      <td>0.022702</td>\n",
       "      <td>...</td>\n",
       "      <td>0.706410</td>\n",
       "      <td>0.301129</td>\n",
       "      <td>0.661604</td>\n",
       "      <td>0.740207</td>\n",
       "      <td>-0.229233</td>\n",
       "      <td>0.890958</td>\n",
       "      <td>0.702651</td>\n",
       "      <td>0.011460</td>\n",
       "      <td>0.011460</td>\n",
       "      <td>0.011460</td>\n",
       "    </tr>\n",
       "    <tr>\n",
       "      <td>N_FacilitiesNearBy(Hospital)</td>\n",
       "      <td>-0.257282</td>\n",
       "      <td>-0.242976</td>\n",
       "      <td>-0.211574</td>\n",
       "      <td>0.030245</td>\n",
       "      <td>-0.021271</td>\n",
       "      <td>0.005912</td>\n",
       "      <td>0.341447</td>\n",
       "      <td>0.097411</td>\n",
       "      <td>0.297497</td>\n",
       "      <td>0.023840</td>\n",
       "      <td>...</td>\n",
       "      <td>0.190894</td>\n",
       "      <td>0.556598</td>\n",
       "      <td>0.582020</td>\n",
       "      <td>0.544224</td>\n",
       "      <td>-0.202515</td>\n",
       "      <td>0.533884</td>\n",
       "      <td>0.557860</td>\n",
       "      <td>-0.334027</td>\n",
       "      <td>-0.334027</td>\n",
       "      <td>-0.334027</td>\n",
       "    </tr>\n",
       "    <tr>\n",
       "      <td>N_FacilitiesNearBy(Dpartmentstore)</td>\n",
       "      <td>0.295732</td>\n",
       "      <td>0.079878</td>\n",
       "      <td>0.011784</td>\n",
       "      <td>0.013219</td>\n",
       "      <td>0.202081</td>\n",
       "      <td>0.103671</td>\n",
       "      <td>-0.185959</td>\n",
       "      <td>0.109483</td>\n",
       "      <td>-0.352698</td>\n",
       "      <td>0.213544</td>\n",
       "      <td>...</td>\n",
       "      <td>-0.104463</td>\n",
       "      <td>-0.346690</td>\n",
       "      <td>-0.478189</td>\n",
       "      <td>-0.512497</td>\n",
       "      <td>0.142153</td>\n",
       "      <td>-0.189247</td>\n",
       "      <td>-0.443140</td>\n",
       "      <td>0.123113</td>\n",
       "      <td>0.123113</td>\n",
       "      <td>0.123113</td>\n",
       "    </tr>\n",
       "    <tr>\n",
       "      <td>N_FacilitiesNearBy(Mall)</td>\n",
       "      <td>0.082979</td>\n",
       "      <td>0.172809</td>\n",
       "      <td>-0.035147</td>\n",
       "      <td>0.016643</td>\n",
       "      <td>0.064418</td>\n",
       "      <td>0.169519</td>\n",
       "      <td>-0.018016</td>\n",
       "      <td>0.297218</td>\n",
       "      <td>0.024027</td>\n",
       "      <td>0.042787</td>\n",
       "      <td>...</td>\n",
       "      <td>0.128836</td>\n",
       "      <td>0.375015</td>\n",
       "      <td>0.272795</td>\n",
       "      <td>0.279730</td>\n",
       "      <td>0.030362</td>\n",
       "      <td>0.215219</td>\n",
       "      <td>0.304897</td>\n",
       "      <td>-0.024256</td>\n",
       "      <td>-0.024256</td>\n",
       "      <td>-0.024256</td>\n",
       "    </tr>\n",
       "    <tr>\n",
       "      <td>N_FacilitiesNearBy(ETC)</td>\n",
       "      <td>-0.442299</td>\n",
       "      <td>-0.336293</td>\n",
       "      <td>-0.128280</td>\n",
       "      <td>0.035410</td>\n",
       "      <td>-0.299862</td>\n",
       "      <td>-0.118789</td>\n",
       "      <td>0.177911</td>\n",
       "      <td>-0.066834</td>\n",
       "      <td>0.328654</td>\n",
       "      <td>-0.048587</td>\n",
       "      <td>...</td>\n",
       "      <td>0.448708</td>\n",
       "      <td>0.575329</td>\n",
       "      <td>0.844676</td>\n",
       "      <td>0.796699</td>\n",
       "      <td>-0.193037</td>\n",
       "      <td>0.801772</td>\n",
       "      <td>0.794483</td>\n",
       "      <td>-0.060336</td>\n",
       "      <td>-0.060336</td>\n",
       "      <td>-0.060336</td>\n",
       "    </tr>\n",
       "    <tr>\n",
       "      <td>N_FacilitiesNearBy(Park)</td>\n",
       "      <td>0.310906</td>\n",
       "      <td>0.158852</td>\n",
       "      <td>0.001217</td>\n",
       "      <td>-0.007429</td>\n",
       "      <td>0.206063</td>\n",
       "      <td>0.137088</td>\n",
       "      <td>-0.235447</td>\n",
       "      <td>0.299892</td>\n",
       "      <td>-0.149868</td>\n",
       "      <td>0.503519</td>\n",
       "      <td>...</td>\n",
       "      <td>-0.089793</td>\n",
       "      <td>-0.263894</td>\n",
       "      <td>-0.463240</td>\n",
       "      <td>-0.438333</td>\n",
       "      <td>0.394573</td>\n",
       "      <td>-0.154436</td>\n",
       "      <td>-0.390499</td>\n",
       "      <td>-0.079601</td>\n",
       "      <td>-0.079601</td>\n",
       "      <td>-0.079601</td>\n",
       "    </tr>\n",
       "    <tr>\n",
       "      <td>N_SchoolNearBy(Elementary)</td>\n",
       "      <td>-0.341186</td>\n",
       "      <td>-0.372190</td>\n",
       "      <td>0.013144</td>\n",
       "      <td>-0.091201</td>\n",
       "      <td>-0.228042</td>\n",
       "      <td>-0.120763</td>\n",
       "      <td>0.030665</td>\n",
       "      <td>0.034619</td>\n",
       "      <td>0.239352</td>\n",
       "      <td>0.096886</td>\n",
       "      <td>...</td>\n",
       "      <td>1.000000</td>\n",
       "      <td>0.380232</td>\n",
       "      <td>0.612427</td>\n",
       "      <td>0.620779</td>\n",
       "      <td>-0.098274</td>\n",
       "      <td>0.653328</td>\n",
       "      <td>0.726977</td>\n",
       "      <td>-0.064007</td>\n",
       "      <td>-0.064007</td>\n",
       "      <td>-0.064007</td>\n",
       "    </tr>\n",
       "    <tr>\n",
       "      <td>N_SchoolNearBy(Middle)</td>\n",
       "      <td>-0.166439</td>\n",
       "      <td>-0.054462</td>\n",
       "      <td>-0.055171</td>\n",
       "      <td>0.014372</td>\n",
       "      <td>-0.145528</td>\n",
       "      <td>0.062544</td>\n",
       "      <td>-0.129306</td>\n",
       "      <td>0.351561</td>\n",
       "      <td>0.465219</td>\n",
       "      <td>0.317840</td>\n",
       "      <td>...</td>\n",
       "      <td>0.380232</td>\n",
       "      <td>1.000000</td>\n",
       "      <td>0.777766</td>\n",
       "      <td>0.658697</td>\n",
       "      <td>0.241406</td>\n",
       "      <td>0.512783</td>\n",
       "      <td>0.809299</td>\n",
       "      <td>-0.094842</td>\n",
       "      <td>-0.094842</td>\n",
       "      <td>-0.094842</td>\n",
       "    </tr>\n",
       "    <tr>\n",
       "      <td>N_SchoolNearBy(High)</td>\n",
       "      <td>-0.371840</td>\n",
       "      <td>-0.330760</td>\n",
       "      <td>-0.056030</td>\n",
       "      <td>0.015028</td>\n",
       "      <td>-0.257850</td>\n",
       "      <td>-0.059192</td>\n",
       "      <td>0.156957</td>\n",
       "      <td>0.057189</td>\n",
       "      <td>0.370367</td>\n",
       "      <td>0.100471</td>\n",
       "      <td>...</td>\n",
       "      <td>0.612427</td>\n",
       "      <td>0.777766</td>\n",
       "      <td>1.000000</td>\n",
       "      <td>0.903245</td>\n",
       "      <td>-0.140448</td>\n",
       "      <td>0.794712</td>\n",
       "      <td>0.967234</td>\n",
       "      <td>-0.025281</td>\n",
       "      <td>-0.025281</td>\n",
       "      <td>-0.025281</td>\n",
       "    </tr>\n",
       "    <tr>\n",
       "      <td>N_SchoolNearBy(University)</td>\n",
       "      <td>-0.403080</td>\n",
       "      <td>-0.252162</td>\n",
       "      <td>-0.027720</td>\n",
       "      <td>-0.031898</td>\n",
       "      <td>-0.292653</td>\n",
       "      <td>-0.031314</td>\n",
       "      <td>0.125159</td>\n",
       "      <td>0.116077</td>\n",
       "      <td>0.413276</td>\n",
       "      <td>0.104087</td>\n",
       "      <td>...</td>\n",
       "      <td>0.620779</td>\n",
       "      <td>0.658697</td>\n",
       "      <td>0.903245</td>\n",
       "      <td>1.000000</td>\n",
       "      <td>-0.102172</td>\n",
       "      <td>0.797200</td>\n",
       "      <td>0.939733</td>\n",
       "      <td>-0.031089</td>\n",
       "      <td>-0.031089</td>\n",
       "      <td>-0.031089</td>\n",
       "    </tr>\n",
       "    <tr>\n",
       "      <td>N_FacilitiesInApt</td>\n",
       "      <td>0.505282</td>\n",
       "      <td>0.592976</td>\n",
       "      <td>0.219188</td>\n",
       "      <td>-0.028666</td>\n",
       "      <td>0.136406</td>\n",
       "      <td>0.275527</td>\n",
       "      <td>-0.437136</td>\n",
       "      <td>0.835622</td>\n",
       "      <td>0.576641</td>\n",
       "      <td>0.633528</td>\n",
       "      <td>...</td>\n",
       "      <td>-0.098274</td>\n",
       "      <td>0.241406</td>\n",
       "      <td>-0.140448</td>\n",
       "      <td>-0.102172</td>\n",
       "      <td>1.000000</td>\n",
       "      <td>-0.158251</td>\n",
       "      <td>-0.048206</td>\n",
       "      <td>-0.216131</td>\n",
       "      <td>-0.216131</td>\n",
       "      <td>-0.216131</td>\n",
       "    </tr>\n",
       "    <tr>\n",
       "      <td>N_FacilitiesNearBy(Total)</td>\n",
       "      <td>-0.419763</td>\n",
       "      <td>-0.414398</td>\n",
       "      <td>-0.127048</td>\n",
       "      <td>-0.007103</td>\n",
       "      <td>-0.264944</td>\n",
       "      <td>-0.085556</td>\n",
       "      <td>0.120509</td>\n",
       "      <td>0.040171</td>\n",
       "      <td>0.245261</td>\n",
       "      <td>0.135356</td>\n",
       "      <td>...</td>\n",
       "      <td>0.653328</td>\n",
       "      <td>0.512783</td>\n",
       "      <td>0.794712</td>\n",
       "      <td>0.797200</td>\n",
       "      <td>-0.158251</td>\n",
       "      <td>1.000000</td>\n",
       "      <td>0.806516</td>\n",
       "      <td>-0.068058</td>\n",
       "      <td>-0.068058</td>\n",
       "      <td>-0.068058</td>\n",
       "    </tr>\n",
       "    <tr>\n",
       "      <td>N_SchoolNearBy(Total)</td>\n",
       "      <td>-0.377904</td>\n",
       "      <td>-0.293348</td>\n",
       "      <td>-0.039018</td>\n",
       "      <td>-0.021688</td>\n",
       "      <td>-0.271667</td>\n",
       "      <td>-0.042605</td>\n",
       "      <td>0.073379</td>\n",
       "      <td>0.148652</td>\n",
       "      <td>0.428775</td>\n",
       "      <td>0.165308</td>\n",
       "      <td>...</td>\n",
       "      <td>0.726977</td>\n",
       "      <td>0.809299</td>\n",
       "      <td>0.967234</td>\n",
       "      <td>0.939733</td>\n",
       "      <td>-0.048206</td>\n",
       "      <td>0.806516</td>\n",
       "      <td>1.000000</td>\n",
       "      <td>-0.055238</td>\n",
       "      <td>-0.055238</td>\n",
       "      <td>-0.055238</td>\n",
       "    </tr>\n",
       "    <tr>\n",
       "      <td>TimeToBusStopStart</td>\n",
       "      <td>-0.252062</td>\n",
       "      <td>-0.032924</td>\n",
       "      <td>0.060057</td>\n",
       "      <td>0.048895</td>\n",
       "      <td>-0.324959</td>\n",
       "      <td>-0.111122</td>\n",
       "      <td>-0.125862</td>\n",
       "      <td>-0.401754</td>\n",
       "      <td>-0.306226</td>\n",
       "      <td>-0.311283</td>\n",
       "      <td>...</td>\n",
       "      <td>-0.064007</td>\n",
       "      <td>-0.094842</td>\n",
       "      <td>-0.025281</td>\n",
       "      <td>-0.031089</td>\n",
       "      <td>-0.216131</td>\n",
       "      <td>-0.068058</td>\n",
       "      <td>-0.055238</td>\n",
       "      <td>1.000000</td>\n",
       "      <td>1.000000</td>\n",
       "      <td>1.000000</td>\n",
       "    </tr>\n",
       "    <tr>\n",
       "      <td>TimeToBusStopEnd</td>\n",
       "      <td>-0.252062</td>\n",
       "      <td>-0.032924</td>\n",
       "      <td>0.060057</td>\n",
       "      <td>0.048895</td>\n",
       "      <td>-0.324959</td>\n",
       "      <td>-0.111122</td>\n",
       "      <td>-0.125862</td>\n",
       "      <td>-0.401754</td>\n",
       "      <td>-0.306226</td>\n",
       "      <td>-0.311283</td>\n",
       "      <td>...</td>\n",
       "      <td>-0.064007</td>\n",
       "      <td>-0.094842</td>\n",
       "      <td>-0.025281</td>\n",
       "      <td>-0.031089</td>\n",
       "      <td>-0.216131</td>\n",
       "      <td>-0.068058</td>\n",
       "      <td>-0.055238</td>\n",
       "      <td>1.000000</td>\n",
       "      <td>1.000000</td>\n",
       "      <td>1.000000</td>\n",
       "    </tr>\n",
       "    <tr>\n",
       "      <td>TimeToSubwayEnd</td>\n",
       "      <td>-0.252062</td>\n",
       "      <td>-0.032924</td>\n",
       "      <td>0.060057</td>\n",
       "      <td>0.048895</td>\n",
       "      <td>-0.324959</td>\n",
       "      <td>-0.111122</td>\n",
       "      <td>-0.125862</td>\n",
       "      <td>-0.401754</td>\n",
       "      <td>-0.306226</td>\n",
       "      <td>-0.311283</td>\n",
       "      <td>...</td>\n",
       "      <td>-0.064007</td>\n",
       "      <td>-0.094842</td>\n",
       "      <td>-0.025281</td>\n",
       "      <td>-0.031089</td>\n",
       "      <td>-0.216131</td>\n",
       "      <td>-0.068058</td>\n",
       "      <td>-0.055238</td>\n",
       "      <td>1.000000</td>\n",
       "      <td>1.000000</td>\n",
       "      <td>1.000000</td>\n",
       "    </tr>\n",
       "  </tbody>\n",
       "</table>\n",
       "<p>27 rows × 27 columns</p>\n",
       "</div>"
      ],
      "text/plain": [
       "                                    SalePrice  YearBuilt    YrSold  MonthSold  \\\n",
       "SalePrice                            1.000000   0.447875  0.357682   0.081924   \n",
       "YearBuilt                            0.447875   1.000000  0.255126  -0.065571   \n",
       "YrSold                               0.357682   0.255126  1.000000  -0.171293   \n",
       "MonthSold                            0.081924  -0.065571 -0.171293   1.000000   \n",
       "Size(sqf)                            0.697199   0.021282 -0.106142   0.104512   \n",
       "Floor                                0.336729   0.260568  0.059634   0.006839   \n",
       "N_Parkinglot(Ground)                -0.130549  -0.546188 -0.142933   0.068606   \n",
       "N_Parkinglot(Basement)               0.473252   0.589949  0.191014  -0.057771   \n",
       "N_APT                                0.162684   0.138750  0.193475  -0.061049   \n",
       "N_manager                            0.358329   0.077896  0.044217   0.015901   \n",
       "N_elevators                          0.208248  -0.205280  0.130625  -0.007632   \n",
       "N_FacilitiesNearBy(PublicOffice)    -0.462234  -0.452542 -0.028273  -0.072195   \n",
       "N_FacilitiesNearBy(Hospital)        -0.257282  -0.242976 -0.211574   0.030245   \n",
       "N_FacilitiesNearBy(Dpartmentstore)   0.295732   0.079878  0.011784   0.013219   \n",
       "N_FacilitiesNearBy(Mall)             0.082979   0.172809 -0.035147   0.016643   \n",
       "N_FacilitiesNearBy(ETC)             -0.442299  -0.336293 -0.128280   0.035410   \n",
       "N_FacilitiesNearBy(Park)             0.310906   0.158852  0.001217  -0.007429   \n",
       "N_SchoolNearBy(Elementary)          -0.341186  -0.372190  0.013144  -0.091201   \n",
       "N_SchoolNearBy(Middle)              -0.166439  -0.054462 -0.055171   0.014372   \n",
       "N_SchoolNearBy(High)                -0.371840  -0.330760 -0.056030   0.015028   \n",
       "N_SchoolNearBy(University)          -0.403080  -0.252162 -0.027720  -0.031898   \n",
       "N_FacilitiesInApt                    0.505282   0.592976  0.219188  -0.028666   \n",
       "N_FacilitiesNearBy(Total)           -0.419763  -0.414398 -0.127048  -0.007103   \n",
       "N_SchoolNearBy(Total)               -0.377904  -0.293348 -0.039018  -0.021688   \n",
       "TimeToBusStopStart                  -0.252062  -0.032924  0.060057   0.048895   \n",
       "TimeToBusStopEnd                    -0.252062  -0.032924  0.060057   0.048895   \n",
       "TimeToSubwayEnd                     -0.252062  -0.032924  0.060057   0.048895   \n",
       "\n",
       "                                    Size(sqf)     Floor  N_Parkinglot(Ground)  \\\n",
       "SalePrice                            0.697199  0.336729             -0.130549   \n",
       "YearBuilt                            0.021282  0.260568             -0.546188   \n",
       "YrSold                              -0.106142  0.059634             -0.142933   \n",
       "MonthSold                            0.104512  0.006839              0.068606   \n",
       "Size(sqf)                            1.000000  0.179491              0.190778   \n",
       "Floor                                0.179491  1.000000             -0.117295   \n",
       "N_Parkinglot(Ground)                 0.190778 -0.117295              1.000000   \n",
       "N_Parkinglot(Basement)               0.176163  0.334034             -0.386545   \n",
       "N_APT                                0.029303  0.140585              0.157956   \n",
       "N_manager                            0.286365  0.247458              0.040060   \n",
       "N_elevators                          0.244983  0.025635              0.564172   \n",
       "N_FacilitiesNearBy(PublicOffice)    -0.317375 -0.155500              0.096664   \n",
       "N_FacilitiesNearBy(Hospital)        -0.021271  0.005912              0.341447   \n",
       "N_FacilitiesNearBy(Dpartmentstore)   0.202081  0.103671             -0.185959   \n",
       "N_FacilitiesNearBy(Mall)             0.064418  0.169519             -0.018016   \n",
       "N_FacilitiesNearBy(ETC)             -0.299862 -0.118789              0.177911   \n",
       "N_FacilitiesNearBy(Park)             0.206063  0.137088             -0.235447   \n",
       "N_SchoolNearBy(Elementary)          -0.228042 -0.120763              0.030665   \n",
       "N_SchoolNearBy(Middle)              -0.145528  0.062544             -0.129306   \n",
       "N_SchoolNearBy(High)                -0.257850 -0.059192              0.156957   \n",
       "N_SchoolNearBy(University)          -0.292653 -0.031314              0.125159   \n",
       "N_FacilitiesInApt                    0.136406  0.275527             -0.437136   \n",
       "N_FacilitiesNearBy(Total)           -0.264944 -0.085556              0.120509   \n",
       "N_SchoolNearBy(Total)               -0.271667 -0.042605              0.073379   \n",
       "TimeToBusStopStart                  -0.324959 -0.111122             -0.125862   \n",
       "TimeToBusStopEnd                    -0.324959 -0.111122             -0.125862   \n",
       "TimeToSubwayEnd                     -0.324959 -0.111122             -0.125862   \n",
       "\n",
       "                                    N_Parkinglot(Basement)     N_APT  \\\n",
       "SalePrice                                         0.473252  0.162684   \n",
       "YearBuilt                                         0.589949  0.138750   \n",
       "YrSold                                            0.191014  0.193475   \n",
       "MonthSold                                        -0.057771 -0.061049   \n",
       "Size(sqf)                                         0.176163  0.029303   \n",
       "Floor                                             0.334034  0.140585   \n",
       "N_Parkinglot(Ground)                             -0.386545  0.157956   \n",
       "N_Parkinglot(Basement)                            1.000000  0.666546   \n",
       "N_APT                                             0.666546  1.000000   \n",
       "N_manager                                         0.701860  0.605161   \n",
       "N_elevators                                       0.191411  0.512988   \n",
       "N_FacilitiesNearBy(PublicOffice)                 -0.092837  0.197965   \n",
       "N_FacilitiesNearBy(Hospital)                      0.097411  0.297497   \n",
       "N_FacilitiesNearBy(Dpartmentstore)                0.109483 -0.352698   \n",
       "N_FacilitiesNearBy(Mall)                          0.297218  0.024027   \n",
       "N_FacilitiesNearBy(ETC)                          -0.066834  0.328654   \n",
       "N_FacilitiesNearBy(Park)                          0.299892 -0.149868   \n",
       "N_SchoolNearBy(Elementary)                        0.034619  0.239352   \n",
       "N_SchoolNearBy(Middle)                            0.351561  0.465219   \n",
       "N_SchoolNearBy(High)                              0.057189  0.370367   \n",
       "N_SchoolNearBy(University)                        0.116077  0.413276   \n",
       "N_FacilitiesInApt                                 0.835622  0.576641   \n",
       "N_FacilitiesNearBy(Total)                         0.040171  0.245261   \n",
       "N_SchoolNearBy(Total)                             0.148652  0.428775   \n",
       "TimeToBusStopStart                               -0.401754 -0.306226   \n",
       "TimeToBusStopEnd                                 -0.401754 -0.306226   \n",
       "TimeToSubwayEnd                                  -0.401754 -0.306226   \n",
       "\n",
       "                                    N_manager  ...  \\\n",
       "SalePrice                            0.358329  ...   \n",
       "YearBuilt                            0.077896  ...   \n",
       "YrSold                               0.044217  ...   \n",
       "MonthSold                            0.015901  ...   \n",
       "Size(sqf)                            0.286365  ...   \n",
       "Floor                                0.247458  ...   \n",
       "N_Parkinglot(Ground)                 0.040060  ...   \n",
       "N_Parkinglot(Basement)               0.701860  ...   \n",
       "N_APT                                0.605161  ...   \n",
       "N_manager                            1.000000  ...   \n",
       "N_elevators                          0.555913  ...   \n",
       "N_FacilitiesNearBy(PublicOffice)     0.022702  ...   \n",
       "N_FacilitiesNearBy(Hospital)         0.023840  ...   \n",
       "N_FacilitiesNearBy(Dpartmentstore)   0.213544  ...   \n",
       "N_FacilitiesNearBy(Mall)             0.042787  ...   \n",
       "N_FacilitiesNearBy(ETC)             -0.048587  ...   \n",
       "N_FacilitiesNearBy(Park)             0.503519  ...   \n",
       "N_SchoolNearBy(Elementary)           0.096886  ...   \n",
       "N_SchoolNearBy(Middle)               0.317840  ...   \n",
       "N_SchoolNearBy(High)                 0.100471  ...   \n",
       "N_SchoolNearBy(University)           0.104087  ...   \n",
       "N_FacilitiesInApt                    0.633528  ...   \n",
       "N_FacilitiesNearBy(Total)            0.135356  ...   \n",
       "N_SchoolNearBy(Total)                0.165308  ...   \n",
       "TimeToBusStopStart                  -0.311283  ...   \n",
       "TimeToBusStopEnd                    -0.311283  ...   \n",
       "TimeToSubwayEnd                     -0.311283  ...   \n",
       "\n",
       "                                    N_SchoolNearBy(Elementary)  \\\n",
       "SalePrice                                            -0.341186   \n",
       "YearBuilt                                            -0.372190   \n",
       "YrSold                                                0.013144   \n",
       "MonthSold                                            -0.091201   \n",
       "Size(sqf)                                            -0.228042   \n",
       "Floor                                                -0.120763   \n",
       "N_Parkinglot(Ground)                                  0.030665   \n",
       "N_Parkinglot(Basement)                                0.034619   \n",
       "N_APT                                                 0.239352   \n",
       "N_manager                                             0.096886   \n",
       "N_elevators                                           0.235446   \n",
       "N_FacilitiesNearBy(PublicOffice)                      0.706410   \n",
       "N_FacilitiesNearBy(Hospital)                          0.190894   \n",
       "N_FacilitiesNearBy(Dpartmentstore)                   -0.104463   \n",
       "N_FacilitiesNearBy(Mall)                              0.128836   \n",
       "N_FacilitiesNearBy(ETC)                               0.448708   \n",
       "N_FacilitiesNearBy(Park)                             -0.089793   \n",
       "N_SchoolNearBy(Elementary)                            1.000000   \n",
       "N_SchoolNearBy(Middle)                                0.380232   \n",
       "N_SchoolNearBy(High)                                  0.612427   \n",
       "N_SchoolNearBy(University)                            0.620779   \n",
       "N_FacilitiesInApt                                    -0.098274   \n",
       "N_FacilitiesNearBy(Total)                             0.653328   \n",
       "N_SchoolNearBy(Total)                                 0.726977   \n",
       "TimeToBusStopStart                                   -0.064007   \n",
       "TimeToBusStopEnd                                     -0.064007   \n",
       "TimeToSubwayEnd                                      -0.064007   \n",
       "\n",
       "                                    N_SchoolNearBy(Middle)  \\\n",
       "SalePrice                                        -0.166439   \n",
       "YearBuilt                                        -0.054462   \n",
       "YrSold                                           -0.055171   \n",
       "MonthSold                                         0.014372   \n",
       "Size(sqf)                                        -0.145528   \n",
       "Floor                                             0.062544   \n",
       "N_Parkinglot(Ground)                             -0.129306   \n",
       "N_Parkinglot(Basement)                            0.351561   \n",
       "N_APT                                             0.465219   \n",
       "N_manager                                         0.317840   \n",
       "N_elevators                                      -0.121796   \n",
       "N_FacilitiesNearBy(PublicOffice)                  0.301129   \n",
       "N_FacilitiesNearBy(Hospital)                      0.556598   \n",
       "N_FacilitiesNearBy(Dpartmentstore)               -0.346690   \n",
       "N_FacilitiesNearBy(Mall)                          0.375015   \n",
       "N_FacilitiesNearBy(ETC)                           0.575329   \n",
       "N_FacilitiesNearBy(Park)                         -0.263894   \n",
       "N_SchoolNearBy(Elementary)                        0.380232   \n",
       "N_SchoolNearBy(Middle)                            1.000000   \n",
       "N_SchoolNearBy(High)                              0.777766   \n",
       "N_SchoolNearBy(University)                        0.658697   \n",
       "N_FacilitiesInApt                                 0.241406   \n",
       "N_FacilitiesNearBy(Total)                         0.512783   \n",
       "N_SchoolNearBy(Total)                             0.809299   \n",
       "TimeToBusStopStart                               -0.094842   \n",
       "TimeToBusStopEnd                                 -0.094842   \n",
       "TimeToSubwayEnd                                  -0.094842   \n",
       "\n",
       "                                    N_SchoolNearBy(High)  \\\n",
       "SalePrice                                      -0.371840   \n",
       "YearBuilt                                      -0.330760   \n",
       "YrSold                                         -0.056030   \n",
       "MonthSold                                       0.015028   \n",
       "Size(sqf)                                      -0.257850   \n",
       "Floor                                          -0.059192   \n",
       "N_Parkinglot(Ground)                            0.156957   \n",
       "N_Parkinglot(Basement)                          0.057189   \n",
       "N_APT                                           0.370367   \n",
       "N_manager                                       0.100471   \n",
       "N_elevators                                     0.057335   \n",
       "N_FacilitiesNearBy(PublicOffice)                0.661604   \n",
       "N_FacilitiesNearBy(Hospital)                    0.582020   \n",
       "N_FacilitiesNearBy(Dpartmentstore)             -0.478189   \n",
       "N_FacilitiesNearBy(Mall)                        0.272795   \n",
       "N_FacilitiesNearBy(ETC)                         0.844676   \n",
       "N_FacilitiesNearBy(Park)                       -0.463240   \n",
       "N_SchoolNearBy(Elementary)                      0.612427   \n",
       "N_SchoolNearBy(Middle)                          0.777766   \n",
       "N_SchoolNearBy(High)                            1.000000   \n",
       "N_SchoolNearBy(University)                      0.903245   \n",
       "N_FacilitiesInApt                              -0.140448   \n",
       "N_FacilitiesNearBy(Total)                       0.794712   \n",
       "N_SchoolNearBy(Total)                           0.967234   \n",
       "TimeToBusStopStart                             -0.025281   \n",
       "TimeToBusStopEnd                               -0.025281   \n",
       "TimeToSubwayEnd                                -0.025281   \n",
       "\n",
       "                                    N_SchoolNearBy(University)  \\\n",
       "SalePrice                                            -0.403080   \n",
       "YearBuilt                                            -0.252162   \n",
       "YrSold                                               -0.027720   \n",
       "MonthSold                                            -0.031898   \n",
       "Size(sqf)                                            -0.292653   \n",
       "Floor                                                -0.031314   \n",
       "N_Parkinglot(Ground)                                  0.125159   \n",
       "N_Parkinglot(Basement)                                0.116077   \n",
       "N_APT                                                 0.413276   \n",
       "N_manager                                             0.104087   \n",
       "N_elevators                                           0.060713   \n",
       "N_FacilitiesNearBy(PublicOffice)                      0.740207   \n",
       "N_FacilitiesNearBy(Hospital)                          0.544224   \n",
       "N_FacilitiesNearBy(Dpartmentstore)                   -0.512497   \n",
       "N_FacilitiesNearBy(Mall)                              0.279730   \n",
       "N_FacilitiesNearBy(ETC)                               0.796699   \n",
       "N_FacilitiesNearBy(Park)                             -0.438333   \n",
       "N_SchoolNearBy(Elementary)                            0.620779   \n",
       "N_SchoolNearBy(Middle)                                0.658697   \n",
       "N_SchoolNearBy(High)                                  0.903245   \n",
       "N_SchoolNearBy(University)                            1.000000   \n",
       "N_FacilitiesInApt                                    -0.102172   \n",
       "N_FacilitiesNearBy(Total)                             0.797200   \n",
       "N_SchoolNearBy(Total)                                 0.939733   \n",
       "TimeToBusStopStart                                   -0.031089   \n",
       "TimeToBusStopEnd                                     -0.031089   \n",
       "TimeToSubwayEnd                                      -0.031089   \n",
       "\n",
       "                                    N_FacilitiesInApt  \\\n",
       "SalePrice                                    0.505282   \n",
       "YearBuilt                                    0.592976   \n",
       "YrSold                                       0.219188   \n",
       "MonthSold                                   -0.028666   \n",
       "Size(sqf)                                    0.136406   \n",
       "Floor                                        0.275527   \n",
       "N_Parkinglot(Ground)                        -0.437136   \n",
       "N_Parkinglot(Basement)                       0.835622   \n",
       "N_APT                                        0.576641   \n",
       "N_manager                                    0.633528   \n",
       "N_elevators                                  0.164246   \n",
       "N_FacilitiesNearBy(PublicOffice)            -0.229233   \n",
       "N_FacilitiesNearBy(Hospital)                -0.202515   \n",
       "N_FacilitiesNearBy(Dpartmentstore)           0.142153   \n",
       "N_FacilitiesNearBy(Mall)                     0.030362   \n",
       "N_FacilitiesNearBy(ETC)                     -0.193037   \n",
       "N_FacilitiesNearBy(Park)                     0.394573   \n",
       "N_SchoolNearBy(Elementary)                  -0.098274   \n",
       "N_SchoolNearBy(Middle)                       0.241406   \n",
       "N_SchoolNearBy(High)                        -0.140448   \n",
       "N_SchoolNearBy(University)                  -0.102172   \n",
       "N_FacilitiesInApt                            1.000000   \n",
       "N_FacilitiesNearBy(Total)                   -0.158251   \n",
       "N_SchoolNearBy(Total)                       -0.048206   \n",
       "TimeToBusStopStart                          -0.216131   \n",
       "TimeToBusStopEnd                            -0.216131   \n",
       "TimeToSubwayEnd                             -0.216131   \n",
       "\n",
       "                                    N_FacilitiesNearBy(Total)  \\\n",
       "SalePrice                                           -0.419763   \n",
       "YearBuilt                                           -0.414398   \n",
       "YrSold                                              -0.127048   \n",
       "MonthSold                                           -0.007103   \n",
       "Size(sqf)                                           -0.264944   \n",
       "Floor                                               -0.085556   \n",
       "N_Parkinglot(Ground)                                 0.120509   \n",
       "N_Parkinglot(Basement)                               0.040171   \n",
       "N_APT                                                0.245261   \n",
       "N_manager                                            0.135356   \n",
       "N_elevators                                          0.035868   \n",
       "N_FacilitiesNearBy(PublicOffice)                     0.890958   \n",
       "N_FacilitiesNearBy(Hospital)                         0.533884   \n",
       "N_FacilitiesNearBy(Dpartmentstore)                  -0.189247   \n",
       "N_FacilitiesNearBy(Mall)                             0.215219   \n",
       "N_FacilitiesNearBy(ETC)                              0.801772   \n",
       "N_FacilitiesNearBy(Park)                            -0.154436   \n",
       "N_SchoolNearBy(Elementary)                           0.653328   \n",
       "N_SchoolNearBy(Middle)                               0.512783   \n",
       "N_SchoolNearBy(High)                                 0.794712   \n",
       "N_SchoolNearBy(University)                           0.797200   \n",
       "N_FacilitiesInApt                                   -0.158251   \n",
       "N_FacilitiesNearBy(Total)                            1.000000   \n",
       "N_SchoolNearBy(Total)                                0.806516   \n",
       "TimeToBusStopStart                                  -0.068058   \n",
       "TimeToBusStopEnd                                    -0.068058   \n",
       "TimeToSubwayEnd                                     -0.068058   \n",
       "\n",
       "                                    N_SchoolNearBy(Total)  TimeToBusStopStart  \\\n",
       "SalePrice                                       -0.377904           -0.252062   \n",
       "YearBuilt                                       -0.293348           -0.032924   \n",
       "YrSold                                          -0.039018            0.060057   \n",
       "MonthSold                                       -0.021688            0.048895   \n",
       "Size(sqf)                                       -0.271667           -0.324959   \n",
       "Floor                                           -0.042605           -0.111122   \n",
       "N_Parkinglot(Ground)                             0.073379           -0.125862   \n",
       "N_Parkinglot(Basement)                           0.148652           -0.401754   \n",
       "N_APT                                            0.428775           -0.306226   \n",
       "N_manager                                        0.165308           -0.311283   \n",
       "N_elevators                                      0.062627           -0.143792   \n",
       "N_FacilitiesNearBy(PublicOffice)                 0.702651            0.011460   \n",
       "N_FacilitiesNearBy(Hospital)                     0.557860           -0.334027   \n",
       "N_FacilitiesNearBy(Dpartmentstore)              -0.443140            0.123113   \n",
       "N_FacilitiesNearBy(Mall)                         0.304897           -0.024256   \n",
       "N_FacilitiesNearBy(ETC)                          0.794483           -0.060336   \n",
       "N_FacilitiesNearBy(Park)                        -0.390499           -0.079601   \n",
       "N_SchoolNearBy(Elementary)                       0.726977           -0.064007   \n",
       "N_SchoolNearBy(Middle)                           0.809299           -0.094842   \n",
       "N_SchoolNearBy(High)                             0.967234           -0.025281   \n",
       "N_SchoolNearBy(University)                       0.939733           -0.031089   \n",
       "N_FacilitiesInApt                               -0.048206           -0.216131   \n",
       "N_FacilitiesNearBy(Total)                        0.806516           -0.068058   \n",
       "N_SchoolNearBy(Total)                            1.000000           -0.055238   \n",
       "TimeToBusStopStart                              -0.055238            1.000000   \n",
       "TimeToBusStopEnd                                -0.055238            1.000000   \n",
       "TimeToSubwayEnd                                 -0.055238            1.000000   \n",
       "\n",
       "                                    TimeToBusStopEnd  TimeToSubwayEnd  \n",
       "SalePrice                                  -0.252062        -0.252062  \n",
       "YearBuilt                                  -0.032924        -0.032924  \n",
       "YrSold                                      0.060057         0.060057  \n",
       "MonthSold                                   0.048895         0.048895  \n",
       "Size(sqf)                                  -0.324959        -0.324959  \n",
       "Floor                                      -0.111122        -0.111122  \n",
       "N_Parkinglot(Ground)                       -0.125862        -0.125862  \n",
       "N_Parkinglot(Basement)                     -0.401754        -0.401754  \n",
       "N_APT                                      -0.306226        -0.306226  \n",
       "N_manager                                  -0.311283        -0.311283  \n",
       "N_elevators                                -0.143792        -0.143792  \n",
       "N_FacilitiesNearBy(PublicOffice)            0.011460         0.011460  \n",
       "N_FacilitiesNearBy(Hospital)               -0.334027        -0.334027  \n",
       "N_FacilitiesNearBy(Dpartmentstore)          0.123113         0.123113  \n",
       "N_FacilitiesNearBy(Mall)                   -0.024256        -0.024256  \n",
       "N_FacilitiesNearBy(ETC)                    -0.060336        -0.060336  \n",
       "N_FacilitiesNearBy(Park)                   -0.079601        -0.079601  \n",
       "N_SchoolNearBy(Elementary)                 -0.064007        -0.064007  \n",
       "N_SchoolNearBy(Middle)                     -0.094842        -0.094842  \n",
       "N_SchoolNearBy(High)                       -0.025281        -0.025281  \n",
       "N_SchoolNearBy(University)                 -0.031089        -0.031089  \n",
       "N_FacilitiesInApt                          -0.216131        -0.216131  \n",
       "N_FacilitiesNearBy(Total)                  -0.068058        -0.068058  \n",
       "N_SchoolNearBy(Total)                      -0.055238        -0.055238  \n",
       "TimeToBusStopStart                          1.000000         1.000000  \n",
       "TimeToBusStopEnd                            1.000000         1.000000  \n",
       "TimeToSubwayEnd                             1.000000         1.000000  \n",
       "\n",
       "[27 rows x 27 columns]"
      ]
     },
     "execution_count": 108,
     "metadata": {},
     "output_type": "execute_result"
    }
   ],
   "source": [
    "data.corr(method='pearson')"
   ]
  },
  {
   "cell_type": "code",
   "execution_count": 109,
   "metadata": {},
   "outputs": [],
   "source": [
    "categorical_variables = [feature for feature in data.columns if data[feature].dtype=='O']"
   ]
  },
  {
   "cell_type": "code",
   "execution_count": 110,
   "metadata": {},
   "outputs": [
    {
     "data": {
      "text/plain": [
       "['HallwayType',\n",
       " 'HeatingType',\n",
       " 'AptManageType',\n",
       " 'TimeToBusStop',\n",
       " 'TimeToSubway',\n",
       " 'SubwayStation',\n",
       " 'TimeToSubwayStart']"
      ]
     },
     "execution_count": 110,
     "metadata": {},
     "output_type": "execute_result"
    }
   ],
   "source": [
    "categorical_variables"
   ]
  },
  {
   "cell_type": "markdown",
   "metadata": {},
   "source": [
    "# Feature Engineering"
   ]
  },
  {
   "cell_type": "code",
   "execution_count": 111,
   "metadata": {},
   "outputs": [],
   "source": [
    "data['SalePrice'] = np.log(data['SalePrice'])"
   ]
  },
  {
   "cell_type": "code",
   "execution_count": 112,
   "metadata": {},
   "outputs": [
    {
     "data": {
      "text/plain": [
       "<matplotlib.axes._subplots.AxesSubplot at 0x23952c2a3c8>"
      ]
     },
     "execution_count": 112,
     "metadata": {},
     "output_type": "execute_result"
    },
    {
     "data": {
      "image/png": "[encoded data removed]",
      "text/plain": [
       "<Figure size 432x288 with 1 Axes>"
      ]
     },
     "metadata": {
      "needs_background": "light"
     },
     "output_type": "display_data"
    }
   ],
   "source": [
    "sns.distplot(data['SalePrice'])"
   ]
  },
  {
   "cell_type": "code",
   "execution_count": 113,
   "metadata": {},
   "outputs": [],
   "source": [
    "data_model=data.copy()"
   ]
  },
  {
   "cell_type": "code",
   "execution_count": 114,
   "metadata": {},
   "outputs": [
    {
     "data": {
      "text/plain": [
       "Index(['SalePrice', 'YearBuilt', 'YrSold', 'MonthSold', 'Size(sqf)', 'Floor',\n",
       "       'HallwayType', 'HeatingType', 'AptManageType', 'N_Parkinglot(Ground)',\n",
       "       'N_Parkinglot(Basement)', 'TimeToBusStop', 'TimeToSubway', 'N_APT',\n",
       "       'N_manager', 'N_elevators', 'SubwayStation',\n",
       "       'N_FacilitiesNearBy(PublicOffice)', 'N_FacilitiesNearBy(Hospital)',\n",
       "       'N_FacilitiesNearBy(Dpartmentstore)', 'N_FacilitiesNearBy(Mall)',\n",
       "       'N_FacilitiesNearBy(ETC)', 'N_FacilitiesNearBy(Park)',\n",
       "       'N_SchoolNearBy(Elementary)', 'N_SchoolNearBy(Middle)',\n",
       "       'N_SchoolNearBy(High)', 'N_SchoolNearBy(University)',\n",
       "       'N_FacilitiesInApt', 'N_FacilitiesNearBy(Total)',\n",
       "       'N_SchoolNearBy(Total)', 'TimeToBusStopStart', 'TimeToBusStopEnd',\n",
       "       'TimeToSubwayStart', 'TimeToSubwayEnd'],\n",
       "      dtype='object')"
      ]
     },
     "execution_count": 114,
     "metadata": {},
     "output_type": "execute_result"
    }
   ],
   "source": [
    "data_model.columns\n"
   ]
  },
  {
   "cell_type": "code",
   "execution_count": 115,
   "metadata": {},
   "outputs": [],
   "source": [
    "data_model = data_model[['SalePrice', 'YearBuilt', 'YrSold', 'MonthSold', 'Size(sqf)', 'Floor', 'HallwayType', 'HeatingType', 'N_Parkinglot(Ground)',\n",
    "                       'TimeToBusStop', 'TimeToSubway', 'N_APT', 'N_elevators','N_FacilitiesNearBy(PublicOffice)', 'N_FacilitiesNearBy(Hospital)',\n",
    "                        'N_FacilitiesNearBy(Dpartmentstore)','N_FacilitiesNearBy(Mall)', 'N_SchoolNearBy(High)', 'N_FacilitiesNearBy(Dpartmentstore)',\n",
    "                        'N_FacilitiesNearBy(Mall)', 'N_SchoolNearBy(High)', 'N_FacilitiesInApt', 'N_FacilitiesNearBy(Total)','TimeToBusStopStart',\n",
    "                        'TimeToBusStopEnd','TimeToSubwayStart', 'TimeToSubwayEnd']]\n",
    "                        \n",
    "            "
   ]
  },
  {
   "cell_type": "markdown",
   "metadata": {},
   "source": [
    "# Dealing with Outliers"
   ]
  },
  {
   "cell_type": "markdown",
   "metadata": {},
   "source": [
    "# Testing Size(sqf)"
   ]
  },
  {
   "cell_type": "code",
   "execution_count": 116,
   "metadata": {},
   "outputs": [
    {
     "data": {
      "text/plain": [
       "SalePrice                             5891\n",
       "YearBuilt                             5891\n",
       "YrSold                                5891\n",
       "MonthSold                             5891\n",
       "Size(sqf)                             5891\n",
       "Floor                                 5891\n",
       "HallwayType                           5891\n",
       "HeatingType                           5891\n",
       "AptManageType                         5891\n",
       "N_Parkinglot(Ground)                  5891\n",
       "N_Parkinglot(Basement)                5891\n",
       "TimeToBusStop                         5891\n",
       "TimeToSubway                          5891\n",
       "N_APT                                 5891\n",
       "N_manager                             5891\n",
       "N_elevators                           5891\n",
       "SubwayStation                         5891\n",
       "N_FacilitiesNearBy(PublicOffice)      5891\n",
       "N_FacilitiesNearBy(Hospital)          5891\n",
       "N_FacilitiesNearBy(Dpartmentstore)    5891\n",
       "N_FacilitiesNearBy(Mall)              5891\n",
       "N_FacilitiesNearBy(ETC)               5891\n",
       "N_FacilitiesNearBy(Park)              5891\n",
       "N_SchoolNearBy(Elementary)            5891\n",
       "N_SchoolNearBy(Middle)                5891\n",
       "N_SchoolNearBy(High)                  5891\n",
       "N_SchoolNearBy(University)            5891\n",
       "N_FacilitiesInApt                     5891\n",
       "N_FacilitiesNearBy(Total)             5891\n",
       "N_SchoolNearBy(Total)                 5891\n",
       "TimeToBusStopStart                    5891\n",
       "TimeToBusStopEnd                      5891\n",
       "TimeToSubwayStart                     5891\n",
       "TimeToSubwayEnd                       5891\n",
       "dtype: int64"
      ]
     },
     "execution_count": 116,
     "metadata": {},
     "output_type": "execute_result"
    }
   ],
   "source": [
    "data.count()"
   ]
  },
  {
   "cell_type": "code",
   "execution_count": 117,
   "metadata": {},
   "outputs": [],
   "source": [
    "copied_data = data.copy()"
   ]
  },
  {
   "cell_type": "code",
   "execution_count": 118,
   "metadata": {},
   "outputs": [
    {
     "data": {
      "text/plain": [
       "<matplotlib.axes._subplots.AxesSubplot at 0x239541e07c8>"
      ]
     },
     "execution_count": 118,
     "metadata": {},
     "output_type": "execute_result"
    },
    {
     "data": {
      "image/png": "[encoded data removed]",
      "text/plain": [
       "<Figure size 432x288 with 1 Axes>"
      ]
     },
     "metadata": {
      "needs_background": "light"
     },
     "output_type": "display_data"
    }
   ],
   "source": [
    "sns.boxplot(copied_data['Size(sqf)'])"
   ]
  },
  {
   "cell_type": "code",
   "execution_count": 119,
   "metadata": {},
   "outputs": [
    {
     "data": {
      "text/plain": [
       "1690.0"
      ]
     },
     "execution_count": 119,
     "metadata": {},
     "output_type": "execute_result"
    }
   ],
   "source": [
    "max_threshold = copied_data['Size(sqf)'].quantile(0.95)\n",
    "\n",
    "max_threshold"
   ]
  },
  {
   "cell_type": "code",
   "execution_count": 120,
   "metadata": {},
   "outputs": [
    {
     "data": {
      "text/html": [
       "<div>\n",
       "<style scoped>\n",
       "    .dataframe tbody tr th:only-of-type {\n",
       "        vertical-align: middle;\n",
       "    }\n",
       "\n",
       "    .dataframe tbody tr th {\n",
       "        vertical-align: top;\n",
       "    }\n",
       "\n",
       "    .dataframe thead th {\n",
       "        text-align: right;\n",
       "    }\n",
       "</style>\n",
       "<table border=\"1\" class=\"dataframe\">\n",
       "  <thead>\n",
       "    <tr style=\"text-align: right;\">\n",
       "      <th></th>\n",
       "      <th>SalePrice</th>\n",
       "      <th>YearBuilt</th>\n",
       "      <th>YrSold</th>\n",
       "      <th>MonthSold</th>\n",
       "      <th>Size(sqf)</th>\n",
       "      <th>Floor</th>\n",
       "      <th>HallwayType</th>\n",
       "      <th>HeatingType</th>\n",
       "      <th>AptManageType</th>\n",
       "      <th>N_Parkinglot(Ground)</th>\n",
       "      <th>...</th>\n",
       "      <th>N_SchoolNearBy(Middle)</th>\n",
       "      <th>N_SchoolNearBy(High)</th>\n",
       "      <th>N_SchoolNearBy(University)</th>\n",
       "      <th>N_FacilitiesInApt</th>\n",
       "      <th>N_FacilitiesNearBy(Total)</th>\n",
       "      <th>N_SchoolNearBy(Total)</th>\n",
       "      <th>TimeToBusStopStart</th>\n",
       "      <th>TimeToBusStopEnd</th>\n",
       "      <th>TimeToSubwayStart</th>\n",
       "      <th>TimeToSubwayEnd</th>\n",
       "    </tr>\n",
       "  </thead>\n",
       "  <tbody>\n",
       "    <tr>\n",
       "      <td>3</td>\n",
       "      <td>12.849320</td>\n",
       "      <td>2006</td>\n",
       "      <td>2007</td>\n",
       "      <td>8</td>\n",
       "      <td>2056</td>\n",
       "      <td>8</td>\n",
       "      <td>terraced</td>\n",
       "      <td>individual_heating</td>\n",
       "      <td>management_in_trust</td>\n",
       "      <td>249.0</td>\n",
       "      <td>...</td>\n",
       "      <td>2.0</td>\n",
       "      <td>1.0</td>\n",
       "      <td>2.0</td>\n",
       "      <td>5</td>\n",
       "      <td>3.0</td>\n",
       "      <td>7.0</td>\n",
       "      <td>0</td>\n",
       "      <td>5</td>\n",
       "      <td>0-5</td>\n",
       "      <td>5</td>\n",
       "    </tr>\n",
       "    <tr>\n",
       "      <td>4</td>\n",
       "      <td>12.306994</td>\n",
       "      <td>1993</td>\n",
       "      <td>2007</td>\n",
       "      <td>8</td>\n",
       "      <td>1761</td>\n",
       "      <td>3</td>\n",
       "      <td>mixed</td>\n",
       "      <td>individual_heating</td>\n",
       "      <td>management_in_trust</td>\n",
       "      <td>523.0</td>\n",
       "      <td>...</td>\n",
       "      <td>3.0</td>\n",
       "      <td>5.0</td>\n",
       "      <td>5.0</td>\n",
       "      <td>4</td>\n",
       "      <td>14.0</td>\n",
       "      <td>17.0</td>\n",
       "      <td>0</td>\n",
       "      <td>5</td>\n",
       "      <td>15</td>\n",
       "      <td>5</td>\n",
       "    </tr>\n",
       "    <tr>\n",
       "      <td>33</td>\n",
       "      <td>12.584629</td>\n",
       "      <td>2006</td>\n",
       "      <td>2007</td>\n",
       "      <td>10</td>\n",
       "      <td>2056</td>\n",
       "      <td>2</td>\n",
       "      <td>terraced</td>\n",
       "      <td>individual_heating</td>\n",
       "      <td>management_in_trust</td>\n",
       "      <td>249.0</td>\n",
       "      <td>...</td>\n",
       "      <td>2.0</td>\n",
       "      <td>1.0</td>\n",
       "      <td>2.0</td>\n",
       "      <td>5</td>\n",
       "      <td>3.0</td>\n",
       "      <td>7.0</td>\n",
       "      <td>0</td>\n",
       "      <td>5</td>\n",
       "      <td>0-5</td>\n",
       "      <td>5</td>\n",
       "    </tr>\n",
       "    <tr>\n",
       "      <td>34</td>\n",
       "      <td>12.306994</td>\n",
       "      <td>1993</td>\n",
       "      <td>2007</td>\n",
       "      <td>10</td>\n",
       "      <td>1761</td>\n",
       "      <td>15</td>\n",
       "      <td>mixed</td>\n",
       "      <td>individual_heating</td>\n",
       "      <td>management_in_trust</td>\n",
       "      <td>523.0</td>\n",
       "      <td>...</td>\n",
       "      <td>3.0</td>\n",
       "      <td>5.0</td>\n",
       "      <td>5.0</td>\n",
       "      <td>4</td>\n",
       "      <td>14.0</td>\n",
       "      <td>17.0</td>\n",
       "      <td>0</td>\n",
       "      <td>5</td>\n",
       "      <td>15</td>\n",
       "      <td>5</td>\n",
       "    </tr>\n",
       "    <tr>\n",
       "      <td>83</td>\n",
       "      <td>12.058535</td>\n",
       "      <td>1993</td>\n",
       "      <td>2007</td>\n",
       "      <td>11</td>\n",
       "      <td>1761</td>\n",
       "      <td>4</td>\n",
       "      <td>mixed</td>\n",
       "      <td>individual_heating</td>\n",
       "      <td>management_in_trust</td>\n",
       "      <td>523.0</td>\n",
       "      <td>...</td>\n",
       "      <td>3.0</td>\n",
       "      <td>5.0</td>\n",
       "      <td>5.0</td>\n",
       "      <td>4</td>\n",
       "      <td>14.0</td>\n",
       "      <td>17.0</td>\n",
       "      <td>0</td>\n",
       "      <td>5</td>\n",
       "      <td>15</td>\n",
       "      <td>5</td>\n",
       "    </tr>\n",
       "    <tr>\n",
       "      <td>...</td>\n",
       "      <td>...</td>\n",
       "      <td>...</td>\n",
       "      <td>...</td>\n",
       "      <td>...</td>\n",
       "      <td>...</td>\n",
       "      <td>...</td>\n",
       "      <td>...</td>\n",
       "      <td>...</td>\n",
       "      <td>...</td>\n",
       "      <td>...</td>\n",
       "      <td>...</td>\n",
       "      <td>...</td>\n",
       "      <td>...</td>\n",
       "      <td>...</td>\n",
       "      <td>...</td>\n",
       "      <td>...</td>\n",
       "      <td>...</td>\n",
       "      <td>...</td>\n",
       "      <td>...</td>\n",
       "      <td>...</td>\n",
       "      <td>...</td>\n",
       "    </tr>\n",
       "    <tr>\n",
       "      <td>5789</td>\n",
       "      <td>13.179127</td>\n",
       "      <td>2007</td>\n",
       "      <td>2017</td>\n",
       "      <td>7</td>\n",
       "      <td>1928</td>\n",
       "      <td>12</td>\n",
       "      <td>terraced</td>\n",
       "      <td>individual_heating</td>\n",
       "      <td>management_in_trust</td>\n",
       "      <td>0.0</td>\n",
       "      <td>...</td>\n",
       "      <td>3.0</td>\n",
       "      <td>2.0</td>\n",
       "      <td>2.0</td>\n",
       "      <td>10</td>\n",
       "      <td>9.0</td>\n",
       "      <td>10.0</td>\n",
       "      <td>0</td>\n",
       "      <td>5</td>\n",
       "      <td>0-5</td>\n",
       "      <td>5</td>\n",
       "    </tr>\n",
       "    <tr>\n",
       "      <td>5809</td>\n",
       "      <td>13.165658</td>\n",
       "      <td>2007</td>\n",
       "      <td>2017</td>\n",
       "      <td>7</td>\n",
       "      <td>1928</td>\n",
       "      <td>5</td>\n",
       "      <td>terraced</td>\n",
       "      <td>individual_heating</td>\n",
       "      <td>management_in_trust</td>\n",
       "      <td>0.0</td>\n",
       "      <td>...</td>\n",
       "      <td>3.0</td>\n",
       "      <td>2.0</td>\n",
       "      <td>2.0</td>\n",
       "      <td>10</td>\n",
       "      <td>9.0</td>\n",
       "      <td>10.0</td>\n",
       "      <td>0</td>\n",
       "      <td>5</td>\n",
       "      <td>0-5</td>\n",
       "      <td>5</td>\n",
       "    </tr>\n",
       "    <tr>\n",
       "      <td>5870</td>\n",
       "      <td>12.743960</td>\n",
       "      <td>1993</td>\n",
       "      <td>2017</td>\n",
       "      <td>8</td>\n",
       "      <td>1761</td>\n",
       "      <td>16</td>\n",
       "      <td>mixed</td>\n",
       "      <td>individual_heating</td>\n",
       "      <td>management_in_trust</td>\n",
       "      <td>523.0</td>\n",
       "      <td>...</td>\n",
       "      <td>3.0</td>\n",
       "      <td>5.0</td>\n",
       "      <td>5.0</td>\n",
       "      <td>4</td>\n",
       "      <td>14.0</td>\n",
       "      <td>17.0</td>\n",
       "      <td>0</td>\n",
       "      <td>5</td>\n",
       "      <td>15</td>\n",
       "      <td>5</td>\n",
       "    </tr>\n",
       "    <tr>\n",
       "      <td>5881</td>\n",
       "      <td>13.231257</td>\n",
       "      <td>2007</td>\n",
       "      <td>2017</td>\n",
       "      <td>8</td>\n",
       "      <td>1928</td>\n",
       "      <td>20</td>\n",
       "      <td>terraced</td>\n",
       "      <td>individual_heating</td>\n",
       "      <td>management_in_trust</td>\n",
       "      <td>0.0</td>\n",
       "      <td>...</td>\n",
       "      <td>3.0</td>\n",
       "      <td>2.0</td>\n",
       "      <td>2.0</td>\n",
       "      <td>10</td>\n",
       "      <td>9.0</td>\n",
       "      <td>10.0</td>\n",
       "      <td>0</td>\n",
       "      <td>5</td>\n",
       "      <td>0-5</td>\n",
       "      <td>5</td>\n",
       "    </tr>\n",
       "    <tr>\n",
       "      <td>5882</td>\n",
       "      <td>13.254787</td>\n",
       "      <td>2007</td>\n",
       "      <td>2017</td>\n",
       "      <td>8</td>\n",
       "      <td>1928</td>\n",
       "      <td>24</td>\n",
       "      <td>terraced</td>\n",
       "      <td>individual_heating</td>\n",
       "      <td>management_in_trust</td>\n",
       "      <td>0.0</td>\n",
       "      <td>...</td>\n",
       "      <td>3.0</td>\n",
       "      <td>2.0</td>\n",
       "      <td>2.0</td>\n",
       "      <td>10</td>\n",
       "      <td>9.0</td>\n",
       "      <td>10.0</td>\n",
       "      <td>0</td>\n",
       "      <td>5</td>\n",
       "      <td>0-5</td>\n",
       "      <td>5</td>\n",
       "    </tr>\n",
       "  </tbody>\n",
       "</table>\n",
       "<p>243 rows × 34 columns</p>\n",
       "</div>"
      ],
      "text/plain": [
       "      SalePrice  YearBuilt  YrSold  MonthSold  Size(sqf)  Floor HallwayType  \\\n",
       "3     12.849320       2006    2007          8       2056      8    terraced   \n",
       "4     12.306994       1993    2007          8       1761      3       mixed   \n",
       "33    12.584629       2006    2007         10       2056      2    terraced   \n",
       "34    12.306994       1993    2007         10       1761     15       mixed   \n",
       "83    12.058535       1993    2007         11       1761      4       mixed   \n",
       "...         ...        ...     ...        ...        ...    ...         ...   \n",
       "5789  13.179127       2007    2017          7       1928     12    terraced   \n",
       "5809  13.165658       2007    2017          7       1928      5    terraced   \n",
       "5870  12.743960       1993    2017          8       1761     16       mixed   \n",
       "5881  13.231257       2007    2017          8       1928     20    terraced   \n",
       "5882  13.254787       2007    2017          8       1928     24    terraced   \n",
       "\n",
       "             HeatingType        AptManageType  N_Parkinglot(Ground)  ...  \\\n",
       "3     individual_heating  management_in_trust                 249.0  ...   \n",
       "4     individual_heating  management_in_trust                 523.0  ...   \n",
       "33    individual_heating  management_in_trust                 249.0  ...   \n",
       "34    individual_heating  management_in_trust                 523.0  ...   \n",
       "83    individual_heating  management_in_trust                 523.0  ...   \n",
       "...                  ...                  ...                   ...  ...   \n",
       "5789  individual_heating  management_in_trust                   0.0  ...   \n",
       "5809  individual_heating  management_in_trust                   0.0  ...   \n",
       "5870  individual_heating  management_in_trust                 523.0  ...   \n",
       "5881  individual_heating  management_in_trust                   0.0  ...   \n",
       "5882  individual_heating  management_in_trust                   0.0  ...   \n",
       "\n",
       "      N_SchoolNearBy(Middle) N_SchoolNearBy(High) N_SchoolNearBy(University)  \\\n",
       "3                        2.0                  1.0                        2.0   \n",
       "4                        3.0                  5.0                        5.0   \n",
       "33                       2.0                  1.0                        2.0   \n",
       "34                       3.0                  5.0                        5.0   \n",
       "83                       3.0                  5.0                        5.0   \n",
       "...                      ...                  ...                        ...   \n",
       "5789                     3.0                  2.0                        2.0   \n",
       "5809                     3.0                  2.0                        2.0   \n",
       "5870                     3.0                  5.0                        5.0   \n",
       "5881                     3.0                  2.0                        2.0   \n",
       "5882                     3.0                  2.0                        2.0   \n",
       "\n",
       "      N_FacilitiesInApt  N_FacilitiesNearBy(Total)  N_SchoolNearBy(Total)  \\\n",
       "3                     5                        3.0                    7.0   \n",
       "4                     4                       14.0                   17.0   \n",
       "33                    5                        3.0                    7.0   \n",
       "34                    4                       14.0                   17.0   \n",
       "83                    4                       14.0                   17.0   \n",
       "...                 ...                        ...                    ...   \n",
       "5789                 10                        9.0                   10.0   \n",
       "5809                 10                        9.0                   10.0   \n",
       "5870                  4                       14.0                   17.0   \n",
       "5881                 10                        9.0                   10.0   \n",
       "5882                 10                        9.0                   10.0   \n",
       "\n",
       "     TimeToBusStopStart  TimeToBusStopEnd  TimeToSubwayStart  TimeToSubwayEnd  \n",
       "3                     0                 5                0-5                5  \n",
       "4                     0                 5                 15                5  \n",
       "33                    0                 5                0-5                5  \n",
       "34                    0                 5                 15                5  \n",
       "83                    0                 5                 15                5  \n",
       "...                 ...               ...                ...              ...  \n",
       "5789                  0                 5                0-5                5  \n",
       "5809                  0                 5                0-5                5  \n",
       "5870                  0                 5                 15                5  \n",
       "5881                  0                 5                0-5                5  \n",
       "5882                  0                 5                0-5                5  \n",
       "\n",
       "[243 rows x 34 columns]"
      ]
     },
     "execution_count": 120,
     "metadata": {},
     "output_type": "execute_result"
    }
   ],
   "source": [
    "copied_data[copied_data['Size(sqf)']>max_threshold]"
   ]
  },
  {
   "cell_type": "code",
   "execution_count": 121,
   "metadata": {},
   "outputs": [
    {
     "data": {
      "text/plain": [
       "SalePrice                             5891\n",
       "YearBuilt                             5891\n",
       "YrSold                                5891\n",
       "MonthSold                             5891\n",
       "Size(sqf)                             5891\n",
       "Floor                                 5891\n",
       "HallwayType                           5891\n",
       "HeatingType                           5891\n",
       "AptManageType                         5891\n",
       "N_Parkinglot(Ground)                  5891\n",
       "N_Parkinglot(Basement)                5891\n",
       "TimeToBusStop                         5891\n",
       "TimeToSubway                          5891\n",
       "N_APT                                 5891\n",
       "N_manager                             5891\n",
       "N_elevators                           5891\n",
       "SubwayStation                         5891\n",
       "N_FacilitiesNearBy(PublicOffice)      5891\n",
       "N_FacilitiesNearBy(Hospital)          5891\n",
       "N_FacilitiesNearBy(Dpartmentstore)    5891\n",
       "N_FacilitiesNearBy(Mall)              5891\n",
       "N_FacilitiesNearBy(ETC)               5891\n",
       "N_FacilitiesNearBy(Park)              5891\n",
       "N_SchoolNearBy(Elementary)            5891\n",
       "N_SchoolNearBy(Middle)                5891\n",
       "N_SchoolNearBy(High)                  5891\n",
       "N_SchoolNearBy(University)            5891\n",
       "N_FacilitiesInApt                     5891\n",
       "N_FacilitiesNearBy(Total)             5891\n",
       "N_SchoolNearBy(Total)                 5891\n",
       "TimeToBusStopStart                    5891\n",
       "TimeToBusStopEnd                      5891\n",
       "TimeToSubwayStart                     5891\n",
       "TimeToSubwayEnd                       5891\n",
       "dtype: int64"
      ]
     },
     "execution_count": 121,
     "metadata": {},
     "output_type": "execute_result"
    }
   ],
   "source": [
    " copied_data.count()"
   ]
  },
  {
   "cell_type": "code",
   "execution_count": 122,
   "metadata": {},
   "outputs": [
    {
     "data": {
      "text/plain": [
       "430.0"
      ]
     },
     "execution_count": 122,
     "metadata": {},
     "output_type": "execute_result"
    }
   ],
   "source": [
    "min_threshold = copied_data['Size(sqf)'].quantile(0.05)\n",
    "\n",
    "min_threshold"
   ]
  },
  {
   "cell_type": "code",
   "execution_count": 123,
   "metadata": {},
   "outputs": [
    {
     "data": {
      "text/html": [
       "<div>\n",
       "<style scoped>\n",
       "    .dataframe tbody tr th:only-of-type {\n",
       "        vertical-align: middle;\n",
       "    }\n",
       "\n",
       "    .dataframe tbody tr th {\n",
       "        vertical-align: top;\n",
       "    }\n",
       "\n",
       "    .dataframe thead th {\n",
       "        text-align: right;\n",
       "    }\n",
       "</style>\n",
       "<table border=\"1\" class=\"dataframe\">\n",
       "  <thead>\n",
       "    <tr style=\"text-align: right;\">\n",
       "      <th></th>\n",
       "      <th>SalePrice</th>\n",
       "      <th>YearBuilt</th>\n",
       "      <th>YrSold</th>\n",
       "      <th>MonthSold</th>\n",
       "      <th>Size(sqf)</th>\n",
       "      <th>Floor</th>\n",
       "      <th>HallwayType</th>\n",
       "      <th>HeatingType</th>\n",
       "      <th>AptManageType</th>\n",
       "      <th>N_Parkinglot(Ground)</th>\n",
       "      <th>...</th>\n",
       "      <th>N_SchoolNearBy(Middle)</th>\n",
       "      <th>N_SchoolNearBy(High)</th>\n",
       "      <th>N_SchoolNearBy(University)</th>\n",
       "      <th>N_FacilitiesInApt</th>\n",
       "      <th>N_FacilitiesNearBy(Total)</th>\n",
       "      <th>N_SchoolNearBy(Total)</th>\n",
       "      <th>TimeToBusStopStart</th>\n",
       "      <th>TimeToBusStopEnd</th>\n",
       "      <th>TimeToSubwayStart</th>\n",
       "      <th>TimeToSubwayEnd</th>\n",
       "    </tr>\n",
       "  </thead>\n",
       "  <tbody>\n",
       "    <tr>\n",
       "      <td>5</td>\n",
       "      <td>10.486820</td>\n",
       "      <td>1992</td>\n",
       "      <td>2007</td>\n",
       "      <td>8</td>\n",
       "      <td>355</td>\n",
       "      <td>5</td>\n",
       "      <td>corridor</td>\n",
       "      <td>individual_heating</td>\n",
       "      <td>management_in_trust</td>\n",
       "      <td>200.0</td>\n",
       "      <td>...</td>\n",
       "      <td>3.0</td>\n",
       "      <td>5.0</td>\n",
       "      <td>5.0</td>\n",
       "      <td>3</td>\n",
       "      <td>16.0</td>\n",
       "      <td>17.0</td>\n",
       "      <td>5</td>\n",
       "      <td>10</td>\n",
       "      <td>10</td>\n",
       "      <td>10</td>\n",
       "    </tr>\n",
       "    <tr>\n",
       "      <td>20</td>\n",
       "      <td>10.546735</td>\n",
       "      <td>1992</td>\n",
       "      <td>2007</td>\n",
       "      <td>9</td>\n",
       "      <td>355</td>\n",
       "      <td>3</td>\n",
       "      <td>corridor</td>\n",
       "      <td>individual_heating</td>\n",
       "      <td>management_in_trust</td>\n",
       "      <td>200.0</td>\n",
       "      <td>...</td>\n",
       "      <td>3.0</td>\n",
       "      <td>5.0</td>\n",
       "      <td>5.0</td>\n",
       "      <td>3</td>\n",
       "      <td>16.0</td>\n",
       "      <td>17.0</td>\n",
       "      <td>5</td>\n",
       "      <td>10</td>\n",
       "      <td>10</td>\n",
       "      <td>10</td>\n",
       "    </tr>\n",
       "    <tr>\n",
       "      <td>35</td>\n",
       "      <td>10.558284</td>\n",
       "      <td>1992</td>\n",
       "      <td>2007</td>\n",
       "      <td>10</td>\n",
       "      <td>355</td>\n",
       "      <td>13</td>\n",
       "      <td>corridor</td>\n",
       "      <td>individual_heating</td>\n",
       "      <td>management_in_trust</td>\n",
       "      <td>200.0</td>\n",
       "      <td>...</td>\n",
       "      <td>3.0</td>\n",
       "      <td>5.0</td>\n",
       "      <td>5.0</td>\n",
       "      <td>3</td>\n",
       "      <td>16.0</td>\n",
       "      <td>17.0</td>\n",
       "      <td>5</td>\n",
       "      <td>10</td>\n",
       "      <td>10</td>\n",
       "      <td>10</td>\n",
       "    </tr>\n",
       "    <tr>\n",
       "      <td>38</td>\n",
       "      <td>10.592200</td>\n",
       "      <td>1992</td>\n",
       "      <td>2007</td>\n",
       "      <td>10</td>\n",
       "      <td>355</td>\n",
       "      <td>5</td>\n",
       "      <td>corridor</td>\n",
       "      <td>individual_heating</td>\n",
       "      <td>management_in_trust</td>\n",
       "      <td>200.0</td>\n",
       "      <td>...</td>\n",
       "      <td>3.0</td>\n",
       "      <td>5.0</td>\n",
       "      <td>5.0</td>\n",
       "      <td>3</td>\n",
       "      <td>16.0</td>\n",
       "      <td>17.0</td>\n",
       "      <td>5</td>\n",
       "      <td>10</td>\n",
       "      <td>10</td>\n",
       "      <td>10</td>\n",
       "    </tr>\n",
       "    <tr>\n",
       "      <td>39</td>\n",
       "      <td>10.499105</td>\n",
       "      <td>1992</td>\n",
       "      <td>2007</td>\n",
       "      <td>10</td>\n",
       "      <td>355</td>\n",
       "      <td>1</td>\n",
       "      <td>corridor</td>\n",
       "      <td>individual_heating</td>\n",
       "      <td>management_in_trust</td>\n",
       "      <td>200.0</td>\n",
       "      <td>...</td>\n",
       "      <td>3.0</td>\n",
       "      <td>5.0</td>\n",
       "      <td>5.0</td>\n",
       "      <td>3</td>\n",
       "      <td>16.0</td>\n",
       "      <td>17.0</td>\n",
       "      <td>5</td>\n",
       "      <td>10</td>\n",
       "      <td>10</td>\n",
       "      <td>10</td>\n",
       "    </tr>\n",
       "    <tr>\n",
       "      <td>...</td>\n",
       "      <td>...</td>\n",
       "      <td>...</td>\n",
       "      <td>...</td>\n",
       "      <td>...</td>\n",
       "      <td>...</td>\n",
       "      <td>...</td>\n",
       "      <td>...</td>\n",
       "      <td>...</td>\n",
       "      <td>...</td>\n",
       "      <td>...</td>\n",
       "      <td>...</td>\n",
       "      <td>...</td>\n",
       "      <td>...</td>\n",
       "      <td>...</td>\n",
       "      <td>...</td>\n",
       "      <td>...</td>\n",
       "      <td>...</td>\n",
       "      <td>...</td>\n",
       "      <td>...</td>\n",
       "      <td>...</td>\n",
       "      <td>...</td>\n",
       "    </tr>\n",
       "    <tr>\n",
       "      <td>5714</td>\n",
       "      <td>11.312741</td>\n",
       "      <td>1992</td>\n",
       "      <td>2017</td>\n",
       "      <td>7</td>\n",
       "      <td>355</td>\n",
       "      <td>11</td>\n",
       "      <td>corridor</td>\n",
       "      <td>individual_heating</td>\n",
       "      <td>management_in_trust</td>\n",
       "      <td>200.0</td>\n",
       "      <td>...</td>\n",
       "      <td>3.0</td>\n",
       "      <td>5.0</td>\n",
       "      <td>5.0</td>\n",
       "      <td>3</td>\n",
       "      <td>16.0</td>\n",
       "      <td>17.0</td>\n",
       "      <td>5</td>\n",
       "      <td>10</td>\n",
       "      <td>10</td>\n",
       "      <td>10</td>\n",
       "    </tr>\n",
       "    <tr>\n",
       "      <td>5738</td>\n",
       "      <td>11.318126</td>\n",
       "      <td>1992</td>\n",
       "      <td>2017</td>\n",
       "      <td>7</td>\n",
       "      <td>355</td>\n",
       "      <td>2</td>\n",
       "      <td>corridor</td>\n",
       "      <td>individual_heating</td>\n",
       "      <td>management_in_trust</td>\n",
       "      <td>200.0</td>\n",
       "      <td>...</td>\n",
       "      <td>3.0</td>\n",
       "      <td>5.0</td>\n",
       "      <td>5.0</td>\n",
       "      <td>3</td>\n",
       "      <td>16.0</td>\n",
       "      <td>17.0</td>\n",
       "      <td>5</td>\n",
       "      <td>10</td>\n",
       "      <td>10</td>\n",
       "      <td>10</td>\n",
       "    </tr>\n",
       "    <tr>\n",
       "      <td>5819</td>\n",
       "      <td>10.879876</td>\n",
       "      <td>2014</td>\n",
       "      <td>2017</td>\n",
       "      <td>8</td>\n",
       "      <td>135</td>\n",
       "      <td>11</td>\n",
       "      <td>corridor</td>\n",
       "      <td>individual_heating</td>\n",
       "      <td>self_management</td>\n",
       "      <td>0.0</td>\n",
       "      <td>...</td>\n",
       "      <td>0.0</td>\n",
       "      <td>0.0</td>\n",
       "      <td>1.0</td>\n",
       "      <td>1</td>\n",
       "      <td>6.0</td>\n",
       "      <td>1.0</td>\n",
       "      <td>10</td>\n",
       "      <td>15</td>\n",
       "      <td>5</td>\n",
       "      <td>15</td>\n",
       "    </tr>\n",
       "    <tr>\n",
       "      <td>5865</td>\n",
       "      <td>11.167558</td>\n",
       "      <td>1992</td>\n",
       "      <td>2017</td>\n",
       "      <td>8</td>\n",
       "      <td>355</td>\n",
       "      <td>6</td>\n",
       "      <td>corridor</td>\n",
       "      <td>individual_heating</td>\n",
       "      <td>management_in_trust</td>\n",
       "      <td>200.0</td>\n",
       "      <td>...</td>\n",
       "      <td>3.0</td>\n",
       "      <td>5.0</td>\n",
       "      <td>5.0</td>\n",
       "      <td>3</td>\n",
       "      <td>16.0</td>\n",
       "      <td>17.0</td>\n",
       "      <td>5</td>\n",
       "      <td>10</td>\n",
       "      <td>10</td>\n",
       "      <td>10</td>\n",
       "    </tr>\n",
       "    <tr>\n",
       "      <td>5866</td>\n",
       "      <td>11.192252</td>\n",
       "      <td>2014</td>\n",
       "      <td>2017</td>\n",
       "      <td>8</td>\n",
       "      <td>213</td>\n",
       "      <td>15</td>\n",
       "      <td>corridor</td>\n",
       "      <td>individual_heating</td>\n",
       "      <td>management_in_trust</td>\n",
       "      <td>11.0</td>\n",
       "      <td>...</td>\n",
       "      <td>2.0</td>\n",
       "      <td>2.0</td>\n",
       "      <td>2.0</td>\n",
       "      <td>2</td>\n",
       "      <td>8.0</td>\n",
       "      <td>8.0</td>\n",
       "      <td>0</td>\n",
       "      <td>5</td>\n",
       "      <td>5</td>\n",
       "      <td>5</td>\n",
       "    </tr>\n",
       "  </tbody>\n",
       "</table>\n",
       "<p>288 rows × 34 columns</p>\n",
       "</div>"
      ],
      "text/plain": [
       "      SalePrice  YearBuilt  YrSold  MonthSold  Size(sqf)  Floor HallwayType  \\\n",
       "5     10.486820       1992    2007          8        355      5    corridor   \n",
       "20    10.546735       1992    2007          9        355      3    corridor   \n",
       "35    10.558284       1992    2007         10        355     13    corridor   \n",
       "38    10.592200       1992    2007         10        355      5    corridor   \n",
       "39    10.499105       1992    2007         10        355      1    corridor   \n",
       "...         ...        ...     ...        ...        ...    ...         ...   \n",
       "5714  11.312741       1992    2017          7        355     11    corridor   \n",
       "5738  11.318126       1992    2017          7        355      2    corridor   \n",
       "5819  10.879876       2014    2017          8        135     11    corridor   \n",
       "5865  11.167558       1992    2017          8        355      6    corridor   \n",
       "5866  11.192252       2014    2017          8        213     15    corridor   \n",
       "\n",
       "             HeatingType        AptManageType  N_Parkinglot(Ground)  ...  \\\n",
       "5     individual_heating  management_in_trust                 200.0  ...   \n",
       "20    individual_heating  management_in_trust                 200.0  ...   \n",
       "35    individual_heating  management_in_trust                 200.0  ...   \n",
       "38    individual_heating  management_in_trust                 200.0  ...   \n",
       "39    individual_heating  management_in_trust                 200.0  ...   \n",
       "...                  ...                  ...                   ...  ...   \n",
       "5714  individual_heating  management_in_trust                 200.0  ...   \n",
       "5738  individual_heating  management_in_trust                 200.0  ...   \n",
       "5819  individual_heating      self_management                   0.0  ...   \n",
       "5865  individual_heating  management_in_trust                 200.0  ...   \n",
       "5866  individual_heating  management_in_trust                  11.0  ...   \n",
       "\n",
       "      N_SchoolNearBy(Middle) N_SchoolNearBy(High) N_SchoolNearBy(University)  \\\n",
       "5                        3.0                  5.0                        5.0   \n",
       "20                       3.0                  5.0                        5.0   \n",
       "35                       3.0                  5.0                        5.0   \n",
       "38                       3.0                  5.0                        5.0   \n",
       "39                       3.0                  5.0                        5.0   \n",
       "...                      ...                  ...                        ...   \n",
       "5714                     3.0                  5.0                        5.0   \n",
       "5738                     3.0                  5.0                        5.0   \n",
       "5819                     0.0                  0.0                        1.0   \n",
       "5865                     3.0                  5.0                        5.0   \n",
       "5866                     2.0                  2.0                        2.0   \n",
       "\n",
       "      N_FacilitiesInApt  N_FacilitiesNearBy(Total)  N_SchoolNearBy(Total)  \\\n",
       "5                     3                       16.0                   17.0   \n",
       "20                    3                       16.0                   17.0   \n",
       "35                    3                       16.0                   17.0   \n",
       "38                    3                       16.0                   17.0   \n",
       "39                    3                       16.0                   17.0   \n",
       "...                 ...                        ...                    ...   \n",
       "5714                  3                       16.0                   17.0   \n",
       "5738                  3                       16.0                   17.0   \n",
       "5819                  1                        6.0                    1.0   \n",
       "5865                  3                       16.0                   17.0   \n",
       "5866                  2                        8.0                    8.0   \n",
       "\n",
       "     TimeToBusStopStart  TimeToBusStopEnd  TimeToSubwayStart  TimeToSubwayEnd  \n",
       "5                     5                10                 10               10  \n",
       "20                    5                10                 10               10  \n",
       "35                    5                10                 10               10  \n",
       "38                    5                10                 10               10  \n",
       "39                    5                10                 10               10  \n",
       "...                 ...               ...                ...              ...  \n",
       "5714                  5                10                 10               10  \n",
       "5738                  5                10                 10               10  \n",
       "5819                 10                15                  5               15  \n",
       "5865                  5                10                 10               10  \n",
       "5866                  0                 5                  5                5  \n",
       "\n",
       "[288 rows x 34 columns]"
      ]
     },
     "execution_count": 123,
     "metadata": {},
     "output_type": "execute_result"
    }
   ],
   "source": [
    "copied_data[copied_data['Size(sqf)']<min_threshold]"
   ]
  },
  {
   "cell_type": "code",
   "execution_count": 124,
   "metadata": {},
   "outputs": [],
   "source": [
    "copied_data['Size(sqf)'] = copied_data[(copied_data['Size(sqf)']<max_threshold) & (copied_data['Size(sqf)']>min_threshold)]"
   ]
  },
  {
   "cell_type": "code",
   "execution_count": 125,
   "metadata": {},
   "outputs": [
    {
     "data": {
      "text/plain": [
       "5282"
      ]
     },
     "execution_count": 125,
     "metadata": {},
     "output_type": "execute_result"
    }
   ],
   "source": [
    "copied_data['Size(sqf)'].count()"
   ]
  },
  {
   "cell_type": "code",
   "execution_count": 126,
   "metadata": {
    "scrolled": true
   },
   "outputs": [
    {
     "data": {
      "text/plain": [
       "SalePrice                             5891\n",
       "YearBuilt                             5891\n",
       "YrSold                                5891\n",
       "MonthSold                             5891\n",
       "Size(sqf)                             5282\n",
       "Floor                                 5891\n",
       "HallwayType                           5891\n",
       "HeatingType                           5891\n",
       "AptManageType                         5891\n",
       "N_Parkinglot(Ground)                  5891\n",
       "N_Parkinglot(Basement)                5891\n",
       "TimeToBusStop                         5891\n",
       "TimeToSubway                          5891\n",
       "N_APT                                 5891\n",
       "N_manager                             5891\n",
       "N_elevators                           5891\n",
       "SubwayStation                         5891\n",
       "N_FacilitiesNearBy(PublicOffice)      5891\n",
       "N_FacilitiesNearBy(Hospital)          5891\n",
       "N_FacilitiesNearBy(Dpartmentstore)    5891\n",
       "N_FacilitiesNearBy(Mall)              5891\n",
       "N_FacilitiesNearBy(ETC)               5891\n",
       "N_FacilitiesNearBy(Park)              5891\n",
       "N_SchoolNearBy(Elementary)            5891\n",
       "N_SchoolNearBy(Middle)                5891\n",
       "N_SchoolNearBy(High)                  5891\n",
       "N_SchoolNearBy(University)            5891\n",
       "N_FacilitiesInApt                     5891\n",
       "N_FacilitiesNearBy(Total)             5891\n",
       "N_SchoolNearBy(Total)                 5891\n",
       "TimeToBusStopStart                    5891\n",
       "TimeToBusStopEnd                      5891\n",
       "TimeToSubwayStart                     5891\n",
       "TimeToSubwayEnd                       5891\n",
       "dtype: int64"
      ]
     },
     "execution_count": 126,
     "metadata": {},
     "output_type": "execute_result"
    }
   ],
   "source": [
    "copied_data.count()"
   ]
  },
  {
   "cell_type": "markdown",
   "metadata": {},
   "source": [
    "# Testing N_FacilitiesNearBy(Mall)"
   ]
  },
  {
   "cell_type": "code",
   "execution_count": 127,
   "metadata": {},
   "outputs": [
    {
     "data": {
      "text/plain": [
       "<matplotlib.axes._subplots.AxesSubplot at 0x23954207dc8>"
      ]
     },
     "execution_count": 127,
     "metadata": {},
     "output_type": "execute_result"
    },
    {
     "data": {
      "image/png": "[encoded data removed]",
      "text/plain": [
       "<Figure size 432x288 with 1 Axes>"
      ]
     },
     "metadata": {
      "needs_background": "light"
     },
     "output_type": "display_data"
    }
   ],
   "source": [
    "sns.boxplot(copied_data['N_FacilitiesNearBy(Mall)'])"
   ]
  },
  {
   "cell_type": "code",
   "execution_count": 128,
   "metadata": {},
   "outputs": [
    {
     "data": {
      "text/plain": [
       "1.0"
      ]
     },
     "execution_count": 128,
     "metadata": {},
     "output_type": "execute_result"
    }
   ],
   "source": [
    "max_threshold = data['N_FacilitiesNearBy(Mall)'].quantile(0.90)\n",
    "\n",
    "max_threshold"
   ]
  },
  {
   "cell_type": "code",
   "execution_count": 129,
   "metadata": {},
   "outputs": [
    {
     "data": {
      "text/html": [
       "<div>\n",
       "<style scoped>\n",
       "    .dataframe tbody tr th:only-of-type {\n",
       "        vertical-align: middle;\n",
       "    }\n",
       "\n",
       "    .dataframe tbody tr th {\n",
       "        vertical-align: top;\n",
       "    }\n",
       "\n",
       "    .dataframe thead th {\n",
       "        text-align: right;\n",
       "    }\n",
       "</style>\n",
       "<table border=\"1\" class=\"dataframe\">\n",
       "  <thead>\n",
       "    <tr style=\"text-align: right;\">\n",
       "      <th></th>\n",
       "      <th>SalePrice</th>\n",
       "      <th>YearBuilt</th>\n",
       "      <th>YrSold</th>\n",
       "      <th>MonthSold</th>\n",
       "      <th>Size(sqf)</th>\n",
       "      <th>Floor</th>\n",
       "      <th>HallwayType</th>\n",
       "      <th>HeatingType</th>\n",
       "      <th>AptManageType</th>\n",
       "      <th>N_Parkinglot(Ground)</th>\n",
       "      <th>...</th>\n",
       "      <th>N_SchoolNearBy(Middle)</th>\n",
       "      <th>N_SchoolNearBy(High)</th>\n",
       "      <th>N_SchoolNearBy(University)</th>\n",
       "      <th>N_FacilitiesInApt</th>\n",
       "      <th>N_FacilitiesNearBy(Total)</th>\n",
       "      <th>N_SchoolNearBy(Total)</th>\n",
       "      <th>TimeToBusStopStart</th>\n",
       "      <th>TimeToBusStopEnd</th>\n",
       "      <th>TimeToSubwayStart</th>\n",
       "      <th>TimeToSubwayEnd</th>\n",
       "    </tr>\n",
       "  </thead>\n",
       "  <tbody>\n",
       "    <tr>\n",
       "      <td>81</td>\n",
       "      <td>12.355406</td>\n",
       "      <td>2007</td>\n",
       "      <td>2007</td>\n",
       "      <td>11</td>\n",
       "      <td>12.3554</td>\n",
       "      <td>24</td>\n",
       "      <td>terraced</td>\n",
       "      <td>individual_heating</td>\n",
       "      <td>management_in_trust</td>\n",
       "      <td>554.0</td>\n",
       "      <td>...</td>\n",
       "      <td>2.0</td>\n",
       "      <td>2.0</td>\n",
       "      <td>2.0</td>\n",
       "      <td>4</td>\n",
       "      <td>9.0</td>\n",
       "      <td>8.0</td>\n",
       "      <td>0</td>\n",
       "      <td>5</td>\n",
       "      <td>0-5</td>\n",
       "      <td>5</td>\n",
       "    </tr>\n",
       "    <tr>\n",
       "      <td>98</td>\n",
       "      <td>12.568929</td>\n",
       "      <td>2007</td>\n",
       "      <td>2007</td>\n",
       "      <td>12</td>\n",
       "      <td>12.5689</td>\n",
       "      <td>19</td>\n",
       "      <td>terraced</td>\n",
       "      <td>individual_heating</td>\n",
       "      <td>management_in_trust</td>\n",
       "      <td>554.0</td>\n",
       "      <td>...</td>\n",
       "      <td>2.0</td>\n",
       "      <td>2.0</td>\n",
       "      <td>2.0</td>\n",
       "      <td>4</td>\n",
       "      <td>9.0</td>\n",
       "      <td>8.0</td>\n",
       "      <td>0</td>\n",
       "      <td>5</td>\n",
       "      <td>0-5</td>\n",
       "      <td>5</td>\n",
       "    </tr>\n",
       "    <tr>\n",
       "      <td>99</td>\n",
       "      <td>12.563187</td>\n",
       "      <td>2007</td>\n",
       "      <td>2007</td>\n",
       "      <td>12</td>\n",
       "      <td>12.5632</td>\n",
       "      <td>20</td>\n",
       "      <td>terraced</td>\n",
       "      <td>individual_heating</td>\n",
       "      <td>management_in_trust</td>\n",
       "      <td>554.0</td>\n",
       "      <td>...</td>\n",
       "      <td>2.0</td>\n",
       "      <td>2.0</td>\n",
       "      <td>2.0</td>\n",
       "      <td>4</td>\n",
       "      <td>9.0</td>\n",
       "      <td>8.0</td>\n",
       "      <td>0</td>\n",
       "      <td>5</td>\n",
       "      <td>0-5</td>\n",
       "      <td>5</td>\n",
       "    </tr>\n",
       "    <tr>\n",
       "      <td>101</td>\n",
       "      <td>12.083854</td>\n",
       "      <td>2007</td>\n",
       "      <td>2007</td>\n",
       "      <td>12</td>\n",
       "      <td>12.0839</td>\n",
       "      <td>30</td>\n",
       "      <td>terraced</td>\n",
       "      <td>individual_heating</td>\n",
       "      <td>management_in_trust</td>\n",
       "      <td>554.0</td>\n",
       "      <td>...</td>\n",
       "      <td>2.0</td>\n",
       "      <td>2.0</td>\n",
       "      <td>2.0</td>\n",
       "      <td>4</td>\n",
       "      <td>9.0</td>\n",
       "      <td>8.0</td>\n",
       "      <td>0</td>\n",
       "      <td>5</td>\n",
       "      <td>0-5</td>\n",
       "      <td>5</td>\n",
       "    </tr>\n",
       "    <tr>\n",
       "      <td>102</td>\n",
       "      <td>12.688443</td>\n",
       "      <td>2007</td>\n",
       "      <td>2007</td>\n",
       "      <td>12</td>\n",
       "      <td>12.6884</td>\n",
       "      <td>30</td>\n",
       "      <td>terraced</td>\n",
       "      <td>individual_heating</td>\n",
       "      <td>management_in_trust</td>\n",
       "      <td>554.0</td>\n",
       "      <td>...</td>\n",
       "      <td>2.0</td>\n",
       "      <td>2.0</td>\n",
       "      <td>2.0</td>\n",
       "      <td>4</td>\n",
       "      <td>9.0</td>\n",
       "      <td>8.0</td>\n",
       "      <td>0</td>\n",
       "      <td>5</td>\n",
       "      <td>0-5</td>\n",
       "      <td>5</td>\n",
       "    </tr>\n",
       "    <tr>\n",
       "      <td>...</td>\n",
       "      <td>...</td>\n",
       "      <td>...</td>\n",
       "      <td>...</td>\n",
       "      <td>...</td>\n",
       "      <td>...</td>\n",
       "      <td>...</td>\n",
       "      <td>...</td>\n",
       "      <td>...</td>\n",
       "      <td>...</td>\n",
       "      <td>...</td>\n",
       "      <td>...</td>\n",
       "      <td>...</td>\n",
       "      <td>...</td>\n",
       "      <td>...</td>\n",
       "      <td>...</td>\n",
       "      <td>...</td>\n",
       "      <td>...</td>\n",
       "      <td>...</td>\n",
       "      <td>...</td>\n",
       "      <td>...</td>\n",
       "      <td>...</td>\n",
       "    </tr>\n",
       "    <tr>\n",
       "      <td>5741</td>\n",
       "      <td>12.671641</td>\n",
       "      <td>2007</td>\n",
       "      <td>2017</td>\n",
       "      <td>7</td>\n",
       "      <td>12.6716</td>\n",
       "      <td>6</td>\n",
       "      <td>terraced</td>\n",
       "      <td>individual_heating</td>\n",
       "      <td>management_in_trust</td>\n",
       "      <td>554.0</td>\n",
       "      <td>...</td>\n",
       "      <td>2.0</td>\n",
       "      <td>2.0</td>\n",
       "      <td>2.0</td>\n",
       "      <td>4</td>\n",
       "      <td>9.0</td>\n",
       "      <td>8.0</td>\n",
       "      <td>0</td>\n",
       "      <td>5</td>\n",
       "      <td>0-5</td>\n",
       "      <td>5</td>\n",
       "    </tr>\n",
       "    <tr>\n",
       "      <td>5757</td>\n",
       "      <td>12.890330</td>\n",
       "      <td>2007</td>\n",
       "      <td>2017</td>\n",
       "      <td>7</td>\n",
       "      <td>12.8903</td>\n",
       "      <td>10</td>\n",
       "      <td>terraced</td>\n",
       "      <td>individual_heating</td>\n",
       "      <td>management_in_trust</td>\n",
       "      <td>554.0</td>\n",
       "      <td>...</td>\n",
       "      <td>2.0</td>\n",
       "      <td>2.0</td>\n",
       "      <td>2.0</td>\n",
       "      <td>4</td>\n",
       "      <td>9.0</td>\n",
       "      <td>8.0</td>\n",
       "      <td>0</td>\n",
       "      <td>5</td>\n",
       "      <td>0-5</td>\n",
       "      <td>5</td>\n",
       "    </tr>\n",
       "    <tr>\n",
       "      <td>5782</td>\n",
       "      <td>12.764422</td>\n",
       "      <td>2007</td>\n",
       "      <td>2017</td>\n",
       "      <td>7</td>\n",
       "      <td>12.7644</td>\n",
       "      <td>28</td>\n",
       "      <td>terraced</td>\n",
       "      <td>individual_heating</td>\n",
       "      <td>management_in_trust</td>\n",
       "      <td>554.0</td>\n",
       "      <td>...</td>\n",
       "      <td>2.0</td>\n",
       "      <td>2.0</td>\n",
       "      <td>2.0</td>\n",
       "      <td>4</td>\n",
       "      <td>9.0</td>\n",
       "      <td>8.0</td>\n",
       "      <td>0</td>\n",
       "      <td>5</td>\n",
       "      <td>0-5</td>\n",
       "      <td>5</td>\n",
       "    </tr>\n",
       "    <tr>\n",
       "      <td>5849</td>\n",
       "      <td>12.745252</td>\n",
       "      <td>2007</td>\n",
       "      <td>2017</td>\n",
       "      <td>8</td>\n",
       "      <td>12.7453</td>\n",
       "      <td>23</td>\n",
       "      <td>terraced</td>\n",
       "      <td>individual_heating</td>\n",
       "      <td>management_in_trust</td>\n",
       "      <td>554.0</td>\n",
       "      <td>...</td>\n",
       "      <td>2.0</td>\n",
       "      <td>2.0</td>\n",
       "      <td>2.0</td>\n",
       "      <td>4</td>\n",
       "      <td>9.0</td>\n",
       "      <td>8.0</td>\n",
       "      <td>0</td>\n",
       "      <td>5</td>\n",
       "      <td>0-5</td>\n",
       "      <td>5</td>\n",
       "    </tr>\n",
       "    <tr>\n",
       "      <td>5853</td>\n",
       "      <td>12.916763</td>\n",
       "      <td>2007</td>\n",
       "      <td>2017</td>\n",
       "      <td>8</td>\n",
       "      <td>12.9168</td>\n",
       "      <td>22</td>\n",
       "      <td>terraced</td>\n",
       "      <td>individual_heating</td>\n",
       "      <td>management_in_trust</td>\n",
       "      <td>554.0</td>\n",
       "      <td>...</td>\n",
       "      <td>2.0</td>\n",
       "      <td>2.0</td>\n",
       "      <td>2.0</td>\n",
       "      <td>4</td>\n",
       "      <td>9.0</td>\n",
       "      <td>8.0</td>\n",
       "      <td>0</td>\n",
       "      <td>5</td>\n",
       "      <td>0-5</td>\n",
       "      <td>5</td>\n",
       "    </tr>\n",
       "  </tbody>\n",
       "</table>\n",
       "<p>312 rows × 34 columns</p>\n",
       "</div>"
      ],
      "text/plain": [
       "      SalePrice  YearBuilt  YrSold  MonthSold Size(sqf)  Floor HallwayType  \\\n",
       "81    12.355406       2007    2007         11   12.3554     24    terraced   \n",
       "98    12.568929       2007    2007         12   12.5689     19    terraced   \n",
       "99    12.563187       2007    2007         12   12.5632     20    terraced   \n",
       "101   12.083854       2007    2007         12   12.0839     30    terraced   \n",
       "102   12.688443       2007    2007         12   12.6884     30    terraced   \n",
       "...         ...        ...     ...        ...       ...    ...         ...   \n",
       "5741  12.671641       2007    2017          7   12.6716      6    terraced   \n",
       "5757  12.890330       2007    2017          7   12.8903     10    terraced   \n",
       "5782  12.764422       2007    2017          7   12.7644     28    terraced   \n",
       "5849  12.745252       2007    2017          8   12.7453     23    terraced   \n",
       "5853  12.916763       2007    2017          8   12.9168     22    terraced   \n",
       "\n",
       "             HeatingType        AptManageType  N_Parkinglot(Ground)  ...  \\\n",
       "81    individual_heating  management_in_trust                 554.0  ...   \n",
       "98    individual_heating  management_in_trust                 554.0  ...   \n",
       "99    individual_heating  management_in_trust                 554.0  ...   \n",
       "101   individual_heating  management_in_trust                 554.0  ...   \n",
       "102   individual_heating  management_in_trust                 554.0  ...   \n",
       "...                  ...                  ...                   ...  ...   \n",
       "5741  individual_heating  management_in_trust                 554.0  ...   \n",
       "5757  individual_heating  management_in_trust                 554.0  ...   \n",
       "5782  individual_heating  management_in_trust                 554.0  ...   \n",
       "5849  individual_heating  management_in_trust                 554.0  ...   \n",
       "5853  individual_heating  management_in_trust                 554.0  ...   \n",
       "\n",
       "      N_SchoolNearBy(Middle) N_SchoolNearBy(High) N_SchoolNearBy(University)  \\\n",
       "81                       2.0                  2.0                        2.0   \n",
       "98                       2.0                  2.0                        2.0   \n",
       "99                       2.0                  2.0                        2.0   \n",
       "101                      2.0                  2.0                        2.0   \n",
       "102                      2.0                  2.0                        2.0   \n",
       "...                      ...                  ...                        ...   \n",
       "5741                     2.0                  2.0                        2.0   \n",
       "5757                     2.0                  2.0                        2.0   \n",
       "5782                     2.0                  2.0                        2.0   \n",
       "5849                     2.0                  2.0                        2.0   \n",
       "5853                     2.0                  2.0                        2.0   \n",
       "\n",
       "      N_FacilitiesInApt  N_FacilitiesNearBy(Total)  N_SchoolNearBy(Total)  \\\n",
       "81                    4                        9.0                    8.0   \n",
       "98                    4                        9.0                    8.0   \n",
       "99                    4                        9.0                    8.0   \n",
       "101                   4                        9.0                    8.0   \n",
       "102                   4                        9.0                    8.0   \n",
       "...                 ...                        ...                    ...   \n",
       "5741                  4                        9.0                    8.0   \n",
       "5757                  4                        9.0                    8.0   \n",
       "5782                  4                        9.0                    8.0   \n",
       "5849                  4                        9.0                    8.0   \n",
       "5853                  4                        9.0                    8.0   \n",
       "\n",
       "     TimeToBusStopStart  TimeToBusStopEnd  TimeToSubwayStart  TimeToSubwayEnd  \n",
       "81                    0                 5                0-5                5  \n",
       "98                    0                 5                0-5                5  \n",
       "99                    0                 5                0-5                5  \n",
       "101                   0                 5                0-5                5  \n",
       "102                   0                 5                0-5                5  \n",
       "...                 ...               ...                ...              ...  \n",
       "5741                  0                 5                0-5                5  \n",
       "5757                  0                 5                0-5                5  \n",
       "5782                  0                 5                0-5                5  \n",
       "5849                  0                 5                0-5                5  \n",
       "5853                  0                 5                0-5                5  \n",
       "\n",
       "[312 rows x 34 columns]"
      ]
     },
     "execution_count": 129,
     "metadata": {},
     "output_type": "execute_result"
    }
   ],
   "source": [
    "copied_data[copied_data['N_FacilitiesNearBy(Mall)']>max_threshold]"
   ]
  },
  {
   "cell_type": "code",
   "execution_count": 130,
   "metadata": {},
   "outputs": [
    {
     "data": {
      "text/plain": [
       "5891"
      ]
     },
     "execution_count": 130,
     "metadata": {},
     "output_type": "execute_result"
    }
   ],
   "source": [
    "copied_data['N_FacilitiesNearBy(Mall)'].count()"
   ]
  },
  {
   "cell_type": "code",
   "execution_count": 131,
   "metadata": {},
   "outputs": [
    {
     "data": {
      "image/png": "[encoded data removed]",
      "text/plain": [
       "<Figure size 432x288 with 1 Axes>"
      ]
     },
     "metadata": {
      "needs_background": "light"
     },
     "output_type": "display_data"
    }
   ],
   "source": [
    "x = copied_data['N_FacilitiesNearBy(Mall)']\n",
    "plt.hist(x, bins = 10)\n",
    "plt.show()"
   ]
  },
  {
   "cell_type": "code",
   "execution_count": 132,
   "metadata": {},
   "outputs": [
    {
     "data": {
      "text/plain": [
       "1.0"
      ]
     },
     "execution_count": 132,
     "metadata": {},
     "output_type": "execute_result"
    }
   ],
   "source": [
    "min_threshold = data['N_FacilitiesNearBy(Mall)'].quantile(0.15)\n",
    "\n",
    "min_threshold"
   ]
  },
  {
   "cell_type": "markdown",
   "metadata": {},
   "source": [
    "# Testing N_SchoolNearBy(Middle) "
   ]
  },
  {
   "cell_type": "code",
   "execution_count": 133,
   "metadata": {},
   "outputs": [
    {
     "data": {
      "text/plain": [
       "<matplotlib.axes._subplots.AxesSubplot at 0x239542aa5c8>"
      ]
     },
     "execution_count": 133,
     "metadata": {},
     "output_type": "execute_result"
    },
    {
     "data": {
      "image/png": "[encoded data removed]",
      "text/plain": [
       "<Figure size 432x288 with 1 Axes>"
      ]
     },
     "metadata": {
      "needs_background": "light"
     },
     "output_type": "display_data"
    }
   ],
   "source": [
    "sns.boxplot(copied_data['N_SchoolNearBy(Middle)'])"
   ]
  },
  {
   "cell_type": "code",
   "execution_count": 134,
   "metadata": {},
   "outputs": [
    {
     "data": {
      "text/plain": [
       "1.0"
      ]
     },
     "execution_count": 134,
     "metadata": {},
     "output_type": "execute_result"
    }
   ],
   "source": [
    "min_threshold = data['N_SchoolNearBy(Middle)'].quantile(0.05)\n",
    "\n",
    "min_threshold"
   ]
  },
  {
   "cell_type": "code",
   "execution_count": 135,
   "metadata": {},
   "outputs": [],
   "source": [
    "a = np.percentile(data['N_SchoolNearBy(Middle)'], 5)"
   ]
  },
  {
   "cell_type": "code",
   "execution_count": 136,
   "metadata": {},
   "outputs": [
    {
     "data": {
      "text/html": [
       "<div>\n",
       "<style scoped>\n",
       "    .dataframe tbody tr th:only-of-type {\n",
       "        vertical-align: middle;\n",
       "    }\n",
       "\n",
       "    .dataframe tbody tr th {\n",
       "        vertical-align: top;\n",
       "    }\n",
       "\n",
       "    .dataframe thead th {\n",
       "        text-align: right;\n",
       "    }\n",
       "</style>\n",
       "<table border=\"1\" class=\"dataframe\">\n",
       "  <thead>\n",
       "    <tr style=\"text-align: right;\">\n",
       "      <th></th>\n",
       "      <th>SalePrice</th>\n",
       "      <th>YearBuilt</th>\n",
       "      <th>YrSold</th>\n",
       "      <th>MonthSold</th>\n",
       "      <th>Size(sqf)</th>\n",
       "      <th>Floor</th>\n",
       "      <th>HallwayType</th>\n",
       "      <th>HeatingType</th>\n",
       "      <th>AptManageType</th>\n",
       "      <th>N_Parkinglot(Ground)</th>\n",
       "      <th>...</th>\n",
       "      <th>N_SchoolNearBy(Middle)</th>\n",
       "      <th>N_SchoolNearBy(High)</th>\n",
       "      <th>N_SchoolNearBy(University)</th>\n",
       "      <th>N_FacilitiesInApt</th>\n",
       "      <th>N_FacilitiesNearBy(Total)</th>\n",
       "      <th>N_SchoolNearBy(Total)</th>\n",
       "      <th>TimeToBusStopStart</th>\n",
       "      <th>TimeToBusStopEnd</th>\n",
       "      <th>TimeToSubwayStart</th>\n",
       "      <th>TimeToSubwayEnd</th>\n",
       "    </tr>\n",
       "  </thead>\n",
       "  <tbody>\n",
       "    <tr>\n",
       "      <td>0</td>\n",
       "      <td>11.860705</td>\n",
       "      <td>2006</td>\n",
       "      <td>2007</td>\n",
       "      <td>8</td>\n",
       "      <td>11.8607</td>\n",
       "      <td>3</td>\n",
       "      <td>terraced</td>\n",
       "      <td>individual_heating</td>\n",
       "      <td>management_in_trust</td>\n",
       "      <td>111.0</td>\n",
       "      <td>...</td>\n",
       "      <td>2.0</td>\n",
       "      <td>2.0</td>\n",
       "      <td>2.0</td>\n",
       "      <td>5</td>\n",
       "      <td>6.0</td>\n",
       "      <td>9.0</td>\n",
       "      <td>5</td>\n",
       "      <td>10</td>\n",
       "      <td>10</td>\n",
       "      <td>10</td>\n",
       "    </tr>\n",
       "    <tr>\n",
       "      <td>3</td>\n",
       "      <td>12.849320</td>\n",
       "      <td>2006</td>\n",
       "      <td>2007</td>\n",
       "      <td>8</td>\n",
       "      <td>NaN</td>\n",
       "      <td>8</td>\n",
       "      <td>terraced</td>\n",
       "      <td>individual_heating</td>\n",
       "      <td>management_in_trust</td>\n",
       "      <td>249.0</td>\n",
       "      <td>...</td>\n",
       "      <td>2.0</td>\n",
       "      <td>1.0</td>\n",
       "      <td>2.0</td>\n",
       "      <td>5</td>\n",
       "      <td>3.0</td>\n",
       "      <td>7.0</td>\n",
       "      <td>0</td>\n",
       "      <td>5</td>\n",
       "      <td>0-5</td>\n",
       "      <td>5</td>\n",
       "    </tr>\n",
       "    <tr>\n",
       "      <td>4</td>\n",
       "      <td>12.306994</td>\n",
       "      <td>1993</td>\n",
       "      <td>2007</td>\n",
       "      <td>8</td>\n",
       "      <td>NaN</td>\n",
       "      <td>3</td>\n",
       "      <td>mixed</td>\n",
       "      <td>individual_heating</td>\n",
       "      <td>management_in_trust</td>\n",
       "      <td>523.0</td>\n",
       "      <td>...</td>\n",
       "      <td>3.0</td>\n",
       "      <td>5.0</td>\n",
       "      <td>5.0</td>\n",
       "      <td>4</td>\n",
       "      <td>14.0</td>\n",
       "      <td>17.0</td>\n",
       "      <td>0</td>\n",
       "      <td>5</td>\n",
       "      <td>15</td>\n",
       "      <td>5</td>\n",
       "    </tr>\n",
       "    <tr>\n",
       "      <td>5</td>\n",
       "      <td>10.486820</td>\n",
       "      <td>1992</td>\n",
       "      <td>2007</td>\n",
       "      <td>8</td>\n",
       "      <td>NaN</td>\n",
       "      <td>5</td>\n",
       "      <td>corridor</td>\n",
       "      <td>individual_heating</td>\n",
       "      <td>management_in_trust</td>\n",
       "      <td>200.0</td>\n",
       "      <td>...</td>\n",
       "      <td>3.0</td>\n",
       "      <td>5.0</td>\n",
       "      <td>5.0</td>\n",
       "      <td>3</td>\n",
       "      <td>16.0</td>\n",
       "      <td>17.0</td>\n",
       "      <td>5</td>\n",
       "      <td>10</td>\n",
       "      <td>10</td>\n",
       "      <td>10</td>\n",
       "    </tr>\n",
       "    <tr>\n",
       "      <td>6</td>\n",
       "      <td>11.268533</td>\n",
       "      <td>1992</td>\n",
       "      <td>2007</td>\n",
       "      <td>8</td>\n",
       "      <td>11.2685</td>\n",
       "      <td>2</td>\n",
       "      <td>mixed</td>\n",
       "      <td>individual_heating</td>\n",
       "      <td>self_management</td>\n",
       "      <td>142.0</td>\n",
       "      <td>...</td>\n",
       "      <td>3.0</td>\n",
       "      <td>4.0</td>\n",
       "      <td>4.0</td>\n",
       "      <td>3</td>\n",
       "      <td>9.0</td>\n",
       "      <td>14.0</td>\n",
       "      <td>5</td>\n",
       "      <td>10</td>\n",
       "      <td>15</td>\n",
       "      <td>10</td>\n",
       "    </tr>\n",
       "    <tr>\n",
       "      <td>...</td>\n",
       "      <td>...</td>\n",
       "      <td>...</td>\n",
       "      <td>...</td>\n",
       "      <td>...</td>\n",
       "      <td>...</td>\n",
       "      <td>...</td>\n",
       "      <td>...</td>\n",
       "      <td>...</td>\n",
       "      <td>...</td>\n",
       "      <td>...</td>\n",
       "      <td>...</td>\n",
       "      <td>...</td>\n",
       "      <td>...</td>\n",
       "      <td>...</td>\n",
       "      <td>...</td>\n",
       "      <td>...</td>\n",
       "      <td>...</td>\n",
       "      <td>...</td>\n",
       "      <td>...</td>\n",
       "      <td>...</td>\n",
       "      <td>...</td>\n",
       "    </tr>\n",
       "    <tr>\n",
       "      <td>5886</td>\n",
       "      <td>13.145111</td>\n",
       "      <td>2007</td>\n",
       "      <td>2017</td>\n",
       "      <td>8</td>\n",
       "      <td>13.1451</td>\n",
       "      <td>19</td>\n",
       "      <td>terraced</td>\n",
       "      <td>individual_heating</td>\n",
       "      <td>management_in_trust</td>\n",
       "      <td>0.0</td>\n",
       "      <td>...</td>\n",
       "      <td>3.0</td>\n",
       "      <td>2.0</td>\n",
       "      <td>2.0</td>\n",
       "      <td>10</td>\n",
       "      <td>9.0</td>\n",
       "      <td>10.0</td>\n",
       "      <td>0</td>\n",
       "      <td>5</td>\n",
       "      <td>0-5</td>\n",
       "      <td>5</td>\n",
       "    </tr>\n",
       "    <tr>\n",
       "      <td>5887</td>\n",
       "      <td>12.605620</td>\n",
       "      <td>2006</td>\n",
       "      <td>2017</td>\n",
       "      <td>8</td>\n",
       "      <td>12.6056</td>\n",
       "      <td>13</td>\n",
       "      <td>terraced</td>\n",
       "      <td>individual_heating</td>\n",
       "      <td>management_in_trust</td>\n",
       "      <td>123.0</td>\n",
       "      <td>...</td>\n",
       "      <td>3.0</td>\n",
       "      <td>3.0</td>\n",
       "      <td>1.0</td>\n",
       "      <td>4</td>\n",
       "      <td>8.0</td>\n",
       "      <td>11.0</td>\n",
       "      <td>5</td>\n",
       "      <td>10</td>\n",
       "      <td>0-5</td>\n",
       "      <td>10</td>\n",
       "    </tr>\n",
       "    <tr>\n",
       "      <td>5888</td>\n",
       "      <td>12.786952</td>\n",
       "      <td>2007</td>\n",
       "      <td>2017</td>\n",
       "      <td>8</td>\n",
       "      <td>12.787</td>\n",
       "      <td>20</td>\n",
       "      <td>terraced</td>\n",
       "      <td>individual_heating</td>\n",
       "      <td>management_in_trust</td>\n",
       "      <td>0.0</td>\n",
       "      <td>...</td>\n",
       "      <td>3.0</td>\n",
       "      <td>2.0</td>\n",
       "      <td>2.0</td>\n",
       "      <td>10</td>\n",
       "      <td>9.0</td>\n",
       "      <td>10.0</td>\n",
       "      <td>0</td>\n",
       "      <td>5</td>\n",
       "      <td>0-5</td>\n",
       "      <td>5</td>\n",
       "    </tr>\n",
       "    <tr>\n",
       "      <td>5889</td>\n",
       "      <td>12.652004</td>\n",
       "      <td>1978</td>\n",
       "      <td>2017</td>\n",
       "      <td>8</td>\n",
       "      <td>12.652</td>\n",
       "      <td>1</td>\n",
       "      <td>corridor</td>\n",
       "      <td>individual_heating</td>\n",
       "      <td>self_management</td>\n",
       "      <td>87.0</td>\n",
       "      <td>...</td>\n",
       "      <td>3.0</td>\n",
       "      <td>3.0</td>\n",
       "      <td>2.0</td>\n",
       "      <td>3</td>\n",
       "      <td>7.0</td>\n",
       "      <td>11.0</td>\n",
       "      <td>0</td>\n",
       "      <td>5</td>\n",
       "      <td>0-5</td>\n",
       "      <td>5</td>\n",
       "    </tr>\n",
       "    <tr>\n",
       "      <td>5890</td>\n",
       "      <td>12.883611</td>\n",
       "      <td>2007</td>\n",
       "      <td>2017</td>\n",
       "      <td>8</td>\n",
       "      <td>12.8836</td>\n",
       "      <td>13</td>\n",
       "      <td>terraced</td>\n",
       "      <td>individual_heating</td>\n",
       "      <td>management_in_trust</td>\n",
       "      <td>0.0</td>\n",
       "      <td>...</td>\n",
       "      <td>3.0</td>\n",
       "      <td>2.0</td>\n",
       "      <td>2.0</td>\n",
       "      <td>10</td>\n",
       "      <td>9.0</td>\n",
       "      <td>10.0</td>\n",
       "      <td>0</td>\n",
       "      <td>5</td>\n",
       "      <td>0-5</td>\n",
       "      <td>5</td>\n",
       "    </tr>\n",
       "  </tbody>\n",
       "</table>\n",
       "<p>4640 rows × 34 columns</p>\n",
       "</div>"
      ],
      "text/plain": [
       "      SalePrice  YearBuilt  YrSold  MonthSold Size(sqf)  Floor HallwayType  \\\n",
       "0     11.860705       2006    2007          8   11.8607      3    terraced   \n",
       "3     12.849320       2006    2007          8       NaN      8    terraced   \n",
       "4     12.306994       1993    2007          8       NaN      3       mixed   \n",
       "5     10.486820       1992    2007          8       NaN      5    corridor   \n",
       "6     11.268533       1992    2007          8   11.2685      2       mixed   \n",
       "...         ...        ...     ...        ...       ...    ...         ...   \n",
       "5886  13.145111       2007    2017          8   13.1451     19    terraced   \n",
       "5887  12.605620       2006    2017          8   12.6056     13    terraced   \n",
       "5888  12.786952       2007    2017          8    12.787     20    terraced   \n",
       "5889  12.652004       1978    2017          8    12.652      1    corridor   \n",
       "5890  12.883611       2007    2017          8   12.8836     13    terraced   \n",
       "\n",
       "             HeatingType        AptManageType  N_Parkinglot(Ground)  ...  \\\n",
       "0     individual_heating  management_in_trust                 111.0  ...   \n",
       "3     individual_heating  management_in_trust                 249.0  ...   \n",
       "4     individual_heating  management_in_trust                 523.0  ...   \n",
       "5     individual_heating  management_in_trust                 200.0  ...   \n",
       "6     individual_heating      self_management                 142.0  ...   \n",
       "...                  ...                  ...                   ...  ...   \n",
       "5886  individual_heating  management_in_trust                   0.0  ...   \n",
       "5887  individual_heating  management_in_trust                 123.0  ...   \n",
       "5888  individual_heating  management_in_trust                   0.0  ...   \n",
       "5889  individual_heating      self_management                  87.0  ...   \n",
       "5890  individual_heating  management_in_trust                   0.0  ...   \n",
       "\n",
       "      N_SchoolNearBy(Middle) N_SchoolNearBy(High) N_SchoolNearBy(University)  \\\n",
       "0                        2.0                  2.0                        2.0   \n",
       "3                        2.0                  1.0                        2.0   \n",
       "4                        3.0                  5.0                        5.0   \n",
       "5                        3.0                  5.0                        5.0   \n",
       "6                        3.0                  4.0                        4.0   \n",
       "...                      ...                  ...                        ...   \n",
       "5886                     3.0                  2.0                        2.0   \n",
       "5887                     3.0                  3.0                        1.0   \n",
       "5888                     3.0                  2.0                        2.0   \n",
       "5889                     3.0                  3.0                        2.0   \n",
       "5890                     3.0                  2.0                        2.0   \n",
       "\n",
       "      N_FacilitiesInApt  N_FacilitiesNearBy(Total)  N_SchoolNearBy(Total)  \\\n",
       "0                     5                        6.0                    9.0   \n",
       "3                     5                        3.0                    7.0   \n",
       "4                     4                       14.0                   17.0   \n",
       "5                     3                       16.0                   17.0   \n",
       "6                     3                        9.0                   14.0   \n",
       "...                 ...                        ...                    ...   \n",
       "5886                 10                        9.0                   10.0   \n",
       "5887                  4                        8.0                   11.0   \n",
       "5888                 10                        9.0                   10.0   \n",
       "5889                  3                        7.0                   11.0   \n",
       "5890                 10                        9.0                   10.0   \n",
       "\n",
       "     TimeToBusStopStart  TimeToBusStopEnd  TimeToSubwayStart  TimeToSubwayEnd  \n",
       "0                     5                10                 10               10  \n",
       "3                     0                 5                0-5                5  \n",
       "4                     0                 5                 15                5  \n",
       "5                     5                10                 10               10  \n",
       "6                     5                10                 15               10  \n",
       "...                 ...               ...                ...              ...  \n",
       "5886                  0                 5                0-5                5  \n",
       "5887                  5                10                0-5               10  \n",
       "5888                  0                 5                0-5                5  \n",
       "5889                  0                 5                0-5                5  \n",
       "5890                  0                 5                0-5                5  \n",
       "\n",
       "[4640 rows x 34 columns]"
      ]
     },
     "execution_count": 136,
     "metadata": {},
     "output_type": "execute_result"
    }
   ],
   "source": [
    "copied_data[copied_data['N_SchoolNearBy(Middle)']>a]"
   ]
  },
  {
   "cell_type": "code",
   "execution_count": 137,
   "metadata": {
    "scrolled": true
   },
   "outputs": [
    {
     "data": {
      "text/plain": [
       "SalePrice                             5891\n",
       "YearBuilt                             5891\n",
       "YrSold                                5891\n",
       "MonthSold                             5891\n",
       "Size(sqf)                             5282\n",
       "Floor                                 5891\n",
       "HallwayType                           5891\n",
       "HeatingType                           5891\n",
       "AptManageType                         5891\n",
       "N_Parkinglot(Ground)                  5891\n",
       "N_Parkinglot(Basement)                5891\n",
       "TimeToBusStop                         5891\n",
       "TimeToSubway                          5891\n",
       "N_APT                                 5891\n",
       "N_manager                             5891\n",
       "N_elevators                           5891\n",
       "SubwayStation                         5891\n",
       "N_FacilitiesNearBy(PublicOffice)      5891\n",
       "N_FacilitiesNearBy(Hospital)          5891\n",
       "N_FacilitiesNearBy(Dpartmentstore)    5891\n",
       "N_FacilitiesNearBy(Mall)              5891\n",
       "N_FacilitiesNearBy(ETC)               5891\n",
       "N_FacilitiesNearBy(Park)              5891\n",
       "N_SchoolNearBy(Elementary)            5891\n",
       "N_SchoolNearBy(Middle)                5891\n",
       "N_SchoolNearBy(High)                  5891\n",
       "N_SchoolNearBy(University)            5891\n",
       "N_FacilitiesInApt                     5891\n",
       "N_FacilitiesNearBy(Total)             5891\n",
       "N_SchoolNearBy(Total)                 5891\n",
       "TimeToBusStopStart                    5891\n",
       "TimeToBusStopEnd                      5891\n",
       "TimeToSubwayStart                     5891\n",
       "TimeToSubwayEnd                       5891\n",
       "dtype: int64"
      ]
     },
     "execution_count": 137,
     "metadata": {},
     "output_type": "execute_result"
    }
   ],
   "source": [
    "copied_data.count()"
   ]
  },
  {
   "cell_type": "markdown",
   "metadata": {},
   "source": [
    "# Handling Categorical Variables "
   ]
  },
  {
   "cell_type": "code",
   "execution_count": 138,
   "metadata": {},
   "outputs": [],
   "source": [
    "data_model = data_model[['SalePrice', 'YearBuilt', 'YrSold', 'MonthSold', 'Size(sqf)', 'Floor', 'HallwayType', 'HeatingType', 'N_Parkinglot(Ground)',\n",
    "                       'TimeToBusStop', 'TimeToSubway', 'N_APT', 'N_elevators','N_FacilitiesNearBy(PublicOffice)', 'N_FacilitiesNearBy(Hospital)',\n",
    "                        'N_FacilitiesNearBy(Dpartmentstore)','N_FacilitiesNearBy(Mall)', 'N_SchoolNearBy(High)', 'N_FacilitiesNearBy(Dpartmentstore)',\n",
    "                        'N_FacilitiesNearBy(Mall)', 'N_SchoolNearBy(High)', 'N_FacilitiesInApt', 'N_FacilitiesNearBy(Total)','TimeToBusStopStart',\n",
    "                        'TimeToBusStopEnd','TimeToSubwayStart', 'TimeToSubwayEnd']]"
   ]
  },
  {
   "cell_type": "code",
   "execution_count": 139,
   "metadata": {},
   "outputs": [
    {
     "data": {
      "text/plain": [
       "SalePrice                             float64\n",
       "YearBuilt                               int64\n",
       "YrSold                                  int64\n",
       "MonthSold                               int64\n",
       "Size(sqf)                               int64\n",
       "Floor                                   int64\n",
       "HallwayType                            object\n",
       "HeatingType                            object\n",
       "N_Parkinglot(Ground)                  float64\n",
       "TimeToBusStop                          object\n",
       "TimeToSubway                           object\n",
       "N_APT                                 float64\n",
       "N_elevators                           float64\n",
       "N_FacilitiesNearBy(PublicOffice)      float64\n",
       "N_FacilitiesNearBy(Hospital)            int64\n",
       "N_FacilitiesNearBy(Dpartmentstore)    float64\n",
       "N_FacilitiesNearBy(Dpartmentstore)    float64\n",
       "N_FacilitiesNearBy(Mall)              float64\n",
       "N_FacilitiesNearBy(Mall)              float64\n",
       "N_SchoolNearBy(High)                  float64\n",
       "N_SchoolNearBy(High)                  float64\n",
       "N_FacilitiesNearBy(Dpartmentstore)    float64\n",
       "N_FacilitiesNearBy(Dpartmentstore)    float64\n",
       "N_FacilitiesNearBy(Mall)              float64\n",
       "N_FacilitiesNearBy(Mall)              float64\n",
       "N_SchoolNearBy(High)                  float64\n",
       "N_SchoolNearBy(High)                  float64\n",
       "N_FacilitiesInApt                       int64\n",
       "N_FacilitiesNearBy(Total)             float64\n",
       "TimeToBusStopStart                      int64\n",
       "TimeToBusStopEnd                        int64\n",
       "TimeToSubwayStart                      object\n",
       "TimeToSubwayEnd                         int64\n",
       "dtype: object"
      ]
     },
     "execution_count": 139,
     "metadata": {},
     "output_type": "execute_result"
    }
   ],
   "source": [
    "data_model.dtypes"
   ]
  },
  {
   "cell_type": "code",
   "execution_count": 140,
   "metadata": {},
   "outputs": [
    {
     "data": {
      "text/plain": [
       "(5891, 35)"
      ]
     },
     "execution_count": 140,
     "metadata": {},
     "output_type": "execute_result"
    }
   ],
   "source": [
    "data_model = pd.get_dummies(columns=['HallwayType'], data=data_model)\n",
    "\n",
    "data_model.shape\n"
   ]
  },
  {
   "cell_type": "code",
   "execution_count": 141,
   "metadata": {},
   "outputs": [],
   "source": [
    "data_model = pd.get_dummies(columns = ['HeatingType'], data=data_model)\n",
    "\n"
   ]
  },
  {
   "cell_type": "code",
   "execution_count": 142,
   "metadata": {},
   "outputs": [],
   "source": [
    "data_model = pd.get_dummies(columns = ['TimeToBusStop'], data=data_model)"
   ]
  },
  {
   "cell_type": "code",
   "execution_count": 143,
   "metadata": {},
   "outputs": [
    {
     "data": {
      "text/plain": [
       "(5891, 38)"
      ]
     },
     "execution_count": 143,
     "metadata": {},
     "output_type": "execute_result"
    }
   ],
   "source": [
    "data_model.shape"
   ]
  },
  {
   "cell_type": "code",
   "execution_count": 144,
   "metadata": {},
   "outputs": [],
   "source": [
    "data_model = pd.get_dummies(columns = ['TimeToSubway'], data=data_model)"
   ]
  },
  {
   "cell_type": "code",
   "execution_count": 145,
   "metadata": {},
   "outputs": [
    {
     "data": {
      "text/plain": [
       "(5891, 42)"
      ]
     },
     "execution_count": 145,
     "metadata": {},
     "output_type": "execute_result"
    }
   ],
   "source": [
    "data_model.shape"
   ]
  },
  {
   "cell_type": "code",
   "execution_count": 146,
   "metadata": {},
   "outputs": [],
   "source": [
    "data_model = pd.get_dummies(columns = ['TimeToSubwayStart'], data=data_model)"
   ]
  },
  {
   "cell_type": "code",
   "execution_count": 147,
   "metadata": {},
   "outputs": [
    {
     "data": {
      "text/plain": [
       "(5891, 46)"
      ]
     },
     "execution_count": 147,
     "metadata": {},
     "output_type": "execute_result"
    }
   ],
   "source": [
    "data_model.shape"
   ]
  },
  {
   "cell_type": "markdown",
   "metadata": {},
   "source": [
    "# Feature Scaling"
   ]
  },
  {
   "cell_type": "code",
   "execution_count": 148,
   "metadata": {},
   "outputs": [
    {
     "data": {
      "text/html": [
       "<div>\n",
       "<style scoped>\n",
       "    .dataframe tbody tr th:only-of-type {\n",
       "        vertical-align: middle;\n",
       "    }\n",
       "\n",
       "    .dataframe tbody tr th {\n",
       "        vertical-align: top;\n",
       "    }\n",
       "\n",
       "    .dataframe thead th {\n",
       "        text-align: right;\n",
       "    }\n",
       "</style>\n",
       "<table border=\"1\" class=\"dataframe\">\n",
       "  <thead>\n",
       "    <tr style=\"text-align: right;\">\n",
       "      <th></th>\n",
       "      <th>SalePrice</th>\n",
       "      <th>YearBuilt</th>\n",
       "      <th>YrSold</th>\n",
       "      <th>MonthSold</th>\n",
       "      <th>Size(sqf)</th>\n",
       "      <th>Floor</th>\n",
       "      <th>N_Parkinglot(Ground)</th>\n",
       "      <th>N_APT</th>\n",
       "      <th>N_elevators</th>\n",
       "      <th>N_FacilitiesNearBy(PublicOffice)</th>\n",
       "      <th>...</th>\n",
       "      <th>TimeToSubway_0-5</th>\n",
       "      <th>TimeToSubway_10~15</th>\n",
       "      <th>TimeToSubway_15~20</th>\n",
       "      <th>TimeToSubway_5~10</th>\n",
       "      <th>TimeToSubway_no_bus_stop_nearby</th>\n",
       "      <th>TimeToSubwayStart_0-5</th>\n",
       "      <th>TimeToSubwayStart_10</th>\n",
       "      <th>TimeToSubwayStart_15</th>\n",
       "      <th>TimeToSubwayStart_5</th>\n",
       "      <th>TimeToSubwayStart_no_bus_stop_nearby</th>\n",
       "    </tr>\n",
       "  </thead>\n",
       "  <tbody>\n",
       "    <tr>\n",
       "      <td>0</td>\n",
       "      <td>11.860705</td>\n",
       "      <td>2006</td>\n",
       "      <td>2007</td>\n",
       "      <td>8</td>\n",
       "      <td>814</td>\n",
       "      <td>3</td>\n",
       "      <td>111.0</td>\n",
       "      <td>3.0</td>\n",
       "      <td>0.0</td>\n",
       "      <td>2.0</td>\n",
       "      <td>...</td>\n",
       "      <td>0</td>\n",
       "      <td>1</td>\n",
       "      <td>0</td>\n",
       "      <td>0</td>\n",
       "      <td>0</td>\n",
       "      <td>0</td>\n",
       "      <td>1</td>\n",
       "      <td>0</td>\n",
       "      <td>0</td>\n",
       "      <td>0</td>\n",
       "    </tr>\n",
       "    <tr>\n",
       "      <td>1</td>\n",
       "      <td>10.845972</td>\n",
       "      <td>1985</td>\n",
       "      <td>2007</td>\n",
       "      <td>8</td>\n",
       "      <td>587</td>\n",
       "      <td>8</td>\n",
       "      <td>80.0</td>\n",
       "      <td>1.0</td>\n",
       "      <td>2.0</td>\n",
       "      <td>5.0</td>\n",
       "      <td>...</td>\n",
       "      <td>0</td>\n",
       "      <td>0</td>\n",
       "      <td>0</td>\n",
       "      <td>1</td>\n",
       "      <td>0</td>\n",
       "      <td>0</td>\n",
       "      <td>0</td>\n",
       "      <td>0</td>\n",
       "      <td>1</td>\n",
       "      <td>0</td>\n",
       "    </tr>\n",
       "    <tr>\n",
       "      <td>2</td>\n",
       "      <td>10.792859</td>\n",
       "      <td>1985</td>\n",
       "      <td>2007</td>\n",
       "      <td>8</td>\n",
       "      <td>587</td>\n",
       "      <td>6</td>\n",
       "      <td>80.0</td>\n",
       "      <td>1.0</td>\n",
       "      <td>2.0</td>\n",
       "      <td>5.0</td>\n",
       "      <td>...</td>\n",
       "      <td>0</td>\n",
       "      <td>0</td>\n",
       "      <td>0</td>\n",
       "      <td>1</td>\n",
       "      <td>0</td>\n",
       "      <td>0</td>\n",
       "      <td>0</td>\n",
       "      <td>0</td>\n",
       "      <td>1</td>\n",
       "      <td>0</td>\n",
       "    </tr>\n",
       "    <tr>\n",
       "      <td>3</td>\n",
       "      <td>12.849320</td>\n",
       "      <td>2006</td>\n",
       "      <td>2007</td>\n",
       "      <td>8</td>\n",
       "      <td>2056</td>\n",
       "      <td>8</td>\n",
       "      <td>249.0</td>\n",
       "      <td>6.0</td>\n",
       "      <td>11.0</td>\n",
       "      <td>1.0</td>\n",
       "      <td>...</td>\n",
       "      <td>1</td>\n",
       "      <td>0</td>\n",
       "      <td>0</td>\n",
       "      <td>0</td>\n",
       "      <td>0</td>\n",
       "      <td>1</td>\n",
       "      <td>0</td>\n",
       "      <td>0</td>\n",
       "      <td>0</td>\n",
       "      <td>0</td>\n",
       "    </tr>\n",
       "    <tr>\n",
       "      <td>4</td>\n",
       "      <td>12.306994</td>\n",
       "      <td>1993</td>\n",
       "      <td>2007</td>\n",
       "      <td>8</td>\n",
       "      <td>1761</td>\n",
       "      <td>3</td>\n",
       "      <td>523.0</td>\n",
       "      <td>8.0</td>\n",
       "      <td>20.0</td>\n",
       "      <td>6.0</td>\n",
       "      <td>...</td>\n",
       "      <td>0</td>\n",
       "      <td>0</td>\n",
       "      <td>1</td>\n",
       "      <td>0</td>\n",
       "      <td>0</td>\n",
       "      <td>0</td>\n",
       "      <td>0</td>\n",
       "      <td>1</td>\n",
       "      <td>0</td>\n",
       "      <td>0</td>\n",
       "    </tr>\n",
       "  </tbody>\n",
       "</table>\n",
       "<p>5 rows × 46 columns</p>\n",
       "</div>"
      ],
      "text/plain": [
       "   SalePrice  YearBuilt  YrSold  MonthSold  Size(sqf)  Floor  \\\n",
       "0  11.860705       2006    2007          8        814      3   \n",
       "1  10.845972       1985    2007          8        587      8   \n",
       "2  10.792859       1985    2007          8        587      6   \n",
       "3  12.849320       2006    2007          8       2056      8   \n",
       "4  12.306994       1993    2007          8       1761      3   \n",
       "\n",
       "   N_Parkinglot(Ground)  N_APT  N_elevators  N_FacilitiesNearBy(PublicOffice)  \\\n",
       "0                 111.0    3.0          0.0                               2.0   \n",
       "1                  80.0    1.0          2.0                               5.0   \n",
       "2                  80.0    1.0          2.0                               5.0   \n",
       "3                 249.0    6.0         11.0                               1.0   \n",
       "4                 523.0    8.0         20.0                               6.0   \n",
       "\n",
       "   ...  TimeToSubway_0-5  TimeToSubway_10~15  TimeToSubway_15~20  \\\n",
       "0  ...                 0                   1                   0   \n",
       "1  ...                 0                   0                   0   \n",
       "2  ...                 0                   0                   0   \n",
       "3  ...                 1                   0                   0   \n",
       "4  ...                 0                   0                   1   \n",
       "\n",
       "   TimeToSubway_5~10  TimeToSubway_no_bus_stop_nearby  TimeToSubwayStart_0-5  \\\n",
       "0                  0                                0                      0   \n",
       "1                  1                                0                      0   \n",
       "2                  1                                0                      0   \n",
       "3                  0                                0                      1   \n",
       "4                  0                                0                      0   \n",
       "\n",
       "   TimeToSubwayStart_10  TimeToSubwayStart_15  TimeToSubwayStart_5  \\\n",
       "0                     1                     0                    0   \n",
       "1                     0                     0                    1   \n",
       "2                     0                     0                    1   \n",
       "3                     0                     0                    0   \n",
       "4                     0                     1                    0   \n",
       "\n",
       "   TimeToSubwayStart_no_bus_stop_nearby  \n",
       "0                                     0  \n",
       "1                                     0  \n",
       "2                                     0  \n",
       "3                                     0  \n",
       "4                                     0  \n",
       "\n",
       "[5 rows x 46 columns]"
      ]
     },
     "execution_count": 148,
     "metadata": {},
     "output_type": "execute_result"
    }
   ],
   "source": [
    "data_model.head()"
   ]
  },
  {
   "cell_type": "code",
   "execution_count": 149,
   "metadata": {},
   "outputs": [
    {
     "data": {
      "text/plain": [
       "(5891, 46)"
      ]
     },
     "execution_count": 149,
     "metadata": {},
     "output_type": "execute_result"
    }
   ],
   "source": [
    "data_model.shape"
   ]
  },
  {
   "cell_type": "code",
   "execution_count": 150,
   "metadata": {},
   "outputs": [],
   "source": [
    "x = data_model.drop('SalePrice', axis=1)\n",
    "\n",
    "y =  data_model['SalePrice']"
   ]
  },
  {
   "cell_type": "code",
   "execution_count": 151,
   "metadata": {},
   "outputs": [],
   "source": [
    "from sklearn.preprocessing import MinMaxScaler\n",
    "\n",
    "scaler = MinMaxScaler()"
   ]
  },
  {
   "cell_type": "code",
   "execution_count": 152,
   "metadata": {},
   "outputs": [],
   "source": [
    "x = scaler.fit_transform(x)"
   ]
  },
  {
   "cell_type": "code",
   "execution_count": 153,
   "metadata": {},
   "outputs": [],
   "source": [
    "from sklearn.model_selection import train_test_split"
   ]
  },
  {
   "cell_type": "code",
   "execution_count": 154,
   "metadata": {},
   "outputs": [
    {
     "name": "stdout",
     "output_type": "stream",
     "text": [
      "Training set size: (4712, 45) and Testing set size: (1179, 45)\n"
     ]
    }
   ],
   "source": [
    "x_train, x_test, y_train, y_test = train_test_split(x, y, test_size=0.20, random_state=42)\n",
    "print(\"Training set size: {} and Testing set size: {}\".format(x_train.shape, x_test.shape))"
   ]
  },
  {
   "cell_type": "code",
   "execution_count": 155,
   "metadata": {},
   "outputs": [],
   "source": [
    "from sklearn.linear_model import LinearRegression"
   ]
  },
  {
   "cell_type": "code",
   "execution_count": 156,
   "metadata": {},
   "outputs": [],
   "source": [
    "lr_model = LinearRegression()"
   ]
  },
  {
   "cell_type": "code",
   "execution_count": 157,
   "metadata": {},
   "outputs": [
    {
     "name": "stdout",
     "output_type": "stream",
     "text": [
      "Accuracy - Training Set: 88.5% and Accuracy - Test Set: 87.28%\n",
      "None\n"
     ]
    }
   ],
   "source": [
    "lr_model.fit(x_train, y_train)\n",
    "\n",
    "print(print(\"Accuracy - Training Set: {}% and Accuracy - Test Set: {}%\".format(round(lr_model.score(x_train, y_train),4)*100, round(lr_model.score(x_test, y_test),4)*100)))"
   ]
  },
  {
   "cell_type": "code",
   "execution_count": null,
   "metadata": {},
   "outputs": [],
   "source": []
  }
 ],
 "metadata": {
  "kernelspec": {
   "display_name": "Python 3",
   "language": "python",
   "name": "python3"
  },
  "language_info": {
   "codemirror_mode": {
    "name": "ipython",
    "version": 3
   },
   "file_extension": ".py",
   "mimetype": "text/x-python",
   "name": "python",
   "nbconvert_exporter": "python",
   "pygments_lexer": "ipython3",
   "version": "3.7.4"
  }
 },
 "nbformat": 4,
 "nbformat_minor": 2
}
